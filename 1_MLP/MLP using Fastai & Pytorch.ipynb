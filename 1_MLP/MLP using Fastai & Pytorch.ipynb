{
 "cells": [
  {
   "cell_type": "markdown",
   "metadata": {},
   "source": [
    "In this notebook, we are going to build a neural network(multilayer perceptron) using FastAI v2 and Pytorch and successfully train it to recognize digits in the image. [Pytorch](https://pytorch.org/) is a very popular deep learning framework released by Facebook, and [FastAI v2](https://docs.fast.ai/) is a library which simplifies training fast and accurate neural nets using modern best practices. It's based on research into deep learning best practices undertaken at [fast.ai](https://www.fast.ai/), including \"out of the box\" support for vision, text, tabular, and collab (collaborative filtering) models. If you're looking for the source code, head over to the [fastai repo](https://github.com/fastai/fastai) on GitHub. This notebook will guide for build a neural network with this library. If you want to understand what is a Multi-layer perceptron, you can look at my [previous notebook](https://github.com/aayushmnit/Deep_learning_explorations/blob/master/1_MLP_from_scratch/Building_neural_network_from_scratch.ipynb) where I built a Multi-layer perceptron from scratch using numpy and [other notebook](https://github.com/aayushmnit/Deep_learning_explorations/blob/master/2_MLP_tensorflow/my1stNN.ipynb) where I built the same model using TensorFlow. As you will notice, the amount of code which is needed to write this notebook is way less than what's been used in previous notebooks, all thanks to fastai library which lets us focus more on solving problems than writing code.\n",
    "\n"
   ]
  },
  {
   "cell_type": "markdown",
   "metadata": {
    "heading_collapsed": true
   },
   "source": [
    "## BoilerPlate command"
   ]
  },
  {
   "cell_type": "markdown",
   "metadata": {
    "hidden": true
   },
   "source": [
    "It’s standard practice to start the notebook with the following three lines; they ensure that any edits to libraries you make are reloaded here automatically, and also that any charts or images displayed are shown in this notebook.\n",
    "\n"
   ]
  },
  {
   "cell_type": "code",
   "execution_count": 1,
   "metadata": {
    "ExecuteTime": {
     "end_time": "2020-09-21T08:37:10.050663Z",
     "start_time": "2020-09-21T08:37:09.802626Z"
    },
    "hidden": true
   },
   "outputs": [],
   "source": [
    "%reload_ext autoreload\n",
    "%autoreload 2\n",
    "%matplotlib inline"
   ]
  },
  {
   "cell_type": "markdown",
   "metadata": {
    "heading_collapsed": true
   },
   "source": [
    "## Importing Fast AI library"
   ]
  },
  {
   "cell_type": "markdown",
   "metadata": {
    "hidden": true
   },
   "source": [
    "Let’s import fastai library and define our batch_size parameter to 128. Usually, image databases are enormous, so we need to feed these images into a GPU using batches, batch size 128 means that we will feed 128 images at once to update parameters of our deep learning model. If you are running out of memory because of smaller GPU RAM, you can reduce batch size to 64 or 32."
   ]
  },
  {
   "cell_type": "code",
   "execution_count": 2,
   "metadata": {
    "ExecuteTime": {
     "end_time": "2020-09-21T08:37:11.776418Z",
     "start_time": "2020-09-21T08:37:10.053085Z"
    },
    "hidden": true
   },
   "outputs": [],
   "source": [
    "from fastai.vision.all import *\n",
    "bs=256"
   ]
  },
  {
   "cell_type": "markdown",
   "metadata": {
    "heading_collapsed": true
   },
   "source": [
    "## Downloading Dataset"
   ]
  },
  {
   "cell_type": "markdown",
   "metadata": {
    "hidden": true
   },
   "source": [
    "We will start by downloading MNIST handwritten dataset from [fastai dataset](https://course.fast.ai/datasets) page. MNIST is a standard dataset of small (28x28) handwritten grayscale digits, developed in the 1990s for testing the most sophisticated models of the day; today, often used as a basic “hello world” for introducing deep learning. This fast.ai datasets version uses a standard PNG format instead of the special binary format of the original so that you can use the regular data pipelines in most libraries; if you want to use just a single input channel like the original, simply pick a single slice from the channels axis."
   ]
  },
  {
   "cell_type": "code",
   "execution_count": 3,
   "metadata": {
    "ExecuteTime": {
     "end_time": "2020-09-21T08:37:11.820142Z",
     "start_time": "2020-09-21T08:37:11.778791Z"
    },
    "hidden": true
   },
   "outputs": [
    {
     "data": {
      "text/plain": [
       "Path('../data/mnist_png')"
      ]
     },
     "execution_count": 3,
     "metadata": {},
     "output_type": "execute_result"
    }
   ],
   "source": [
    "path = untar_data(URLs.MNIST, dest=\"../data/\");\n",
    "path"
   ]
  },
  {
   "cell_type": "markdown",
   "metadata": {
    "hidden": true
   },
   "source": [
    "By running the above command, the data is downloaded and stored in the path shown above. Let's look at how the data directory is set up as we have to import data from these directories. Let's start by looking at path directory, and we can see below that our data already have training and testing folder."
   ]
  },
  {
   "cell_type": "code",
   "execution_count": 4,
   "metadata": {
    "ExecuteTime": {
     "end_time": "2020-09-21T08:37:11.846291Z",
     "start_time": "2020-09-21T08:37:11.823072Z"
    },
    "hidden": true
   },
   "outputs": [
    {
     "data": {
      "text/plain": [
       "(#3) [Path('../data/mnist_png/models'),Path('../data/mnist_png/testing'),Path('../data/mnist_png/training')]"
      ]
     },
     "execution_count": 4,
     "metadata": {},
     "output_type": "execute_result"
    }
   ],
   "source": [
    "path.ls()"
   ]
  },
  {
   "cell_type": "markdown",
   "metadata": {
    "hidden": true
   },
   "source": [
    "Let's look inside the training folder. Data is split by digits 1 to 9 in a different folder."
   ]
  },
  {
   "cell_type": "code",
   "execution_count": 5,
   "metadata": {
    "ExecuteTime": {
     "end_time": "2020-09-21T08:37:11.873271Z",
     "start_time": "2020-09-21T08:37:11.847855Z"
    },
    "hidden": true
   },
   "outputs": [
    {
     "data": {
      "text/plain": [
       "(#10) [Path('../data/mnist_png/training/0'),Path('../data/mnist_png/training/1'),Path('../data/mnist_png/training/2'),Path('../data/mnist_png/training/3'),Path('../data/mnist_png/training/4'),Path('../data/mnist_png/training/5'),Path('../data/mnist_png/training/6'),Path('../data/mnist_png/training/7'),Path('../data/mnist_png/training/8'),Path('../data/mnist_png/training/9')]"
      ]
     },
     "execution_count": 5,
     "metadata": {},
     "output_type": "execute_result"
    }
   ],
   "source": [
    "(path/'training').ls()"
   ]
  },
  {
   "cell_type": "markdown",
   "metadata": {
    "ExecuteTime": {
     "end_time": "2019-01-05T21:30:47.870172Z",
     "start_time": "2019-01-05T21:30:47.663154Z"
    },
    "hidden": true
   },
   "source": [
    "Within each digit folder, we have images."
   ]
  },
  {
   "cell_type": "code",
   "execution_count": 6,
   "metadata": {
    "ExecuteTime": {
     "end_time": "2020-09-21T08:37:11.933551Z",
     "start_time": "2020-09-21T08:37:11.875478Z"
    },
    "hidden": true
   },
   "outputs": [
    {
     "data": {
      "text/plain": [
       "(#4) [Path('../data/mnist_png/training/0/1000.png'),Path('../data/mnist_png/training/0/10005.png'),Path('../data/mnist_png/training/0/10010.png'),Path('../data/mnist_png/training/0/10022.png')]"
      ]
     },
     "execution_count": 6,
     "metadata": {},
     "output_type": "execute_result"
    }
   ],
   "source": [
    "(path/'training/0').ls()[1:5]"
   ]
  },
  {
   "cell_type": "markdown",
   "metadata": {
    "heading_collapsed": true
   },
   "source": [
    "## Importing Data"
   ]
  },
  {
   "cell_type": "markdown",
   "metadata": {
    "hidden": true
   },
   "source": [
    "Now we have an understanding of how our data directory is set up; we will use FastAI amazing [data block API](https://docs.fast.ai/vision.data) to import data and FastAI [image transformation functions](https://docs.fast.ai/vision.transform.html) to do data augmentation. Let's start by defining what transformation we want to do."
   ]
  },
  {
   "cell_type": "code",
   "execution_count": 7,
   "metadata": {
    "ExecuteTime": {
     "end_time": "2020-09-21T08:37:11.951830Z",
     "start_time": "2020-09-21T08:37:11.935483Z"
    },
    "hidden": true
   },
   "outputs": [],
   "source": [
    "ds_tfms = aug_transforms(do_flip=False, max_rotate=15, max_zoom=1.1, max_lighting=0.2, max_warp=0.2)"
   ]
  },
  {
   "cell_type": "markdown",
   "metadata": {
    "hidden": true
   },
   "source": [
    "In **get_transforms** function, we can define all the transformations we want to do. FastAI makes doing data augmentation incredibly easy as all the transformation can be passed in one function and uses an incredibly fast implementation. Let's look at each argument given in the function.\n",
    "\n",
    "- *do_flip=False, flip_vert=False*: We don't want to flip digits in both vertical and horizontal direction as that is not a good idea with digit data. \n",
    "- *max_rotate= 15*: Rotates images randomly while importing by a maximum of 15 degrees in both clockwise and anti-clockwise direction\n",
    "- *max_zoom=1.1*: Zoomin/Zoomout images by 10% of the original image \n",
    "- *max_lighting=0.2*: Random lightning and contrast change controlled by max_lighting will be applied\n",
    "- *max_warp=0.2*: Random symmetric warp of magnitude between -max_warp and +max_warp is applied with probability p_affine which is defaulted to 0.75 in this case.\n",
    "\n",
    "Now that we have defined what transformation we want to do on our input images let's start by defining out data batches or databunch as FastAI will call it. Image data sets are massive in size, so we never want to import the entire dataset in memory, instead of that we define a databunch which will let us load batches of data and do required transformation on the fly."
   ]
  },
  {
   "cell_type": "code",
   "execution_count": 8,
   "metadata": {
    "ExecuteTime": {
     "end_time": "2020-09-21T08:37:21.581074Z",
     "start_time": "2020-09-21T08:37:11.955222Z"
    }
   },
   "outputs": [],
   "source": [
    "dls = ImageDataLoaders.from_folder(\n",
    "    path, \n",
    "    train='training',\n",
    "    valid_pct=0.2, \n",
    "    seed=42,\n",
    "    item_tfms=Resize(28),\n",
    "    batch_tfms=ds_tfms,\n",
    "    bs=bs\n",
    ")"
   ]
  },
  {
   "cell_type": "code",
   "execution_count": 9,
   "metadata": {
    "ExecuteTime": {
     "end_time": "2020-09-21T08:37:25.567541Z",
     "start_time": "2020-09-21T08:37:21.585898Z"
    },
    "hidden": true
   },
   "outputs": [],
   "source": [
    "mnist = DataBlock(blocks=(ImageBlock(cls=PILImageBW), CategoryBlock), \n",
    "                  get_items=get_image_files, \n",
    "                  splitter=RandomSplitter(0.2),\n",
    "                  get_y=parent_label,\n",
    "                  item_tfms=Resize(28),\n",
    "                  batch_tfms=ds_tfms)\n",
    "dls = mnist.dataloaders(path, bs=bs)"
   ]
  },
  {
   "cell_type": "code",
   "execution_count": 10,
   "metadata": {
    "ExecuteTime": {
     "end_time": "2020-09-21T08:37:30.333161Z",
     "start_time": "2020-09-21T08:37:25.569224Z"
    },
    "hidden": true
   },
   "outputs": [
    {
     "name": "stdout",
     "output_type": "stream",
     "text": [
      "(#10) ['0','1','2','3','4','5','6','7','8','9']\n",
      "10\n"
     ]
    },
    {
     "data": {
      "image/png": "[encoded data removed]",
      "text/plain": [
       "<Figure size 720x432 with 24 Axes>"
      ]
     },
     "metadata": {
      "needs_background": "light"
     },
     "output_type": "display_data"
    }
   ],
   "source": [
    "print(dls.vocab) ## Prints class labels\n",
    "print(dls.c) ## Prints number of classes\n",
    "dls.show_batch(max_n=24,figsize=(10,6)) ## Show sample data"
   ]
  },
  {
   "cell_type": "markdown",
   "metadata": {},
   "source": [
    "## Defining Multilayerperceptron using Pytorch"
   ]
  },
  {
   "cell_type": "markdown",
   "metadata": {},
   "source": [
    "Now we have defined our databunch. Let's define our Multilayer perceptron model using Pytorch. For fully connected layers we used nn.Linear function and to apply non-linearity we use ReLU transformation. In Pytorch, we only need to define the *forward* function, and *backward* function is automatically defined using autograd. If you are new to Pytorch, they provide excellent documentation and tutorials. I would recommend you to go through this [DEEP LEARNING WITH PYTORCH: A 60 MINUTE BLITZ](https://pytorch.org/tutorials/beginner/deep_learning_60min_blitz.html) tutorial, it will cover all the basics needed to understand what's happening below."
   ]
  },
  {
   "cell_type": "code",
   "execution_count": 11,
   "metadata": {
    "ExecuteTime": {
     "end_time": "2020-09-21T08:37:30.367707Z",
     "start_time": "2020-09-21T08:37:30.337411Z"
    }
   },
   "outputs": [],
   "source": [
    "class Mnist_NN(nn.Module):\n",
    "    def __init__(self):\n",
    "        super().__init__()\n",
    "        self.lin1 = nn.Linear(784, 512, bias=True) \n",
    "        self.lin2 = nn.Linear(512, 256, bias=True)\n",
    "        self.lin3 = nn.Linear(256, 10, bias=True)\n",
    "\n",
    "    def forward(self, xb):\n",
    "        x = xb.view(-1,784) ## Equivalent to Flatten in Keras 28*28 -> 784\n",
    "        x = F.relu(self.lin1(x))\n",
    "        x = F.relu(self.lin2(x))\n",
    "        return self.lin3(x)"
   ]
  },
  {
   "cell_type": "markdown",
   "metadata": {},
   "source": [
    "## Training the model"
   ]
  },
  {
   "cell_type": "markdown",
   "metadata": {},
   "source": [
    "So now we have defined our Model, we need to train it. We can use FastAI's *Learner* function which makes it easier to leverage modern enhancement in optimization methods and many other neat tricks like  1-Cycle style training as highlighted in [Leslie Smith's paper](https://arxiv.org/pdf/1803.09820.pdf) for faster convergence. Let's define our Learner class -"
   ]
  },
  {
   "cell_type": "code",
   "execution_count": 12,
   "metadata": {
    "ExecuteTime": {
     "end_time": "2020-09-21T08:37:30.394070Z",
     "start_time": "2020-09-21T08:37:30.369735Z"
    }
   },
   "outputs": [],
   "source": [
    "## Defining the learner\n",
    "model = Mnist_NN().cuda(0)\n",
    "mlp_learner = Learner(dls = dls, model=model, pretrained=False, loss_func=F.cross_entropy, metrics=accuracy)"
   ]
  },
  {
   "cell_type": "markdown",
   "metadata": {},
   "source": [
    "Let's understand what happening by the above arguments-\n",
    "- *data=data* - Passing our Databunch function\n",
    "- *model=Mnist_NN()* - Passing our defined MLP model Mnist_NN\n",
    "- *loss_func=nn.CrossEntropyLoss()* - Defining loss function to optimize, in this case we, are using [cross entropy loss](https://pytorch.org/docs/stable/nn.html?highlight=loss%20crossentropy#torch.nn.CrossEntropyLoss)\n",
    "- *metrics=accuracy* - It's just for printing purposes while training, this argument have nothing to do with training\n",
    "\n",
    "*Learner* class provides provide a great function to find the ideal learning rate to start with while training your Deep learning model. Let's try to find the ideal learning rate."
   ]
  },
  {
   "cell_type": "code",
   "execution_count": 13,
   "metadata": {
    "ExecuteTime": {
     "end_time": "2020-09-21T08:38:02.311793Z",
     "start_time": "2020-09-21T08:37:30.395855Z"
    }
   },
   "outputs": [
    {
     "data": {
      "text/html": [],
      "text/plain": [
       "<IPython.core.display.HTML object>"
      ]
     },
     "metadata": {},
     "output_type": "display_data"
    },
    {
     "data": {
      "text/plain": [
       "SuggestedLRs(lr_min=0.0033113110810518267, lr_steep=0.002511886414140463)"
      ]
     },
     "execution_count": 13,
     "metadata": {},
     "output_type": "execute_result"
    },
    {
     "data": {
      "image/png": "[encoded data removed]",
      "text/plain": [
       "<Figure size 432x288 with 1 Axes>"
      ]
     },
     "metadata": {
      "needs_background": "light"
     },
     "output_type": "display_data"
    }
   ],
   "source": [
    "## Finidng Ideal learning late\n",
    "mlp_learner.lr_find()"
   ]
  },
  {
   "cell_type": "markdown",
   "metadata": {},
   "source": [
    "Ideally, we want to find the point where there is the maximum slope. In this case, that point is 1e-2. So we will start with 1e-2 as our learning rate and do five epochs using a *fit_one_cycle* function which uses a 1-cycle style training approach as highlighted in [Leslie Smith's paper](https://arxiv.org/pdf/1803.09820.pdf) for faster convergence. Also, FastAI shows' [tqdm](https://tqdm.github.io/) style progress bar while training and at the end of training, it starts showing the table which shows the progress of loss functions and metrics we have defined on validation data."
   ]
  },
  {
   "cell_type": "code",
   "execution_count": 14,
   "metadata": {
    "ExecuteTime": {
     "end_time": "2020-09-21T08:44:57.310376Z",
     "start_time": "2020-09-21T08:38:02.313594Z"
    }
   },
   "outputs": [
    {
     "data": {
      "text/html": [
       "<table border=\"1\" class=\"dataframe\">\n",
       "  <thead>\n",
       "    <tr style=\"text-align: left;\">\n",
       "      <th>epoch</th>\n",
       "      <th>train_loss</th>\n",
       "      <th>valid_loss</th>\n",
       "      <th>accuracy</th>\n",
       "      <th>time</th>\n",
       "    </tr>\n",
       "  </thead>\n",
       "  <tbody>\n",
       "    <tr>\n",
       "      <td>0</td>\n",
       "      <td>0.403407</td>\n",
       "      <td>0.150327</td>\n",
       "      <td>0.953786</td>\n",
       "      <td>01:34</td>\n",
       "    </tr>\n",
       "    <tr>\n",
       "      <td>1</td>\n",
       "      <td>0.236453</td>\n",
       "      <td>0.124954</td>\n",
       "      <td>0.963286</td>\n",
       "      <td>01:23</td>\n",
       "    </tr>\n",
       "    <tr>\n",
       "      <td>2</td>\n",
       "      <td>0.162708</td>\n",
       "      <td>0.083142</td>\n",
       "      <td>0.974429</td>\n",
       "      <td>01:19</td>\n",
       "    </tr>\n",
       "    <tr>\n",
       "      <td>3</td>\n",
       "      <td>0.110618</td>\n",
       "      <td>0.060018</td>\n",
       "      <td>0.981071</td>\n",
       "      <td>01:19</td>\n",
       "    </tr>\n",
       "    <tr>\n",
       "      <td>4</td>\n",
       "      <td>0.088329</td>\n",
       "      <td>0.050691</td>\n",
       "      <td>0.984786</td>\n",
       "      <td>01:17</td>\n",
       "    </tr>\n",
       "  </tbody>\n",
       "</table>"
      ],
      "text/plain": [
       "<IPython.core.display.HTML object>"
      ]
     },
     "metadata": {},
     "output_type": "display_data"
    }
   ],
   "source": [
    "mlp_learner.fit_one_cycle(5,1e-2)"
   ]
  },
  {
   "cell_type": "markdown",
   "metadata": {
    "ExecuteTime": {
     "end_time": "2019-01-05T23:04:57.198536Z",
     "start_time": "2019-01-05T23:04:56.958310Z"
    }
   },
   "source": [
    "As we can see we are reaching 98.4% accuracy just by using simple Multilayerperceptron in 5 epochs."
   ]
  },
  {
   "cell_type": "markdown",
   "metadata": {},
   "source": [
    "## Conclusion"
   ]
  },
  {
   "cell_type": "markdown",
   "metadata": {
    "ExecuteTime": {
     "end_time": "2019-01-05T23:05:50.336748Z",
     "start_time": "2019-01-05T23:05:50.083289Z"
    }
   },
   "source": [
    "Fast.ai is an excellent initiative by [Jeremy Howard](https://twitter.com/jeremyphoward) and his team, and I believe fastai library can genuinely achieve the motive of democratizing deep learning to everyone by making building deep learning models super simple.\n",
    "\n",
    "I hope you enjoyed reading, and feel free to use my code to try it out for your purposes. Also, if there is any feedback on code or just the blog post, feel free to reach out on [LinkedIn](https://www.linkedin.com/in/aayushmnit/) or email me at aayushmnit@gmail.com."
   ]
  }
 ],
 "metadata": {
  "anaconda-cloud": {},
  "kernelspec": {
   "display_name": "Python 3",
   "language": "python",
   "name": "python3"
  },
  "language_info": {
   "codemirror_mode": {
    "name": "ipython",
    "version": 3
   },
   "file_extension": ".py",
   "mimetype": "text/x-python",
   "name": "python",
   "nbconvert_exporter": "python",
   "pygments_lexer": "ipython3",
   "version": "3.8.5"
  },
  "toc": {
   "base_numbering": 1,
   "nav_menu": {},
   "number_sections": true,
   "sideBar": true,
   "skip_h1_title": false,
   "title_cell": "Table of Contents",
   "title_sidebar": "Contents",
   "toc_cell": false,
   "toc_position": {
    "height": "calc(100% - 180px)",
    "left": "10px",
    "top": "150px",
    "width": "409.6px"
   },
   "toc_section_display": true,
   "toc_window_display": true
  }
 },
 "nbformat": 4,
 "nbformat_minor": 2
}
