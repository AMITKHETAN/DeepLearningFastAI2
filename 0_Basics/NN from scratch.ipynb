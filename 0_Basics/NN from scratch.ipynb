{
 "cells": [
  {
   "cell_type": "markdown",
   "metadata": {
    "heading_collapsed": true
   },
   "source": [
    "## Import Libraries"
   ]
  },
  {
   "cell_type": "code",
   "execution_count": 110,
   "metadata": {
    "ExecuteTime": {
     "end_time": "2020-11-03T19:54:17.911582Z",
     "start_time": "2020-11-03T19:54:17.906135Z"
    },
    "hidden": true
   },
   "outputs": [],
   "source": [
    "from fastai.vision.all import *\n",
    "matplotlib.rc('image', cmap='Greys')\n",
    "def plot_function(f, tx=None, ty=None, title=None, min=-2, max=2, figsize=(6,4)):\n",
    "    x = torch.linspace(min,max)\n",
    "    fig,ax = plt.subplots(figsize=figsize)\n",
    "    ax.plot(x,f(x))\n",
    "    if tx is not None: ax.set_xlabel(tx)\n",
    "    if ty is not None: ax.set_ylabel(ty)\n",
    "    if title is not None: ax.set_title(title)"
   ]
  },
  {
   "cell_type": "markdown",
   "metadata": {
    "heading_collapsed": true
   },
   "source": [
    "## Download & Load dataset"
   ]
  },
  {
   "cell_type": "code",
   "execution_count": 13,
   "metadata": {
    "ExecuteTime": {
     "end_time": "2020-11-03T19:19:23.445651Z",
     "start_time": "2020-11-03T19:19:23.435177Z"
    },
    "hidden": true
   },
   "outputs": [
    {
     "data": {
      "text/plain": [
       "(#3) [Path('labels.csv'),Path('valid'),Path('train')]"
      ]
     },
     "execution_count": 13,
     "metadata": {},
     "output_type": "execute_result"
    }
   ],
   "source": [
    "# Untar is a fastAI function to download data from a URL and return the path of the folder where its downloaded\n",
    "path = untar_data(URLs.MNIST_SAMPLE)\n",
    "Path.BASE_PATH = path \n",
    "#Checking the contents by using FastAI Path library extension\n",
    "path.ls()"
   ]
  },
  {
   "cell_type": "code",
   "execution_count": 215,
   "metadata": {
    "ExecuteTime": {
     "end_time": "2020-11-03T20:23:32.023471Z",
     "start_time": "2020-11-03T20:23:31.923744Z"
    },
    "hidden": true
   },
   "outputs": [],
   "source": [
    "## Getting the file location of files withing 3s and 7s\n",
    "threes = (path/'train/3').ls().sorted()\n",
    "sevens = (path/'train/7').ls().sorted()"
   ]
  },
  {
   "cell_type": "code",
   "execution_count": 28,
   "metadata": {
    "ExecuteTime": {
     "end_time": "2020-11-03T19:21:56.140284Z",
     "start_time": "2020-11-03T19:21:56.133834Z"
    },
    "hidden": true
   },
   "outputs": [
    {
     "data": {
      "image/png": "[encoded data removed]",
      "text/plain": [
       "<PIL.PngImagePlugin.PngImageFile image mode=L size=28x28 at 0x7F806B954670>"
      ]
     },
     "execution_count": 28,
     "metadata": {},
     "output_type": "execute_result"
    }
   ],
   "source": [
    "## Lets look at one image\n",
    "Image.open(threes[1])"
   ]
  },
  {
   "cell_type": "code",
   "execution_count": 29,
   "metadata": {
    "ExecuteTime": {
     "end_time": "2020-11-03T19:22:11.000787Z",
     "start_time": "2020-11-03T19:22:10.995000Z"
    },
    "hidden": true
   },
   "outputs": [
    {
     "data": {
      "text/plain": [
       "(28, 28)"
      ]
     },
     "execution_count": 29,
     "metadata": {},
     "output_type": "execute_result"
    }
   ],
   "source": [
    "Image.open(threes[1]).shape"
   ]
  },
  {
   "cell_type": "code",
   "execution_count": 41,
   "metadata": {
    "ExecuteTime": {
     "end_time": "2020-11-03T19:24:31.836906Z",
     "start_time": "2020-11-03T19:24:31.771139Z"
    },
    "hidden": true
   },
   "outputs": [
    {
     "data": {
      "text/html": [
       "<style  type=\"text/css\" >\n",
       "#T_32f26114_1e0a_11eb_8d1b_9d76a32b2785row0_col0,#T_32f26114_1e0a_11eb_8d1b_9d76a32b2785row0_col1,#T_32f26114_1e0a_11eb_8d1b_9d76a32b2785row0_col2,#T_32f26114_1e0a_11eb_8d1b_9d76a32b2785row0_col3,#T_32f26114_1e0a_11eb_8d1b_9d76a32b2785row0_col4,#T_32f26114_1e0a_11eb_8d1b_9d76a32b2785row0_col5,#T_32f26114_1e0a_11eb_8d1b_9d76a32b2785row0_col6,#T_32f26114_1e0a_11eb_8d1b_9d76a32b2785row0_col7,#T_32f26114_1e0a_11eb_8d1b_9d76a32b2785row0_col8,#T_32f26114_1e0a_11eb_8d1b_9d76a32b2785row0_col9,#T_32f26114_1e0a_11eb_8d1b_9d76a32b2785row0_col10,#T_32f26114_1e0a_11eb_8d1b_9d76a32b2785row0_col11,#T_32f26114_1e0a_11eb_8d1b_9d76a32b2785row0_col12,#T_32f26114_1e0a_11eb_8d1b_9d76a32b2785row0_col13,#T_32f26114_1e0a_11eb_8d1b_9d76a32b2785row0_col14,#T_32f26114_1e0a_11eb_8d1b_9d76a32b2785row0_col15,#T_32f26114_1e0a_11eb_8d1b_9d76a32b2785row0_col16,#T_32f26114_1e0a_11eb_8d1b_9d76a32b2785row1_col0,#T_32f26114_1e0a_11eb_8d1b_9d76a32b2785row1_col1,#T_32f26114_1e0a_11eb_8d1b_9d76a32b2785row1_col2,#T_32f26114_1e0a_11eb_8d1b_9d76a32b2785row1_col3,#T_32f26114_1e0a_11eb_8d1b_9d76a32b2785row1_col4,#T_32f26114_1e0a_11eb_8d1b_9d76a32b2785row1_col15,#T_32f26114_1e0a_11eb_8d1b_9d76a32b2785row1_col16,#T_32f26114_1e0a_11eb_8d1b_9d76a32b2785row2_col0,#T_32f26114_1e0a_11eb_8d1b_9d76a32b2785row2_col1,#T_32f26114_1e0a_11eb_8d1b_9d76a32b2785row2_col2,#T_32f26114_1e0a_11eb_8d1b_9d76a32b2785row2_col15,#T_32f26114_1e0a_11eb_8d1b_9d76a32b2785row2_col16,#T_32f26114_1e0a_11eb_8d1b_9d76a32b2785row3_col0,#T_32f26114_1e0a_11eb_8d1b_9d76a32b2785row3_col15,#T_32f26114_1e0a_11eb_8d1b_9d76a32b2785row3_col16,#T_32f26114_1e0a_11eb_8d1b_9d76a32b2785row4_col0,#T_32f26114_1e0a_11eb_8d1b_9d76a32b2785row4_col6,#T_32f26114_1e0a_11eb_8d1b_9d76a32b2785row4_col7,#T_32f26114_1e0a_11eb_8d1b_9d76a32b2785row4_col8,#T_32f26114_1e0a_11eb_8d1b_9d76a32b2785row4_col9,#T_32f26114_1e0a_11eb_8d1b_9d76a32b2785row4_col10,#T_32f26114_1e0a_11eb_8d1b_9d76a32b2785row4_col15,#T_32f26114_1e0a_11eb_8d1b_9d76a32b2785row4_col16,#T_32f26114_1e0a_11eb_8d1b_9d76a32b2785row5_col0,#T_32f26114_1e0a_11eb_8d1b_9d76a32b2785row5_col5,#T_32f26114_1e0a_11eb_8d1b_9d76a32b2785row5_col6,#T_32f26114_1e0a_11eb_8d1b_9d76a32b2785row5_col7,#T_32f26114_1e0a_11eb_8d1b_9d76a32b2785row5_col8,#T_32f26114_1e0a_11eb_8d1b_9d76a32b2785row5_col9,#T_32f26114_1e0a_11eb_8d1b_9d76a32b2785row5_col15,#T_32f26114_1e0a_11eb_8d1b_9d76a32b2785row5_col16,#T_32f26114_1e0a_11eb_8d1b_9d76a32b2785row6_col0,#T_32f26114_1e0a_11eb_8d1b_9d76a32b2785row6_col1,#T_32f26114_1e0a_11eb_8d1b_9d76a32b2785row6_col2,#T_32f26114_1e0a_11eb_8d1b_9d76a32b2785row6_col3,#T_32f26114_1e0a_11eb_8d1b_9d76a32b2785row6_col4,#T_32f26114_1e0a_11eb_8d1b_9d76a32b2785row6_col5,#T_32f26114_1e0a_11eb_8d1b_9d76a32b2785row6_col6,#T_32f26114_1e0a_11eb_8d1b_9d76a32b2785row6_col7,#T_32f26114_1e0a_11eb_8d1b_9d76a32b2785row6_col8,#T_32f26114_1e0a_11eb_8d1b_9d76a32b2785row6_col9,#T_32f26114_1e0a_11eb_8d1b_9d76a32b2785row6_col14,#T_32f26114_1e0a_11eb_8d1b_9d76a32b2785row6_col15,#T_32f26114_1e0a_11eb_8d1b_9d76a32b2785row6_col16,#T_32f26114_1e0a_11eb_8d1b_9d76a32b2785row7_col0,#T_32f26114_1e0a_11eb_8d1b_9d76a32b2785row7_col1,#T_32f26114_1e0a_11eb_8d1b_9d76a32b2785row7_col2,#T_32f26114_1e0a_11eb_8d1b_9d76a32b2785row7_col3,#T_32f26114_1e0a_11eb_8d1b_9d76a32b2785row7_col4,#T_32f26114_1e0a_11eb_8d1b_9d76a32b2785row7_col5,#T_32f26114_1e0a_11eb_8d1b_9d76a32b2785row7_col6,#T_32f26114_1e0a_11eb_8d1b_9d76a32b2785row7_col13,#T_32f26114_1e0a_11eb_8d1b_9d76a32b2785row7_col14,#T_32f26114_1e0a_11eb_8d1b_9d76a32b2785row7_col15,#T_32f26114_1e0a_11eb_8d1b_9d76a32b2785row7_col16,#T_32f26114_1e0a_11eb_8d1b_9d76a32b2785row8_col0,#T_32f26114_1e0a_11eb_8d1b_9d76a32b2785row8_col1,#T_32f26114_1e0a_11eb_8d1b_9d76a32b2785row8_col2,#T_32f26114_1e0a_11eb_8d1b_9d76a32b2785row8_col3,#T_32f26114_1e0a_11eb_8d1b_9d76a32b2785row8_col4,#T_32f26114_1e0a_11eb_8d1b_9d76a32b2785row8_col13,#T_32f26114_1e0a_11eb_8d1b_9d76a32b2785row8_col14,#T_32f26114_1e0a_11eb_8d1b_9d76a32b2785row8_col15,#T_32f26114_1e0a_11eb_8d1b_9d76a32b2785row8_col16,#T_32f26114_1e0a_11eb_8d1b_9d76a32b2785row9_col0,#T_32f26114_1e0a_11eb_8d1b_9d76a32b2785row9_col1,#T_32f26114_1e0a_11eb_8d1b_9d76a32b2785row9_col2,#T_32f26114_1e0a_11eb_8d1b_9d76a32b2785row9_col3,#T_32f26114_1e0a_11eb_8d1b_9d76a32b2785row9_col4,#T_32f26114_1e0a_11eb_8d1b_9d76a32b2785row9_col16,#T_32f26114_1e0a_11eb_8d1b_9d76a32b2785row10_col0,#T_32f26114_1e0a_11eb_8d1b_9d76a32b2785row10_col1,#T_32f26114_1e0a_11eb_8d1b_9d76a32b2785row10_col2,#T_32f26114_1e0a_11eb_8d1b_9d76a32b2785row10_col3,#T_32f26114_1e0a_11eb_8d1b_9d76a32b2785row10_col4,#T_32f26114_1e0a_11eb_8d1b_9d76a32b2785row10_col5,#T_32f26114_1e0a_11eb_8d1b_9d76a32b2785row10_col6,#T_32f26114_1e0a_11eb_8d1b_9d76a32b2785row11_col0,#T_32f26114_1e0a_11eb_8d1b_9d76a32b2785row11_col1,#T_32f26114_1e0a_11eb_8d1b_9d76a32b2785row11_col2,#T_32f26114_1e0a_11eb_8d1b_9d76a32b2785row11_col3,#T_32f26114_1e0a_11eb_8d1b_9d76a32b2785row11_col4,#T_32f26114_1e0a_11eb_8d1b_9d76a32b2785row11_col5,#T_32f26114_1e0a_11eb_8d1b_9d76a32b2785row11_col6,#T_32f26114_1e0a_11eb_8d1b_9d76a32b2785row11_col7,#T_32f26114_1e0a_11eb_8d1b_9d76a32b2785row11_col8,#T_32f26114_1e0a_11eb_8d1b_9d76a32b2785row11_col9,#T_32f26114_1e0a_11eb_8d1b_9d76a32b2785row12_col0,#T_32f26114_1e0a_11eb_8d1b_9d76a32b2785row12_col1,#T_32f26114_1e0a_11eb_8d1b_9d76a32b2785row12_col2,#T_32f26114_1e0a_11eb_8d1b_9d76a32b2785row12_col3,#T_32f26114_1e0a_11eb_8d1b_9d76a32b2785row12_col4,#T_32f26114_1e0a_11eb_8d1b_9d76a32b2785row12_col5,#T_32f26114_1e0a_11eb_8d1b_9d76a32b2785row12_col6,#T_32f26114_1e0a_11eb_8d1b_9d76a32b2785row12_col7,#T_32f26114_1e0a_11eb_8d1b_9d76a32b2785row12_col8,#T_32f26114_1e0a_11eb_8d1b_9d76a32b2785row12_col9,#T_32f26114_1e0a_11eb_8d1b_9d76a32b2785row12_col10,#T_32f26114_1e0a_11eb_8d1b_9d76a32b2785row12_col11,#T_32f26114_1e0a_11eb_8d1b_9d76a32b2785row12_col12,#T_32f26114_1e0a_11eb_8d1b_9d76a32b2785row13_col0,#T_32f26114_1e0a_11eb_8d1b_9d76a32b2785row13_col1,#T_32f26114_1e0a_11eb_8d1b_9d76a32b2785row13_col2,#T_32f26114_1e0a_11eb_8d1b_9d76a32b2785row13_col3,#T_32f26114_1e0a_11eb_8d1b_9d76a32b2785row13_col4,#T_32f26114_1e0a_11eb_8d1b_9d76a32b2785row13_col5,#T_32f26114_1e0a_11eb_8d1b_9d76a32b2785row13_col6,#T_32f26114_1e0a_11eb_8d1b_9d76a32b2785row13_col7,#T_32f26114_1e0a_11eb_8d1b_9d76a32b2785row13_col8,#T_32f26114_1e0a_11eb_8d1b_9d76a32b2785row13_col9,#T_32f26114_1e0a_11eb_8d1b_9d76a32b2785row13_col10,#T_32f26114_1e0a_11eb_8d1b_9d76a32b2785row13_col11,#T_32f26114_1e0a_11eb_8d1b_9d76a32b2785row13_col12,#T_32f26114_1e0a_11eb_8d1b_9d76a32b2785row14_col0,#T_32f26114_1e0a_11eb_8d1b_9d76a32b2785row14_col1,#T_32f26114_1e0a_11eb_8d1b_9d76a32b2785row14_col2,#T_32f26114_1e0a_11eb_8d1b_9d76a32b2785row14_col3,#T_32f26114_1e0a_11eb_8d1b_9d76a32b2785row14_col4,#T_32f26114_1e0a_11eb_8d1b_9d76a32b2785row14_col5,#T_32f26114_1e0a_11eb_8d1b_9d76a32b2785row14_col6,#T_32f26114_1e0a_11eb_8d1b_9d76a32b2785row14_col7,#T_32f26114_1e0a_11eb_8d1b_9d76a32b2785row14_col8,#T_32f26114_1e0a_11eb_8d1b_9d76a32b2785row14_col9,#T_32f26114_1e0a_11eb_8d1b_9d76a32b2785row14_col10,#T_32f26114_1e0a_11eb_8d1b_9d76a32b2785row14_col11,#T_32f26114_1e0a_11eb_8d1b_9d76a32b2785row15_col0,#T_32f26114_1e0a_11eb_8d1b_9d76a32b2785row15_col1,#T_32f26114_1e0a_11eb_8d1b_9d76a32b2785row15_col2,#T_32f26114_1e0a_11eb_8d1b_9d76a32b2785row15_col3,#T_32f26114_1e0a_11eb_8d1b_9d76a32b2785row15_col4,#T_32f26114_1e0a_11eb_8d1b_9d76a32b2785row15_col5,#T_32f26114_1e0a_11eb_8d1b_9d76a32b2785row15_col6,#T_32f26114_1e0a_11eb_8d1b_9d76a32b2785row15_col7,#T_32f26114_1e0a_11eb_8d1b_9d76a32b2785row15_col8,#T_32f26114_1e0a_11eb_8d1b_9d76a32b2785row15_col9,#T_32f26114_1e0a_11eb_8d1b_9d76a32b2785row15_col10,#T_32f26114_1e0a_11eb_8d1b_9d76a32b2785row16_col0,#T_32f26114_1e0a_11eb_8d1b_9d76a32b2785row16_col1,#T_32f26114_1e0a_11eb_8d1b_9d76a32b2785row16_col2,#T_32f26114_1e0a_11eb_8d1b_9d76a32b2785row16_col3,#T_32f26114_1e0a_11eb_8d1b_9d76a32b2785row16_col4,#T_32f26114_1e0a_11eb_8d1b_9d76a32b2785row16_col5,#T_32f26114_1e0a_11eb_8d1b_9d76a32b2785row16_col6,#T_32f26114_1e0a_11eb_8d1b_9d76a32b2785row16_col7,#T_32f26114_1e0a_11eb_8d1b_9d76a32b2785row16_col8,#T_32f26114_1e0a_11eb_8d1b_9d76a32b2785row16_col9,#T_32f26114_1e0a_11eb_8d1b_9d76a32b2785row16_col16,#T_32f26114_1e0a_11eb_8d1b_9d76a32b2785row17_col0,#T_32f26114_1e0a_11eb_8d1b_9d76a32b2785row17_col1,#T_32f26114_1e0a_11eb_8d1b_9d76a32b2785row17_col2,#T_32f26114_1e0a_11eb_8d1b_9d76a32b2785row17_col3,#T_32f26114_1e0a_11eb_8d1b_9d76a32b2785row17_col4,#T_32f26114_1e0a_11eb_8d1b_9d76a32b2785row17_col5,#T_32f26114_1e0a_11eb_8d1b_9d76a32b2785row17_col6,#T_32f26114_1e0a_11eb_8d1b_9d76a32b2785row17_col7,#T_32f26114_1e0a_11eb_8d1b_9d76a32b2785row17_col15,#T_32f26114_1e0a_11eb_8d1b_9d76a32b2785row17_col16,#T_32f26114_1e0a_11eb_8d1b_9d76a32b2785row18_col0,#T_32f26114_1e0a_11eb_8d1b_9d76a32b2785row18_col1,#T_32f26114_1e0a_11eb_8d1b_9d76a32b2785row18_col14,#T_32f26114_1e0a_11eb_8d1b_9d76a32b2785row18_col15,#T_32f26114_1e0a_11eb_8d1b_9d76a32b2785row18_col16,#T_32f26114_1e0a_11eb_8d1b_9d76a32b2785row19_col0,#T_32f26114_1e0a_11eb_8d1b_9d76a32b2785row19_col1,#T_32f26114_1e0a_11eb_8d1b_9d76a32b2785row19_col12,#T_32f26114_1e0a_11eb_8d1b_9d76a32b2785row19_col13,#T_32f26114_1e0a_11eb_8d1b_9d76a32b2785row19_col14,#T_32f26114_1e0a_11eb_8d1b_9d76a32b2785row19_col15,#T_32f26114_1e0a_11eb_8d1b_9d76a32b2785row19_col16,#T_32f26114_1e0a_11eb_8d1b_9d76a32b2785row20_col0,#T_32f26114_1e0a_11eb_8d1b_9d76a32b2785row20_col1,#T_32f26114_1e0a_11eb_8d1b_9d76a32b2785row20_col10,#T_32f26114_1e0a_11eb_8d1b_9d76a32b2785row20_col11,#T_32f26114_1e0a_11eb_8d1b_9d76a32b2785row20_col12,#T_32f26114_1e0a_11eb_8d1b_9d76a32b2785row20_col13,#T_32f26114_1e0a_11eb_8d1b_9d76a32b2785row20_col14,#T_32f26114_1e0a_11eb_8d1b_9d76a32b2785row20_col15,#T_32f26114_1e0a_11eb_8d1b_9d76a32b2785row20_col16,#T_32f26114_1e0a_11eb_8d1b_9d76a32b2785row21_col0,#T_32f26114_1e0a_11eb_8d1b_9d76a32b2785row21_col1,#T_32f26114_1e0a_11eb_8d1b_9d76a32b2785row21_col2,#T_32f26114_1e0a_11eb_8d1b_9d76a32b2785row21_col3,#T_32f26114_1e0a_11eb_8d1b_9d76a32b2785row21_col4,#T_32f26114_1e0a_11eb_8d1b_9d76a32b2785row21_col5,#T_32f26114_1e0a_11eb_8d1b_9d76a32b2785row21_col6,#T_32f26114_1e0a_11eb_8d1b_9d76a32b2785row21_col7,#T_32f26114_1e0a_11eb_8d1b_9d76a32b2785row21_col8,#T_32f26114_1e0a_11eb_8d1b_9d76a32b2785row21_col9,#T_32f26114_1e0a_11eb_8d1b_9d76a32b2785row21_col10,#T_32f26114_1e0a_11eb_8d1b_9d76a32b2785row21_col11,#T_32f26114_1e0a_11eb_8d1b_9d76a32b2785row21_col12,#T_32f26114_1e0a_11eb_8d1b_9d76a32b2785row21_col13,#T_32f26114_1e0a_11eb_8d1b_9d76a32b2785row21_col14,#T_32f26114_1e0a_11eb_8d1b_9d76a32b2785row21_col15,#T_32f26114_1e0a_11eb_8d1b_9d76a32b2785row21_col16,#T_32f26114_1e0a_11eb_8d1b_9d76a32b2785row22_col0,#T_32f26114_1e0a_11eb_8d1b_9d76a32b2785row22_col1,#T_32f26114_1e0a_11eb_8d1b_9d76a32b2785row22_col2,#T_32f26114_1e0a_11eb_8d1b_9d76a32b2785row22_col3,#T_32f26114_1e0a_11eb_8d1b_9d76a32b2785row22_col4,#T_32f26114_1e0a_11eb_8d1b_9d76a32b2785row22_col5,#T_32f26114_1e0a_11eb_8d1b_9d76a32b2785row22_col6,#T_32f26114_1e0a_11eb_8d1b_9d76a32b2785row22_col7,#T_32f26114_1e0a_11eb_8d1b_9d76a32b2785row22_col8,#T_32f26114_1e0a_11eb_8d1b_9d76a32b2785row22_col9,#T_32f26114_1e0a_11eb_8d1b_9d76a32b2785row22_col10,#T_32f26114_1e0a_11eb_8d1b_9d76a32b2785row22_col11,#T_32f26114_1e0a_11eb_8d1b_9d76a32b2785row22_col12,#T_32f26114_1e0a_11eb_8d1b_9d76a32b2785row22_col13,#T_32f26114_1e0a_11eb_8d1b_9d76a32b2785row22_col14,#T_32f26114_1e0a_11eb_8d1b_9d76a32b2785row22_col15,#T_32f26114_1e0a_11eb_8d1b_9d76a32b2785row22_col16,#T_32f26114_1e0a_11eb_8d1b_9d76a32b2785row23_col0,#T_32f26114_1e0a_11eb_8d1b_9d76a32b2785row23_col1,#T_32f26114_1e0a_11eb_8d1b_9d76a32b2785row23_col2,#T_32f26114_1e0a_11eb_8d1b_9d76a32b2785row23_col3,#T_32f26114_1e0a_11eb_8d1b_9d76a32b2785row23_col4,#T_32f26114_1e0a_11eb_8d1b_9d76a32b2785row23_col5,#T_32f26114_1e0a_11eb_8d1b_9d76a32b2785row23_col6,#T_32f26114_1e0a_11eb_8d1b_9d76a32b2785row23_col7,#T_32f26114_1e0a_11eb_8d1b_9d76a32b2785row23_col8,#T_32f26114_1e0a_11eb_8d1b_9d76a32b2785row23_col9,#T_32f26114_1e0a_11eb_8d1b_9d76a32b2785row23_col10,#T_32f26114_1e0a_11eb_8d1b_9d76a32b2785row23_col11,#T_32f26114_1e0a_11eb_8d1b_9d76a32b2785row23_col12,#T_32f26114_1e0a_11eb_8d1b_9d76a32b2785row23_col13,#T_32f26114_1e0a_11eb_8d1b_9d76a32b2785row23_col14,#T_32f26114_1e0a_11eb_8d1b_9d76a32b2785row23_col15,#T_32f26114_1e0a_11eb_8d1b_9d76a32b2785row23_col16{\n",
       "            font-size:  6pt;\n",
       "            background-color:  #ffffff;\n",
       "            color:  #000000;\n",
       "        }#T_32f26114_1e0a_11eb_8d1b_9d76a32b2785row1_col5,#T_32f26114_1e0a_11eb_8d1b_9d76a32b2785row8_col12{\n",
       "            font-size:  6pt;\n",
       "            background-color:  #f1f1f1;\n",
       "            color:  #000000;\n",
       "        }#T_32f26114_1e0a_11eb_8d1b_9d76a32b2785row1_col6,#T_32f26114_1e0a_11eb_8d1b_9d76a32b2785row1_col13{\n",
       "            font-size:  6pt;\n",
       "            background-color:  #7c7c7c;\n",
       "            color:  #000000;\n",
       "        }#T_32f26114_1e0a_11eb_8d1b_9d76a32b2785row1_col7{\n",
       "            font-size:  6pt;\n",
       "            background-color:  #4a4a4a;\n",
       "            color:  #f1f1f1;\n",
       "        }#T_32f26114_1e0a_11eb_8d1b_9d76a32b2785row1_col8,#T_32f26114_1e0a_11eb_8d1b_9d76a32b2785row1_col9,#T_32f26114_1e0a_11eb_8d1b_9d76a32b2785row1_col10,#T_32f26114_1e0a_11eb_8d1b_9d76a32b2785row2_col6,#T_32f26114_1e0a_11eb_8d1b_9d76a32b2785row2_col7,#T_32f26114_1e0a_11eb_8d1b_9d76a32b2785row2_col11,#T_32f26114_1e0a_11eb_8d1b_9d76a32b2785row2_col12,#T_32f26114_1e0a_11eb_8d1b_9d76a32b2785row2_col13,#T_32f26114_1e0a_11eb_8d1b_9d76a32b2785row3_col4,#T_32f26114_1e0a_11eb_8d1b_9d76a32b2785row3_col12,#T_32f26114_1e0a_11eb_8d1b_9d76a32b2785row3_col13,#T_32f26114_1e0a_11eb_8d1b_9d76a32b2785row4_col1,#T_32f26114_1e0a_11eb_8d1b_9d76a32b2785row4_col2,#T_32f26114_1e0a_11eb_8d1b_9d76a32b2785row4_col3,#T_32f26114_1e0a_11eb_8d1b_9d76a32b2785row4_col12,#T_32f26114_1e0a_11eb_8d1b_9d76a32b2785row4_col13,#T_32f26114_1e0a_11eb_8d1b_9d76a32b2785row5_col12,#T_32f26114_1e0a_11eb_8d1b_9d76a32b2785row6_col11,#T_32f26114_1e0a_11eb_8d1b_9d76a32b2785row9_col11,#T_32f26114_1e0a_11eb_8d1b_9d76a32b2785row10_col11,#T_32f26114_1e0a_11eb_8d1b_9d76a32b2785row10_col12,#T_32f26114_1e0a_11eb_8d1b_9d76a32b2785row10_col13,#T_32f26114_1e0a_11eb_8d1b_9d76a32b2785row10_col14,#T_32f26114_1e0a_11eb_8d1b_9d76a32b2785row11_col13,#T_32f26114_1e0a_11eb_8d1b_9d76a32b2785row11_col14,#T_32f26114_1e0a_11eb_8d1b_9d76a32b2785row11_col15,#T_32f26114_1e0a_11eb_8d1b_9d76a32b2785row12_col14,#T_32f26114_1e0a_11eb_8d1b_9d76a32b2785row12_col15,#T_32f26114_1e0a_11eb_8d1b_9d76a32b2785row12_col16,#T_32f26114_1e0a_11eb_8d1b_9d76a32b2785row13_col14,#T_32f26114_1e0a_11eb_8d1b_9d76a32b2785row13_col15,#T_32f26114_1e0a_11eb_8d1b_9d76a32b2785row14_col14,#T_32f26114_1e0a_11eb_8d1b_9d76a32b2785row14_col15,#T_32f26114_1e0a_11eb_8d1b_9d76a32b2785row15_col13,#T_32f26114_1e0a_11eb_8d1b_9d76a32b2785row15_col14,#T_32f26114_1e0a_11eb_8d1b_9d76a32b2785row16_col12,#T_32f26114_1e0a_11eb_8d1b_9d76a32b2785row16_col13,#T_32f26114_1e0a_11eb_8d1b_9d76a32b2785row17_col11,#T_32f26114_1e0a_11eb_8d1b_9d76a32b2785row17_col12,#T_32f26114_1e0a_11eb_8d1b_9d76a32b2785row19_col3,#T_32f26114_1e0a_11eb_8d1b_9d76a32b2785row19_col4,#T_32f26114_1e0a_11eb_8d1b_9d76a32b2785row19_col5,#T_32f26114_1e0a_11eb_8d1b_9d76a32b2785row19_col6,#T_32f26114_1e0a_11eb_8d1b_9d76a32b2785row19_col7,#T_32f26114_1e0a_11eb_8d1b_9d76a32b2785row20_col3,#T_32f26114_1e0a_11eb_8d1b_9d76a32b2785row20_col4,#T_32f26114_1e0a_11eb_8d1b_9d76a32b2785row20_col5,#T_32f26114_1e0a_11eb_8d1b_9d76a32b2785row20_col6,#T_32f26114_1e0a_11eb_8d1b_9d76a32b2785row20_col7{\n",
       "            font-size:  6pt;\n",
       "            background-color:  #000000;\n",
       "            color:  #f1f1f1;\n",
       "        }#T_32f26114_1e0a_11eb_8d1b_9d76a32b2785row1_col11{\n",
       "            font-size:  6pt;\n",
       "            background-color:  #606060;\n",
       "            color:  #f1f1f1;\n",
       "        }#T_32f26114_1e0a_11eb_8d1b_9d76a32b2785row1_col12{\n",
       "            font-size:  6pt;\n",
       "            background-color:  #4d4d4d;\n",
       "            color:  #f1f1f1;\n",
       "        }#T_32f26114_1e0a_11eb_8d1b_9d76a32b2785row1_col14{\n",
       "            font-size:  6pt;\n",
       "            background-color:  #bbbbbb;\n",
       "            color:  #000000;\n",
       "        }#T_32f26114_1e0a_11eb_8d1b_9d76a32b2785row2_col3,#T_32f26114_1e0a_11eb_8d1b_9d76a32b2785row4_col5{\n",
       "            font-size:  6pt;\n",
       "            background-color:  #e4e4e4;\n",
       "            color:  #000000;\n",
       "        }#T_32f26114_1e0a_11eb_8d1b_9d76a32b2785row2_col4,#T_32f26114_1e0a_11eb_8d1b_9d76a32b2785row8_col6{\n",
       "            font-size:  6pt;\n",
       "            background-color:  #6b6b6b;\n",
       "            color:  #000000;\n",
       "        }#T_32f26114_1e0a_11eb_8d1b_9d76a32b2785row2_col5,#T_32f26114_1e0a_11eb_8d1b_9d76a32b2785row5_col11{\n",
       "            font-size:  6pt;\n",
       "            background-color:  #222222;\n",
       "            color:  #f1f1f1;\n",
       "        }#T_32f26114_1e0a_11eb_8d1b_9d76a32b2785row2_col8,#T_32f26114_1e0a_11eb_8d1b_9d76a32b2785row2_col14,#T_32f26114_1e0a_11eb_8d1b_9d76a32b2785row3_col14,#T_32f26114_1e0a_11eb_8d1b_9d76a32b2785row17_col13{\n",
       "            font-size:  6pt;\n",
       "            background-color:  #171717;\n",
       "            color:  #f1f1f1;\n",
       "        }#T_32f26114_1e0a_11eb_8d1b_9d76a32b2785row2_col9,#T_32f26114_1e0a_11eb_8d1b_9d76a32b2785row3_col11{\n",
       "            font-size:  6pt;\n",
       "            background-color:  #4b4b4b;\n",
       "            color:  #f1f1f1;\n",
       "        }#T_32f26114_1e0a_11eb_8d1b_9d76a32b2785row2_col10,#T_32f26114_1e0a_11eb_8d1b_9d76a32b2785row7_col10,#T_32f26114_1e0a_11eb_8d1b_9d76a32b2785row8_col8,#T_32f26114_1e0a_11eb_8d1b_9d76a32b2785row8_col10,#T_32f26114_1e0a_11eb_8d1b_9d76a32b2785row9_col8,#T_32f26114_1e0a_11eb_8d1b_9d76a32b2785row9_col10,#T_32f26114_1e0a_11eb_8d1b_9d76a32b2785row18_col10,#T_32f26114_1e0a_11eb_8d1b_9d76a32b2785row19_col8{\n",
       "            font-size:  6pt;\n",
       "            background-color:  #010101;\n",
       "            color:  #f1f1f1;\n",
       "        }#T_32f26114_1e0a_11eb_8d1b_9d76a32b2785row3_col1{\n",
       "            font-size:  6pt;\n",
       "            background-color:  #272727;\n",
       "            color:  #f1f1f1;\n",
       "        }#T_32f26114_1e0a_11eb_8d1b_9d76a32b2785row3_col2{\n",
       "            font-size:  6pt;\n",
       "            background-color:  #0a0a0a;\n",
       "            color:  #f1f1f1;\n",
       "        }#T_32f26114_1e0a_11eb_8d1b_9d76a32b2785row3_col3,#T_32f26114_1e0a_11eb_8d1b_9d76a32b2785row14_col13{\n",
       "            font-size:  6pt;\n",
       "            background-color:  #050505;\n",
       "            color:  #f1f1f1;\n",
       "        }#T_32f26114_1e0a_11eb_8d1b_9d76a32b2785row3_col5,#T_32f26114_1e0a_11eb_8d1b_9d76a32b2785row8_col11,#T_32f26114_1e0a_11eb_8d1b_9d76a32b2785row10_col15,#T_32f26114_1e0a_11eb_8d1b_9d76a32b2785row19_col2{\n",
       "            font-size:  6pt;\n",
       "            background-color:  #545454;\n",
       "            color:  #f1f1f1;\n",
       "        }#T_32f26114_1e0a_11eb_8d1b_9d76a32b2785row3_col6{\n",
       "            font-size:  6pt;\n",
       "            background-color:  #e6e6e6;\n",
       "            color:  #000000;\n",
       "        }#T_32f26114_1e0a_11eb_8d1b_9d76a32b2785row3_col7,#T_32f26114_1e0a_11eb_8d1b_9d76a32b2785row3_col10,#T_32f26114_1e0a_11eb_8d1b_9d76a32b2785row8_col5{\n",
       "            font-size:  6pt;\n",
       "            background-color:  #fafafa;\n",
       "            color:  #000000;\n",
       "        }#T_32f26114_1e0a_11eb_8d1b_9d76a32b2785row3_col8,#T_32f26114_1e0a_11eb_8d1b_9d76a32b2785row11_col10,#T_32f26114_1e0a_11eb_8d1b_9d76a32b2785row16_col15{\n",
       "            font-size:  6pt;\n",
       "            background-color:  #fbfbfb;\n",
       "            color:  #000000;\n",
       "        }#T_32f26114_1e0a_11eb_8d1b_9d76a32b2785row3_col9{\n",
       "            font-size:  6pt;\n",
       "            background-color:  #fdfdfd;\n",
       "            color:  #000000;\n",
       "        }#T_32f26114_1e0a_11eb_8d1b_9d76a32b2785row4_col4{\n",
       "            font-size:  6pt;\n",
       "            background-color:  #1b1b1b;\n",
       "            color:  #f1f1f1;\n",
       "        }#T_32f26114_1e0a_11eb_8d1b_9d76a32b2785row4_col11{\n",
       "            font-size:  6pt;\n",
       "            background-color:  #4e4e4e;\n",
       "            color:  #f1f1f1;\n",
       "        }#T_32f26114_1e0a_11eb_8d1b_9d76a32b2785row4_col14{\n",
       "            font-size:  6pt;\n",
       "            background-color:  #767676;\n",
       "            color:  #000000;\n",
       "        }#T_32f26114_1e0a_11eb_8d1b_9d76a32b2785row5_col1{\n",
       "            font-size:  6pt;\n",
       "            background-color:  #fcfcfc;\n",
       "            color:  #000000;\n",
       "        }#T_32f26114_1e0a_11eb_8d1b_9d76a32b2785row5_col2,#T_32f26114_1e0a_11eb_8d1b_9d76a32b2785row5_col3,#T_32f26114_1e0a_11eb_8d1b_9d76a32b2785row15_col16{\n",
       "            font-size:  6pt;\n",
       "            background-color:  #f6f6f6;\n",
       "            color:  #000000;\n",
       "        }#T_32f26114_1e0a_11eb_8d1b_9d76a32b2785row5_col4,#T_32f26114_1e0a_11eb_8d1b_9d76a32b2785row7_col7{\n",
       "            font-size:  6pt;\n",
       "            background-color:  #f8f8f8;\n",
       "            color:  #000000;\n",
       "        }#T_32f26114_1e0a_11eb_8d1b_9d76a32b2785row5_col10,#T_32f26114_1e0a_11eb_8d1b_9d76a32b2785row10_col7{\n",
       "            font-size:  6pt;\n",
       "            background-color:  #e8e8e8;\n",
       "            color:  #000000;\n",
       "        }#T_32f26114_1e0a_11eb_8d1b_9d76a32b2785row5_col13,#T_32f26114_1e0a_11eb_8d1b_9d76a32b2785row6_col12{\n",
       "            font-size:  6pt;\n",
       "            background-color:  #090909;\n",
       "            color:  #f1f1f1;\n",
       "        }#T_32f26114_1e0a_11eb_8d1b_9d76a32b2785row5_col14{\n",
       "            font-size:  6pt;\n",
       "            background-color:  #d0d0d0;\n",
       "            color:  #000000;\n",
       "        }#T_32f26114_1e0a_11eb_8d1b_9d76a32b2785row6_col10,#T_32f26114_1e0a_11eb_8d1b_9d76a32b2785row7_col11,#T_32f26114_1e0a_11eb_8d1b_9d76a32b2785row9_col6{\n",
       "            font-size:  6pt;\n",
       "            background-color:  #060606;\n",
       "            color:  #f1f1f1;\n",
       "        }#T_32f26114_1e0a_11eb_8d1b_9d76a32b2785row6_col13{\n",
       "            font-size:  6pt;\n",
       "            background-color:  #979797;\n",
       "            color:  #000000;\n",
       "        }#T_32f26114_1e0a_11eb_8d1b_9d76a32b2785row7_col8{\n",
       "            font-size:  6pt;\n",
       "            background-color:  #b6b6b6;\n",
       "            color:  #000000;\n",
       "        }#T_32f26114_1e0a_11eb_8d1b_9d76a32b2785row7_col9{\n",
       "            font-size:  6pt;\n",
       "            background-color:  #252525;\n",
       "            color:  #f1f1f1;\n",
       "        }#T_32f26114_1e0a_11eb_8d1b_9d76a32b2785row7_col12{\n",
       "            font-size:  6pt;\n",
       "            background-color:  #999999;\n",
       "            color:  #000000;\n",
       "        }#T_32f26114_1e0a_11eb_8d1b_9d76a32b2785row8_col7,#T_32f26114_1e0a_11eb_8d1b_9d76a32b2785row18_col8{\n",
       "            font-size:  6pt;\n",
       "            background-color:  #101010;\n",
       "            color:  #f1f1f1;\n",
       "        }#T_32f26114_1e0a_11eb_8d1b_9d76a32b2785row8_col9,#T_32f26114_1e0a_11eb_8d1b_9d76a32b2785row9_col9,#T_32f26114_1e0a_11eb_8d1b_9d76a32b2785row17_col10,#T_32f26114_1e0a_11eb_8d1b_9d76a32b2785row18_col9,#T_32f26114_1e0a_11eb_8d1b_9d76a32b2785row19_col9{\n",
       "            font-size:  6pt;\n",
       "            background-color:  #020202;\n",
       "            color:  #f1f1f1;\n",
       "        }#T_32f26114_1e0a_11eb_8d1b_9d76a32b2785row9_col5{\n",
       "            font-size:  6pt;\n",
       "            background-color:  #f7f7f7;\n",
       "            color:  #000000;\n",
       "        }#T_32f26114_1e0a_11eb_8d1b_9d76a32b2785row9_col7,#T_32f26114_1e0a_11eb_8d1b_9d76a32b2785row18_col11{\n",
       "            font-size:  6pt;\n",
       "            background-color:  #030303;\n",
       "            color:  #f1f1f1;\n",
       "        }#T_32f26114_1e0a_11eb_8d1b_9d76a32b2785row9_col12{\n",
       "            font-size:  6pt;\n",
       "            background-color:  #181818;\n",
       "            color:  #f1f1f1;\n",
       "        }#T_32f26114_1e0a_11eb_8d1b_9d76a32b2785row9_col13{\n",
       "            font-size:  6pt;\n",
       "            background-color:  #303030;\n",
       "            color:  #f1f1f1;\n",
       "        }#T_32f26114_1e0a_11eb_8d1b_9d76a32b2785row9_col14{\n",
       "            font-size:  6pt;\n",
       "            background-color:  #a9a9a9;\n",
       "            color:  #000000;\n",
       "        }#T_32f26114_1e0a_11eb_8d1b_9d76a32b2785row9_col15{\n",
       "            font-size:  6pt;\n",
       "            background-color:  #fefefe;\n",
       "            color:  #000000;\n",
       "        }#T_32f26114_1e0a_11eb_8d1b_9d76a32b2785row10_col8,#T_32f26114_1e0a_11eb_8d1b_9d76a32b2785row10_col9,#T_32f26114_1e0a_11eb_8d1b_9d76a32b2785row16_col10{\n",
       "            font-size:  6pt;\n",
       "            background-color:  #bababa;\n",
       "            color:  #000000;\n",
       "        }#T_32f26114_1e0a_11eb_8d1b_9d76a32b2785row10_col10{\n",
       "            font-size:  6pt;\n",
       "            background-color:  #393939;\n",
       "            color:  #f1f1f1;\n",
       "        }#T_32f26114_1e0a_11eb_8d1b_9d76a32b2785row10_col16{\n",
       "            font-size:  6pt;\n",
       "            background-color:  #eaeaea;\n",
       "            color:  #000000;\n",
       "        }#T_32f26114_1e0a_11eb_8d1b_9d76a32b2785row11_col11{\n",
       "            font-size:  6pt;\n",
       "            background-color:  #e2e2e2;\n",
       "            color:  #000000;\n",
       "        }#T_32f26114_1e0a_11eb_8d1b_9d76a32b2785row11_col12{\n",
       "            font-size:  6pt;\n",
       "            background-color:  #9f9f9f;\n",
       "            color:  #000000;\n",
       "        }#T_32f26114_1e0a_11eb_8d1b_9d76a32b2785row11_col16{\n",
       "            font-size:  6pt;\n",
       "            background-color:  #898989;\n",
       "            color:  #000000;\n",
       "        }#T_32f26114_1e0a_11eb_8d1b_9d76a32b2785row12_col13{\n",
       "            font-size:  6pt;\n",
       "            background-color:  #585858;\n",
       "            color:  #f1f1f1;\n",
       "        }#T_32f26114_1e0a_11eb_8d1b_9d76a32b2785row13_col13{\n",
       "            font-size:  6pt;\n",
       "            background-color:  #5a5a5a;\n",
       "            color:  #f1f1f1;\n",
       "        }#T_32f26114_1e0a_11eb_8d1b_9d76a32b2785row13_col16{\n",
       "            font-size:  6pt;\n",
       "            background-color:  #525252;\n",
       "            color:  #f1f1f1;\n",
       "        }#T_32f26114_1e0a_11eb_8d1b_9d76a32b2785row14_col12,#T_32f26114_1e0a_11eb_8d1b_9d76a32b2785row19_col11{\n",
       "            font-size:  6pt;\n",
       "            background-color:  #c5c5c5;\n",
       "            color:  #000000;\n",
       "        }#T_32f26114_1e0a_11eb_8d1b_9d76a32b2785row14_col16{\n",
       "            font-size:  6pt;\n",
       "            background-color:  #d7d7d7;\n",
       "            color:  #000000;\n",
       "        }#T_32f26114_1e0a_11eb_8d1b_9d76a32b2785row15_col11,#T_32f26114_1e0a_11eb_8d1b_9d76a32b2785row18_col5{\n",
       "            font-size:  6pt;\n",
       "            background-color:  #dcdcdc;\n",
       "            color:  #000000;\n",
       "        }#T_32f26114_1e0a_11eb_8d1b_9d76a32b2785row15_col12{\n",
       "            font-size:  6pt;\n",
       "            background-color:  #2f2f2f;\n",
       "            color:  #f1f1f1;\n",
       "        }#T_32f26114_1e0a_11eb_8d1b_9d76a32b2785row15_col15{\n",
       "            font-size:  6pt;\n",
       "            background-color:  #636363;\n",
       "            color:  #f1f1f1;\n",
       "        }#T_32f26114_1e0a_11eb_8d1b_9d76a32b2785row16_col11{\n",
       "            font-size:  6pt;\n",
       "            background-color:  #070707;\n",
       "            color:  #f1f1f1;\n",
       "        }#T_32f26114_1e0a_11eb_8d1b_9d76a32b2785row16_col14{\n",
       "            font-size:  6pt;\n",
       "            background-color:  #1f1f1f;\n",
       "            color:  #f1f1f1;\n",
       "        }#T_32f26114_1e0a_11eb_8d1b_9d76a32b2785row17_col8,#T_32f26114_1e0a_11eb_8d1b_9d76a32b2785row18_col2,#T_32f26114_1e0a_11eb_8d1b_9d76a32b2785row18_col4{\n",
       "            font-size:  6pt;\n",
       "            background-color:  #e9e9e9;\n",
       "            color:  #000000;\n",
       "        }#T_32f26114_1e0a_11eb_8d1b_9d76a32b2785row17_col9{\n",
       "            font-size:  6pt;\n",
       "            background-color:  #7d7d7d;\n",
       "            color:  #000000;\n",
       "        }#T_32f26114_1e0a_11eb_8d1b_9d76a32b2785row17_col14{\n",
       "            font-size:  6pt;\n",
       "            background-color:  #e1e1e1;\n",
       "            color:  #000000;\n",
       "        }#T_32f26114_1e0a_11eb_8d1b_9d76a32b2785row18_col3,#T_32f26114_1e0a_11eb_8d1b_9d76a32b2785row18_col6{\n",
       "            font-size:  6pt;\n",
       "            background-color:  #a4a4a4;\n",
       "            color:  #000000;\n",
       "        }#T_32f26114_1e0a_11eb_8d1b_9d76a32b2785row18_col7{\n",
       "            font-size:  6pt;\n",
       "            background-color:  #727272;\n",
       "            color:  #000000;\n",
       "        }#T_32f26114_1e0a_11eb_8d1b_9d76a32b2785row18_col12{\n",
       "            font-size:  6pt;\n",
       "            background-color:  #616161;\n",
       "            color:  #f1f1f1;\n",
       "        }#T_32f26114_1e0a_11eb_8d1b_9d76a32b2785row18_col13{\n",
       "            font-size:  6pt;\n",
       "            background-color:  #f3f3f3;\n",
       "            color:  #000000;\n",
       "        }#T_32f26114_1e0a_11eb_8d1b_9d76a32b2785row19_col10{\n",
       "            font-size:  6pt;\n",
       "            background-color:  #484848;\n",
       "            color:  #f1f1f1;\n",
       "        }#T_32f26114_1e0a_11eb_8d1b_9d76a32b2785row20_col2{\n",
       "            font-size:  6pt;\n",
       "            background-color:  #b3b3b3;\n",
       "            color:  #000000;\n",
       "        }#T_32f26114_1e0a_11eb_8d1b_9d76a32b2785row20_col8{\n",
       "            font-size:  6pt;\n",
       "            background-color:  #1a1a1a;\n",
       "            color:  #f1f1f1;\n",
       "        }#T_32f26114_1e0a_11eb_8d1b_9d76a32b2785row20_col9{\n",
       "            font-size:  6pt;\n",
       "            background-color:  #d6d6d6;\n",
       "            color:  #000000;\n",
       "        }</style><table id=\"T_32f26114_1e0a_11eb_8d1b_9d76a32b2785\" ><thead>    <tr>        <th class=\"blank level0\" ></th>        <th class=\"col_heading level0 col0\" >0</th>        <th class=\"col_heading level0 col1\" >1</th>        <th class=\"col_heading level0 col2\" >2</th>        <th class=\"col_heading level0 col3\" >3</th>        <th class=\"col_heading level0 col4\" >4</th>        <th class=\"col_heading level0 col5\" >5</th>        <th class=\"col_heading level0 col6\" >6</th>        <th class=\"col_heading level0 col7\" >7</th>        <th class=\"col_heading level0 col8\" >8</th>        <th class=\"col_heading level0 col9\" >9</th>        <th class=\"col_heading level0 col10\" >10</th>        <th class=\"col_heading level0 col11\" >11</th>        <th class=\"col_heading level0 col12\" >12</th>        <th class=\"col_heading level0 col13\" >13</th>        <th class=\"col_heading level0 col14\" >14</th>        <th class=\"col_heading level0 col15\" >15</th>        <th class=\"col_heading level0 col16\" >16</th>    </tr></thead><tbody>\n",
       "                <tr>\n",
       "                        <th id=\"T_32f26114_1e0a_11eb_8d1b_9d76a32b2785level0_row0\" class=\"row_heading level0 row0\" >0</th>\n",
       "                        <td id=\"T_32f26114_1e0a_11eb_8d1b_9d76a32b2785row0_col0\" class=\"data row0 col0\" >0</td>\n",
       "                        <td id=\"T_32f26114_1e0a_11eb_8d1b_9d76a32b2785row0_col1\" class=\"data row0 col1\" >0</td>\n",
       "                        <td id=\"T_32f26114_1e0a_11eb_8d1b_9d76a32b2785row0_col2\" class=\"data row0 col2\" >0</td>\n",
       "                        <td id=\"T_32f26114_1e0a_11eb_8d1b_9d76a32b2785row0_col3\" class=\"data row0 col3\" >0</td>\n",
       "                        <td id=\"T_32f26114_1e0a_11eb_8d1b_9d76a32b2785row0_col4\" class=\"data row0 col4\" >0</td>\n",
       "                        <td id=\"T_32f26114_1e0a_11eb_8d1b_9d76a32b2785row0_col5\" class=\"data row0 col5\" >0</td>\n",
       "                        <td id=\"T_32f26114_1e0a_11eb_8d1b_9d76a32b2785row0_col6\" class=\"data row0 col6\" >0</td>\n",
       "                        <td id=\"T_32f26114_1e0a_11eb_8d1b_9d76a32b2785row0_col7\" class=\"data row0 col7\" >0</td>\n",
       "                        <td id=\"T_32f26114_1e0a_11eb_8d1b_9d76a32b2785row0_col8\" class=\"data row0 col8\" >0</td>\n",
       "                        <td id=\"T_32f26114_1e0a_11eb_8d1b_9d76a32b2785row0_col9\" class=\"data row0 col9\" >0</td>\n",
       "                        <td id=\"T_32f26114_1e0a_11eb_8d1b_9d76a32b2785row0_col10\" class=\"data row0 col10\" >0</td>\n",
       "                        <td id=\"T_32f26114_1e0a_11eb_8d1b_9d76a32b2785row0_col11\" class=\"data row0 col11\" >0</td>\n",
       "                        <td id=\"T_32f26114_1e0a_11eb_8d1b_9d76a32b2785row0_col12\" class=\"data row0 col12\" >0</td>\n",
       "                        <td id=\"T_32f26114_1e0a_11eb_8d1b_9d76a32b2785row0_col13\" class=\"data row0 col13\" >0</td>\n",
       "                        <td id=\"T_32f26114_1e0a_11eb_8d1b_9d76a32b2785row0_col14\" class=\"data row0 col14\" >0</td>\n",
       "                        <td id=\"T_32f26114_1e0a_11eb_8d1b_9d76a32b2785row0_col15\" class=\"data row0 col15\" >0</td>\n",
       "                        <td id=\"T_32f26114_1e0a_11eb_8d1b_9d76a32b2785row0_col16\" class=\"data row0 col16\" >0</td>\n",
       "            </tr>\n",
       "            <tr>\n",
       "                        <th id=\"T_32f26114_1e0a_11eb_8d1b_9d76a32b2785level0_row1\" class=\"row_heading level0 row1\" >1</th>\n",
       "                        <td id=\"T_32f26114_1e0a_11eb_8d1b_9d76a32b2785row1_col0\" class=\"data row1 col0\" >0</td>\n",
       "                        <td id=\"T_32f26114_1e0a_11eb_8d1b_9d76a32b2785row1_col1\" class=\"data row1 col1\" >0</td>\n",
       "                        <td id=\"T_32f26114_1e0a_11eb_8d1b_9d76a32b2785row1_col2\" class=\"data row1 col2\" >0</td>\n",
       "                        <td id=\"T_32f26114_1e0a_11eb_8d1b_9d76a32b2785row1_col3\" class=\"data row1 col3\" >0</td>\n",
       "                        <td id=\"T_32f26114_1e0a_11eb_8d1b_9d76a32b2785row1_col4\" class=\"data row1 col4\" >0</td>\n",
       "                        <td id=\"T_32f26114_1e0a_11eb_8d1b_9d76a32b2785row1_col5\" class=\"data row1 col5\" >29</td>\n",
       "                        <td id=\"T_32f26114_1e0a_11eb_8d1b_9d76a32b2785row1_col6\" class=\"data row1 col6\" >150</td>\n",
       "                        <td id=\"T_32f26114_1e0a_11eb_8d1b_9d76a32b2785row1_col7\" class=\"data row1 col7\" >195</td>\n",
       "                        <td id=\"T_32f26114_1e0a_11eb_8d1b_9d76a32b2785row1_col8\" class=\"data row1 col8\" >254</td>\n",
       "                        <td id=\"T_32f26114_1e0a_11eb_8d1b_9d76a32b2785row1_col9\" class=\"data row1 col9\" >255</td>\n",
       "                        <td id=\"T_32f26114_1e0a_11eb_8d1b_9d76a32b2785row1_col10\" class=\"data row1 col10\" >254</td>\n",
       "                        <td id=\"T_32f26114_1e0a_11eb_8d1b_9d76a32b2785row1_col11\" class=\"data row1 col11\" >176</td>\n",
       "                        <td id=\"T_32f26114_1e0a_11eb_8d1b_9d76a32b2785row1_col12\" class=\"data row1 col12\" >193</td>\n",
       "                        <td id=\"T_32f26114_1e0a_11eb_8d1b_9d76a32b2785row1_col13\" class=\"data row1 col13\" >150</td>\n",
       "                        <td id=\"T_32f26114_1e0a_11eb_8d1b_9d76a32b2785row1_col14\" class=\"data row1 col14\" >96</td>\n",
       "                        <td id=\"T_32f26114_1e0a_11eb_8d1b_9d76a32b2785row1_col15\" class=\"data row1 col15\" >0</td>\n",
       "                        <td id=\"T_32f26114_1e0a_11eb_8d1b_9d76a32b2785row1_col16\" class=\"data row1 col16\" >0</td>\n",
       "            </tr>\n",
       "            <tr>\n",
       "                        <th id=\"T_32f26114_1e0a_11eb_8d1b_9d76a32b2785level0_row2\" class=\"row_heading level0 row2\" >2</th>\n",
       "                        <td id=\"T_32f26114_1e0a_11eb_8d1b_9d76a32b2785row2_col0\" class=\"data row2 col0\" >0</td>\n",
       "                        <td id=\"T_32f26114_1e0a_11eb_8d1b_9d76a32b2785row2_col1\" class=\"data row2 col1\" >0</td>\n",
       "                        <td id=\"T_32f26114_1e0a_11eb_8d1b_9d76a32b2785row2_col2\" class=\"data row2 col2\" >0</td>\n",
       "                        <td id=\"T_32f26114_1e0a_11eb_8d1b_9d76a32b2785row2_col3\" class=\"data row2 col3\" >48</td>\n",
       "                        <td id=\"T_32f26114_1e0a_11eb_8d1b_9d76a32b2785row2_col4\" class=\"data row2 col4\" >166</td>\n",
       "                        <td id=\"T_32f26114_1e0a_11eb_8d1b_9d76a32b2785row2_col5\" class=\"data row2 col5\" >224</td>\n",
       "                        <td id=\"T_32f26114_1e0a_11eb_8d1b_9d76a32b2785row2_col6\" class=\"data row2 col6\" >253</td>\n",
       "                        <td id=\"T_32f26114_1e0a_11eb_8d1b_9d76a32b2785row2_col7\" class=\"data row2 col7\" >253</td>\n",
       "                        <td id=\"T_32f26114_1e0a_11eb_8d1b_9d76a32b2785row2_col8\" class=\"data row2 col8\" >234</td>\n",
       "                        <td id=\"T_32f26114_1e0a_11eb_8d1b_9d76a32b2785row2_col9\" class=\"data row2 col9\" >196</td>\n",
       "                        <td id=\"T_32f26114_1e0a_11eb_8d1b_9d76a32b2785row2_col10\" class=\"data row2 col10\" >253</td>\n",
       "                        <td id=\"T_32f26114_1e0a_11eb_8d1b_9d76a32b2785row2_col11\" class=\"data row2 col11\" >253</td>\n",
       "                        <td id=\"T_32f26114_1e0a_11eb_8d1b_9d76a32b2785row2_col12\" class=\"data row2 col12\" >253</td>\n",
       "                        <td id=\"T_32f26114_1e0a_11eb_8d1b_9d76a32b2785row2_col13\" class=\"data row2 col13\" >253</td>\n",
       "                        <td id=\"T_32f26114_1e0a_11eb_8d1b_9d76a32b2785row2_col14\" class=\"data row2 col14\" >233</td>\n",
       "                        <td id=\"T_32f26114_1e0a_11eb_8d1b_9d76a32b2785row2_col15\" class=\"data row2 col15\" >0</td>\n",
       "                        <td id=\"T_32f26114_1e0a_11eb_8d1b_9d76a32b2785row2_col16\" class=\"data row2 col16\" >0</td>\n",
       "            </tr>\n",
       "            <tr>\n",
       "                        <th id=\"T_32f26114_1e0a_11eb_8d1b_9d76a32b2785level0_row3\" class=\"row_heading level0 row3\" >3</th>\n",
       "                        <td id=\"T_32f26114_1e0a_11eb_8d1b_9d76a32b2785row3_col0\" class=\"data row3 col0\" >0</td>\n",
       "                        <td id=\"T_32f26114_1e0a_11eb_8d1b_9d76a32b2785row3_col1\" class=\"data row3 col1\" >93</td>\n",
       "                        <td id=\"T_32f26114_1e0a_11eb_8d1b_9d76a32b2785row3_col2\" class=\"data row3 col2\" >244</td>\n",
       "                        <td id=\"T_32f26114_1e0a_11eb_8d1b_9d76a32b2785row3_col3\" class=\"data row3 col3\" >249</td>\n",
       "                        <td id=\"T_32f26114_1e0a_11eb_8d1b_9d76a32b2785row3_col4\" class=\"data row3 col4\" >253</td>\n",
       "                        <td id=\"T_32f26114_1e0a_11eb_8d1b_9d76a32b2785row3_col5\" class=\"data row3 col5\" >187</td>\n",
       "                        <td id=\"T_32f26114_1e0a_11eb_8d1b_9d76a32b2785row3_col6\" class=\"data row3 col6\" >46</td>\n",
       "                        <td id=\"T_32f26114_1e0a_11eb_8d1b_9d76a32b2785row3_col7\" class=\"data row3 col7\" >10</td>\n",
       "                        <td id=\"T_32f26114_1e0a_11eb_8d1b_9d76a32b2785row3_col8\" class=\"data row3 col8\" >8</td>\n",
       "                        <td id=\"T_32f26114_1e0a_11eb_8d1b_9d76a32b2785row3_col9\" class=\"data row3 col9\" >4</td>\n",
       "                        <td id=\"T_32f26114_1e0a_11eb_8d1b_9d76a32b2785row3_col10\" class=\"data row3 col10\" >10</td>\n",
       "                        <td id=\"T_32f26114_1e0a_11eb_8d1b_9d76a32b2785row3_col11\" class=\"data row3 col11\" >194</td>\n",
       "                        <td id=\"T_32f26114_1e0a_11eb_8d1b_9d76a32b2785row3_col12\" class=\"data row3 col12\" >253</td>\n",
       "                        <td id=\"T_32f26114_1e0a_11eb_8d1b_9d76a32b2785row3_col13\" class=\"data row3 col13\" >253</td>\n",
       "                        <td id=\"T_32f26114_1e0a_11eb_8d1b_9d76a32b2785row3_col14\" class=\"data row3 col14\" >233</td>\n",
       "                        <td id=\"T_32f26114_1e0a_11eb_8d1b_9d76a32b2785row3_col15\" class=\"data row3 col15\" >0</td>\n",
       "                        <td id=\"T_32f26114_1e0a_11eb_8d1b_9d76a32b2785row3_col16\" class=\"data row3 col16\" >0</td>\n",
       "            </tr>\n",
       "            <tr>\n",
       "                        <th id=\"T_32f26114_1e0a_11eb_8d1b_9d76a32b2785level0_row4\" class=\"row_heading level0 row4\" >4</th>\n",
       "                        <td id=\"T_32f26114_1e0a_11eb_8d1b_9d76a32b2785row4_col0\" class=\"data row4 col0\" >0</td>\n",
       "                        <td id=\"T_32f26114_1e0a_11eb_8d1b_9d76a32b2785row4_col1\" class=\"data row4 col1\" >107</td>\n",
       "                        <td id=\"T_32f26114_1e0a_11eb_8d1b_9d76a32b2785row4_col2\" class=\"data row4 col2\" >253</td>\n",
       "                        <td id=\"T_32f26114_1e0a_11eb_8d1b_9d76a32b2785row4_col3\" class=\"data row4 col3\" >253</td>\n",
       "                        <td id=\"T_32f26114_1e0a_11eb_8d1b_9d76a32b2785row4_col4\" class=\"data row4 col4\" >230</td>\n",
       "                        <td id=\"T_32f26114_1e0a_11eb_8d1b_9d76a32b2785row4_col5\" class=\"data row4 col5\" >48</td>\n",
       "                        <td id=\"T_32f26114_1e0a_11eb_8d1b_9d76a32b2785row4_col6\" class=\"data row4 col6\" >0</td>\n",
       "                        <td id=\"T_32f26114_1e0a_11eb_8d1b_9d76a32b2785row4_col7\" class=\"data row4 col7\" >0</td>\n",
       "                        <td id=\"T_32f26114_1e0a_11eb_8d1b_9d76a32b2785row4_col8\" class=\"data row4 col8\" >0</td>\n",
       "                        <td id=\"T_32f26114_1e0a_11eb_8d1b_9d76a32b2785row4_col9\" class=\"data row4 col9\" >0</td>\n",
       "                        <td id=\"T_32f26114_1e0a_11eb_8d1b_9d76a32b2785row4_col10\" class=\"data row4 col10\" >0</td>\n",
       "                        <td id=\"T_32f26114_1e0a_11eb_8d1b_9d76a32b2785row4_col11\" class=\"data row4 col11\" >192</td>\n",
       "                        <td id=\"T_32f26114_1e0a_11eb_8d1b_9d76a32b2785row4_col12\" class=\"data row4 col12\" >253</td>\n",
       "                        <td id=\"T_32f26114_1e0a_11eb_8d1b_9d76a32b2785row4_col13\" class=\"data row4 col13\" >253</td>\n",
       "                        <td id=\"T_32f26114_1e0a_11eb_8d1b_9d76a32b2785row4_col14\" class=\"data row4 col14\" >156</td>\n",
       "                        <td id=\"T_32f26114_1e0a_11eb_8d1b_9d76a32b2785row4_col15\" class=\"data row4 col15\" >0</td>\n",
       "                        <td id=\"T_32f26114_1e0a_11eb_8d1b_9d76a32b2785row4_col16\" class=\"data row4 col16\" >0</td>\n",
       "            </tr>\n",
       "            <tr>\n",
       "                        <th id=\"T_32f26114_1e0a_11eb_8d1b_9d76a32b2785level0_row5\" class=\"row_heading level0 row5\" >5</th>\n",
       "                        <td id=\"T_32f26114_1e0a_11eb_8d1b_9d76a32b2785row5_col0\" class=\"data row5 col0\" >0</td>\n",
       "                        <td id=\"T_32f26114_1e0a_11eb_8d1b_9d76a32b2785row5_col1\" class=\"data row5 col1\" >3</td>\n",
       "                        <td id=\"T_32f26114_1e0a_11eb_8d1b_9d76a32b2785row5_col2\" class=\"data row5 col2\" >20</td>\n",
       "                        <td id=\"T_32f26114_1e0a_11eb_8d1b_9d76a32b2785row5_col3\" class=\"data row5 col3\" >20</td>\n",
       "                        <td id=\"T_32f26114_1e0a_11eb_8d1b_9d76a32b2785row5_col4\" class=\"data row5 col4\" >15</td>\n",
       "                        <td id=\"T_32f26114_1e0a_11eb_8d1b_9d76a32b2785row5_col5\" class=\"data row5 col5\" >0</td>\n",
       "                        <td id=\"T_32f26114_1e0a_11eb_8d1b_9d76a32b2785row5_col6\" class=\"data row5 col6\" >0</td>\n",
       "                        <td id=\"T_32f26114_1e0a_11eb_8d1b_9d76a32b2785row5_col7\" class=\"data row5 col7\" >0</td>\n",
       "                        <td id=\"T_32f26114_1e0a_11eb_8d1b_9d76a32b2785row5_col8\" class=\"data row5 col8\" >0</td>\n",
       "                        <td id=\"T_32f26114_1e0a_11eb_8d1b_9d76a32b2785row5_col9\" class=\"data row5 col9\" >0</td>\n",
       "                        <td id=\"T_32f26114_1e0a_11eb_8d1b_9d76a32b2785row5_col10\" class=\"data row5 col10\" >43</td>\n",
       "                        <td id=\"T_32f26114_1e0a_11eb_8d1b_9d76a32b2785row5_col11\" class=\"data row5 col11\" >224</td>\n",
       "                        <td id=\"T_32f26114_1e0a_11eb_8d1b_9d76a32b2785row5_col12\" class=\"data row5 col12\" >253</td>\n",
       "                        <td id=\"T_32f26114_1e0a_11eb_8d1b_9d76a32b2785row5_col13\" class=\"data row5 col13\" >245</td>\n",
       "                        <td id=\"T_32f26114_1e0a_11eb_8d1b_9d76a32b2785row5_col14\" class=\"data row5 col14\" >74</td>\n",
       "                        <td id=\"T_32f26114_1e0a_11eb_8d1b_9d76a32b2785row5_col15\" class=\"data row5 col15\" >0</td>\n",
       "                        <td id=\"T_32f26114_1e0a_11eb_8d1b_9d76a32b2785row5_col16\" class=\"data row5 col16\" >0</td>\n",
       "            </tr>\n",
       "            <tr>\n",
       "                        <th id=\"T_32f26114_1e0a_11eb_8d1b_9d76a32b2785level0_row6\" class=\"row_heading level0 row6\" >6</th>\n",
       "                        <td id=\"T_32f26114_1e0a_11eb_8d1b_9d76a32b2785row6_col0\" class=\"data row6 col0\" >0</td>\n",
       "                        <td id=\"T_32f26114_1e0a_11eb_8d1b_9d76a32b2785row6_col1\" class=\"data row6 col1\" >0</td>\n",
       "                        <td id=\"T_32f26114_1e0a_11eb_8d1b_9d76a32b2785row6_col2\" class=\"data row6 col2\" >0</td>\n",
       "                        <td id=\"T_32f26114_1e0a_11eb_8d1b_9d76a32b2785row6_col3\" class=\"data row6 col3\" >0</td>\n",
       "                        <td id=\"T_32f26114_1e0a_11eb_8d1b_9d76a32b2785row6_col4\" class=\"data row6 col4\" >0</td>\n",
       "                        <td id=\"T_32f26114_1e0a_11eb_8d1b_9d76a32b2785row6_col5\" class=\"data row6 col5\" >0</td>\n",
       "                        <td id=\"T_32f26114_1e0a_11eb_8d1b_9d76a32b2785row6_col6\" class=\"data row6 col6\" >0</td>\n",
       "                        <td id=\"T_32f26114_1e0a_11eb_8d1b_9d76a32b2785row6_col7\" class=\"data row6 col7\" >0</td>\n",
       "                        <td id=\"T_32f26114_1e0a_11eb_8d1b_9d76a32b2785row6_col8\" class=\"data row6 col8\" >0</td>\n",
       "                        <td id=\"T_32f26114_1e0a_11eb_8d1b_9d76a32b2785row6_col9\" class=\"data row6 col9\" >0</td>\n",
       "                        <td id=\"T_32f26114_1e0a_11eb_8d1b_9d76a32b2785row6_col10\" class=\"data row6 col10\" >249</td>\n",
       "                        <td id=\"T_32f26114_1e0a_11eb_8d1b_9d76a32b2785row6_col11\" class=\"data row6 col11\" >253</td>\n",
       "                        <td id=\"T_32f26114_1e0a_11eb_8d1b_9d76a32b2785row6_col12\" class=\"data row6 col12\" >245</td>\n",
       "                        <td id=\"T_32f26114_1e0a_11eb_8d1b_9d76a32b2785row6_col13\" class=\"data row6 col13\" >126</td>\n",
       "                        <td id=\"T_32f26114_1e0a_11eb_8d1b_9d76a32b2785row6_col14\" class=\"data row6 col14\" >0</td>\n",
       "                        <td id=\"T_32f26114_1e0a_11eb_8d1b_9d76a32b2785row6_col15\" class=\"data row6 col15\" >0</td>\n",
       "                        <td id=\"T_32f26114_1e0a_11eb_8d1b_9d76a32b2785row6_col16\" class=\"data row6 col16\" >0</td>\n",
       "            </tr>\n",
       "            <tr>\n",
       "                        <th id=\"T_32f26114_1e0a_11eb_8d1b_9d76a32b2785level0_row7\" class=\"row_heading level0 row7\" >7</th>\n",
       "                        <td id=\"T_32f26114_1e0a_11eb_8d1b_9d76a32b2785row7_col0\" class=\"data row7 col0\" >0</td>\n",
       "                        <td id=\"T_32f26114_1e0a_11eb_8d1b_9d76a32b2785row7_col1\" class=\"data row7 col1\" >0</td>\n",
       "                        <td id=\"T_32f26114_1e0a_11eb_8d1b_9d76a32b2785row7_col2\" class=\"data row7 col2\" >0</td>\n",
       "                        <td id=\"T_32f26114_1e0a_11eb_8d1b_9d76a32b2785row7_col3\" class=\"data row7 col3\" >0</td>\n",
       "                        <td id=\"T_32f26114_1e0a_11eb_8d1b_9d76a32b2785row7_col4\" class=\"data row7 col4\" >0</td>\n",
       "                        <td id=\"T_32f26114_1e0a_11eb_8d1b_9d76a32b2785row7_col5\" class=\"data row7 col5\" >0</td>\n",
       "                        <td id=\"T_32f26114_1e0a_11eb_8d1b_9d76a32b2785row7_col6\" class=\"data row7 col6\" >0</td>\n",
       "                        <td id=\"T_32f26114_1e0a_11eb_8d1b_9d76a32b2785row7_col7\" class=\"data row7 col7\" >14</td>\n",
       "                        <td id=\"T_32f26114_1e0a_11eb_8d1b_9d76a32b2785row7_col8\" class=\"data row7 col8\" >101</td>\n",
       "                        <td id=\"T_32f26114_1e0a_11eb_8d1b_9d76a32b2785row7_col9\" class=\"data row7 col9\" >223</td>\n",
       "                        <td id=\"T_32f26114_1e0a_11eb_8d1b_9d76a32b2785row7_col10\" class=\"data row7 col10\" >253</td>\n",
       "                        <td id=\"T_32f26114_1e0a_11eb_8d1b_9d76a32b2785row7_col11\" class=\"data row7 col11\" >248</td>\n",
       "                        <td id=\"T_32f26114_1e0a_11eb_8d1b_9d76a32b2785row7_col12\" class=\"data row7 col12\" >124</td>\n",
       "                        <td id=\"T_32f26114_1e0a_11eb_8d1b_9d76a32b2785row7_col13\" class=\"data row7 col13\" >0</td>\n",
       "                        <td id=\"T_32f26114_1e0a_11eb_8d1b_9d76a32b2785row7_col14\" class=\"data row7 col14\" >0</td>\n",
       "                        <td id=\"T_32f26114_1e0a_11eb_8d1b_9d76a32b2785row7_col15\" class=\"data row7 col15\" >0</td>\n",
       "                        <td id=\"T_32f26114_1e0a_11eb_8d1b_9d76a32b2785row7_col16\" class=\"data row7 col16\" >0</td>\n",
       "            </tr>\n",
       "            <tr>\n",
       "                        <th id=\"T_32f26114_1e0a_11eb_8d1b_9d76a32b2785level0_row8\" class=\"row_heading level0 row8\" >8</th>\n",
       "                        <td id=\"T_32f26114_1e0a_11eb_8d1b_9d76a32b2785row8_col0\" class=\"data row8 col0\" >0</td>\n",
       "                        <td id=\"T_32f26114_1e0a_11eb_8d1b_9d76a32b2785row8_col1\" class=\"data row8 col1\" >0</td>\n",
       "                        <td id=\"T_32f26114_1e0a_11eb_8d1b_9d76a32b2785row8_col2\" class=\"data row8 col2\" >0</td>\n",
       "                        <td id=\"T_32f26114_1e0a_11eb_8d1b_9d76a32b2785row8_col3\" class=\"data row8 col3\" >0</td>\n",
       "                        <td id=\"T_32f26114_1e0a_11eb_8d1b_9d76a32b2785row8_col4\" class=\"data row8 col4\" >0</td>\n",
       "                        <td id=\"T_32f26114_1e0a_11eb_8d1b_9d76a32b2785row8_col5\" class=\"data row8 col5\" >11</td>\n",
       "                        <td id=\"T_32f26114_1e0a_11eb_8d1b_9d76a32b2785row8_col6\" class=\"data row8 col6\" >166</td>\n",
       "                        <td id=\"T_32f26114_1e0a_11eb_8d1b_9d76a32b2785row8_col7\" class=\"data row8 col7\" >239</td>\n",
       "                        <td id=\"T_32f26114_1e0a_11eb_8d1b_9d76a32b2785row8_col8\" class=\"data row8 col8\" >253</td>\n",
       "                        <td id=\"T_32f26114_1e0a_11eb_8d1b_9d76a32b2785row8_col9\" class=\"data row8 col9\" >253</td>\n",
       "                        <td id=\"T_32f26114_1e0a_11eb_8d1b_9d76a32b2785row8_col10\" class=\"data row8 col10\" >253</td>\n",
       "                        <td id=\"T_32f26114_1e0a_11eb_8d1b_9d76a32b2785row8_col11\" class=\"data row8 col11\" >187</td>\n",
       "                        <td id=\"T_32f26114_1e0a_11eb_8d1b_9d76a32b2785row8_col12\" class=\"data row8 col12\" >30</td>\n",
       "                        <td id=\"T_32f26114_1e0a_11eb_8d1b_9d76a32b2785row8_col13\" class=\"data row8 col13\" >0</td>\n",
       "                        <td id=\"T_32f26114_1e0a_11eb_8d1b_9d76a32b2785row8_col14\" class=\"data row8 col14\" >0</td>\n",
       "                        <td id=\"T_32f26114_1e0a_11eb_8d1b_9d76a32b2785row8_col15\" class=\"data row8 col15\" >0</td>\n",
       "                        <td id=\"T_32f26114_1e0a_11eb_8d1b_9d76a32b2785row8_col16\" class=\"data row8 col16\" >0</td>\n",
       "            </tr>\n",
       "            <tr>\n",
       "                        <th id=\"T_32f26114_1e0a_11eb_8d1b_9d76a32b2785level0_row9\" class=\"row_heading level0 row9\" >9</th>\n",
       "                        <td id=\"T_32f26114_1e0a_11eb_8d1b_9d76a32b2785row9_col0\" class=\"data row9 col0\" >0</td>\n",
       "                        <td id=\"T_32f26114_1e0a_11eb_8d1b_9d76a32b2785row9_col1\" class=\"data row9 col1\" >0</td>\n",
       "                        <td id=\"T_32f26114_1e0a_11eb_8d1b_9d76a32b2785row9_col2\" class=\"data row9 col2\" >0</td>\n",
       "                        <td id=\"T_32f26114_1e0a_11eb_8d1b_9d76a32b2785row9_col3\" class=\"data row9 col3\" >0</td>\n",
       "                        <td id=\"T_32f26114_1e0a_11eb_8d1b_9d76a32b2785row9_col4\" class=\"data row9 col4\" >0</td>\n",
       "                        <td id=\"T_32f26114_1e0a_11eb_8d1b_9d76a32b2785row9_col5\" class=\"data row9 col5\" >16</td>\n",
       "                        <td id=\"T_32f26114_1e0a_11eb_8d1b_9d76a32b2785row9_col6\" class=\"data row9 col6\" >248</td>\n",
       "                        <td id=\"T_32f26114_1e0a_11eb_8d1b_9d76a32b2785row9_col7\" class=\"data row9 col7\" >250</td>\n",
       "                        <td id=\"T_32f26114_1e0a_11eb_8d1b_9d76a32b2785row9_col8\" class=\"data row9 col8\" >253</td>\n",
       "                        <td id=\"T_32f26114_1e0a_11eb_8d1b_9d76a32b2785row9_col9\" class=\"data row9 col9\" >253</td>\n",
       "                        <td id=\"T_32f26114_1e0a_11eb_8d1b_9d76a32b2785row9_col10\" class=\"data row9 col10\" >253</td>\n",
       "                        <td id=\"T_32f26114_1e0a_11eb_8d1b_9d76a32b2785row9_col11\" class=\"data row9 col11\" >253</td>\n",
       "                        <td id=\"T_32f26114_1e0a_11eb_8d1b_9d76a32b2785row9_col12\" class=\"data row9 col12\" >232</td>\n",
       "                        <td id=\"T_32f26114_1e0a_11eb_8d1b_9d76a32b2785row9_col13\" class=\"data row9 col13\" >213</td>\n",
       "                        <td id=\"T_32f26114_1e0a_11eb_8d1b_9d76a32b2785row9_col14\" class=\"data row9 col14\" >111</td>\n",
       "                        <td id=\"T_32f26114_1e0a_11eb_8d1b_9d76a32b2785row9_col15\" class=\"data row9 col15\" >2</td>\n",
       "                        <td id=\"T_32f26114_1e0a_11eb_8d1b_9d76a32b2785row9_col16\" class=\"data row9 col16\" >0</td>\n",
       "            </tr>\n",
       "            <tr>\n",
       "                        <th id=\"T_32f26114_1e0a_11eb_8d1b_9d76a32b2785level0_row10\" class=\"row_heading level0 row10\" >10</th>\n",
       "                        <td id=\"T_32f26114_1e0a_11eb_8d1b_9d76a32b2785row10_col0\" class=\"data row10 col0\" >0</td>\n",
       "                        <td id=\"T_32f26114_1e0a_11eb_8d1b_9d76a32b2785row10_col1\" class=\"data row10 col1\" >0</td>\n",
       "                        <td id=\"T_32f26114_1e0a_11eb_8d1b_9d76a32b2785row10_col2\" class=\"data row10 col2\" >0</td>\n",
       "                        <td id=\"T_32f26114_1e0a_11eb_8d1b_9d76a32b2785row10_col3\" class=\"data row10 col3\" >0</td>\n",
       "                        <td id=\"T_32f26114_1e0a_11eb_8d1b_9d76a32b2785row10_col4\" class=\"data row10 col4\" >0</td>\n",
       "                        <td id=\"T_32f26114_1e0a_11eb_8d1b_9d76a32b2785row10_col5\" class=\"data row10 col5\" >0</td>\n",
       "                        <td id=\"T_32f26114_1e0a_11eb_8d1b_9d76a32b2785row10_col6\" class=\"data row10 col6\" >0</td>\n",
       "                        <td id=\"T_32f26114_1e0a_11eb_8d1b_9d76a32b2785row10_col7\" class=\"data row10 col7\" >43</td>\n",
       "                        <td id=\"T_32f26114_1e0a_11eb_8d1b_9d76a32b2785row10_col8\" class=\"data row10 col8\" >98</td>\n",
       "                        <td id=\"T_32f26114_1e0a_11eb_8d1b_9d76a32b2785row10_col9\" class=\"data row10 col9\" >98</td>\n",
       "                        <td id=\"T_32f26114_1e0a_11eb_8d1b_9d76a32b2785row10_col10\" class=\"data row10 col10\" >208</td>\n",
       "                        <td id=\"T_32f26114_1e0a_11eb_8d1b_9d76a32b2785row10_col11\" class=\"data row10 col11\" >253</td>\n",
       "                        <td id=\"T_32f26114_1e0a_11eb_8d1b_9d76a32b2785row10_col12\" class=\"data row10 col12\" >253</td>\n",
       "                        <td id=\"T_32f26114_1e0a_11eb_8d1b_9d76a32b2785row10_col13\" class=\"data row10 col13\" >253</td>\n",
       "                        <td id=\"T_32f26114_1e0a_11eb_8d1b_9d76a32b2785row10_col14\" class=\"data row10 col14\" >253</td>\n",
       "                        <td id=\"T_32f26114_1e0a_11eb_8d1b_9d76a32b2785row10_col15\" class=\"data row10 col15\" >187</td>\n",
       "                        <td id=\"T_32f26114_1e0a_11eb_8d1b_9d76a32b2785row10_col16\" class=\"data row10 col16\" >22</td>\n",
       "            </tr>\n",
       "            <tr>\n",
       "                        <th id=\"T_32f26114_1e0a_11eb_8d1b_9d76a32b2785level0_row11\" class=\"row_heading level0 row11\" >11</th>\n",
       "                        <td id=\"T_32f26114_1e0a_11eb_8d1b_9d76a32b2785row11_col0\" class=\"data row11 col0\" >0</td>\n",
       "                        <td id=\"T_32f26114_1e0a_11eb_8d1b_9d76a32b2785row11_col1\" class=\"data row11 col1\" >0</td>\n",
       "                        <td id=\"T_32f26114_1e0a_11eb_8d1b_9d76a32b2785row11_col2\" class=\"data row11 col2\" >0</td>\n",
       "                        <td id=\"T_32f26114_1e0a_11eb_8d1b_9d76a32b2785row11_col3\" class=\"data row11 col3\" >0</td>\n",
       "                        <td id=\"T_32f26114_1e0a_11eb_8d1b_9d76a32b2785row11_col4\" class=\"data row11 col4\" >0</td>\n",
       "                        <td id=\"T_32f26114_1e0a_11eb_8d1b_9d76a32b2785row11_col5\" class=\"data row11 col5\" >0</td>\n",
       "                        <td id=\"T_32f26114_1e0a_11eb_8d1b_9d76a32b2785row11_col6\" class=\"data row11 col6\" >0</td>\n",
       "                        <td id=\"T_32f26114_1e0a_11eb_8d1b_9d76a32b2785row11_col7\" class=\"data row11 col7\" >0</td>\n",
       "                        <td id=\"T_32f26114_1e0a_11eb_8d1b_9d76a32b2785row11_col8\" class=\"data row11 col8\" >0</td>\n",
       "                        <td id=\"T_32f26114_1e0a_11eb_8d1b_9d76a32b2785row11_col9\" class=\"data row11 col9\" >0</td>\n",
       "                        <td id=\"T_32f26114_1e0a_11eb_8d1b_9d76a32b2785row11_col10\" class=\"data row11 col10\" >9</td>\n",
       "                        <td id=\"T_32f26114_1e0a_11eb_8d1b_9d76a32b2785row11_col11\" class=\"data row11 col11\" >51</td>\n",
       "                        <td id=\"T_32f26114_1e0a_11eb_8d1b_9d76a32b2785row11_col12\" class=\"data row11 col12\" >119</td>\n",
       "                        <td id=\"T_32f26114_1e0a_11eb_8d1b_9d76a32b2785row11_col13\" class=\"data row11 col13\" >253</td>\n",
       "                        <td id=\"T_32f26114_1e0a_11eb_8d1b_9d76a32b2785row11_col14\" class=\"data row11 col14\" >253</td>\n",
       "                        <td id=\"T_32f26114_1e0a_11eb_8d1b_9d76a32b2785row11_col15\" class=\"data row11 col15\" >253</td>\n",
       "                        <td id=\"T_32f26114_1e0a_11eb_8d1b_9d76a32b2785row11_col16\" class=\"data row11 col16\" >76</td>\n",
       "            </tr>\n",
       "            <tr>\n",
       "                        <th id=\"T_32f26114_1e0a_11eb_8d1b_9d76a32b2785level0_row12\" class=\"row_heading level0 row12\" >12</th>\n",
       "                        <td id=\"T_32f26114_1e0a_11eb_8d1b_9d76a32b2785row12_col0\" class=\"data row12 col0\" >0</td>\n",
       "                        <td id=\"T_32f26114_1e0a_11eb_8d1b_9d76a32b2785row12_col1\" class=\"data row12 col1\" >0</td>\n",
       "                        <td id=\"T_32f26114_1e0a_11eb_8d1b_9d76a32b2785row12_col2\" class=\"data row12 col2\" >0</td>\n",
       "                        <td id=\"T_32f26114_1e0a_11eb_8d1b_9d76a32b2785row12_col3\" class=\"data row12 col3\" >0</td>\n",
       "                        <td id=\"T_32f26114_1e0a_11eb_8d1b_9d76a32b2785row12_col4\" class=\"data row12 col4\" >0</td>\n",
       "                        <td id=\"T_32f26114_1e0a_11eb_8d1b_9d76a32b2785row12_col5\" class=\"data row12 col5\" >0</td>\n",
       "                        <td id=\"T_32f26114_1e0a_11eb_8d1b_9d76a32b2785row12_col6\" class=\"data row12 col6\" >0</td>\n",
       "                        <td id=\"T_32f26114_1e0a_11eb_8d1b_9d76a32b2785row12_col7\" class=\"data row12 col7\" >0</td>\n",
       "                        <td id=\"T_32f26114_1e0a_11eb_8d1b_9d76a32b2785row12_col8\" class=\"data row12 col8\" >0</td>\n",
       "                        <td id=\"T_32f26114_1e0a_11eb_8d1b_9d76a32b2785row12_col9\" class=\"data row12 col9\" >0</td>\n",
       "                        <td id=\"T_32f26114_1e0a_11eb_8d1b_9d76a32b2785row12_col10\" class=\"data row12 col10\" >0</td>\n",
       "                        <td id=\"T_32f26114_1e0a_11eb_8d1b_9d76a32b2785row12_col11\" class=\"data row12 col11\" >0</td>\n",
       "                        <td id=\"T_32f26114_1e0a_11eb_8d1b_9d76a32b2785row12_col12\" class=\"data row12 col12\" >1</td>\n",
       "                        <td id=\"T_32f26114_1e0a_11eb_8d1b_9d76a32b2785row12_col13\" class=\"data row12 col13\" >183</td>\n",
       "                        <td id=\"T_32f26114_1e0a_11eb_8d1b_9d76a32b2785row12_col14\" class=\"data row12 col14\" >253</td>\n",
       "                        <td id=\"T_32f26114_1e0a_11eb_8d1b_9d76a32b2785row12_col15\" class=\"data row12 col15\" >253</td>\n",
       "                        <td id=\"T_32f26114_1e0a_11eb_8d1b_9d76a32b2785row12_col16\" class=\"data row12 col16\" >139</td>\n",
       "            </tr>\n",
       "            <tr>\n",
       "                        <th id=\"T_32f26114_1e0a_11eb_8d1b_9d76a32b2785level0_row13\" class=\"row_heading level0 row13\" >13</th>\n",
       "                        <td id=\"T_32f26114_1e0a_11eb_8d1b_9d76a32b2785row13_col0\" class=\"data row13 col0\" >0</td>\n",
       "                        <td id=\"T_32f26114_1e0a_11eb_8d1b_9d76a32b2785row13_col1\" class=\"data row13 col1\" >0</td>\n",
       "                        <td id=\"T_32f26114_1e0a_11eb_8d1b_9d76a32b2785row13_col2\" class=\"data row13 col2\" >0</td>\n",
       "                        <td id=\"T_32f26114_1e0a_11eb_8d1b_9d76a32b2785row13_col3\" class=\"data row13 col3\" >0</td>\n",
       "                        <td id=\"T_32f26114_1e0a_11eb_8d1b_9d76a32b2785row13_col4\" class=\"data row13 col4\" >0</td>\n",
       "                        <td id=\"T_32f26114_1e0a_11eb_8d1b_9d76a32b2785row13_col5\" class=\"data row13 col5\" >0</td>\n",
       "                        <td id=\"T_32f26114_1e0a_11eb_8d1b_9d76a32b2785row13_col6\" class=\"data row13 col6\" >0</td>\n",
       "                        <td id=\"T_32f26114_1e0a_11eb_8d1b_9d76a32b2785row13_col7\" class=\"data row13 col7\" >0</td>\n",
       "                        <td id=\"T_32f26114_1e0a_11eb_8d1b_9d76a32b2785row13_col8\" class=\"data row13 col8\" >0</td>\n",
       "                        <td id=\"T_32f26114_1e0a_11eb_8d1b_9d76a32b2785row13_col9\" class=\"data row13 col9\" >0</td>\n",
       "                        <td id=\"T_32f26114_1e0a_11eb_8d1b_9d76a32b2785row13_col10\" class=\"data row13 col10\" >0</td>\n",
       "                        <td id=\"T_32f26114_1e0a_11eb_8d1b_9d76a32b2785row13_col11\" class=\"data row13 col11\" >0</td>\n",
       "                        <td id=\"T_32f26114_1e0a_11eb_8d1b_9d76a32b2785row13_col12\" class=\"data row13 col12\" >0</td>\n",
       "                        <td id=\"T_32f26114_1e0a_11eb_8d1b_9d76a32b2785row13_col13\" class=\"data row13 col13\" >182</td>\n",
       "                        <td id=\"T_32f26114_1e0a_11eb_8d1b_9d76a32b2785row13_col14\" class=\"data row13 col14\" >253</td>\n",
       "                        <td id=\"T_32f26114_1e0a_11eb_8d1b_9d76a32b2785row13_col15\" class=\"data row13 col15\" >253</td>\n",
       "                        <td id=\"T_32f26114_1e0a_11eb_8d1b_9d76a32b2785row13_col16\" class=\"data row13 col16\" >104</td>\n",
       "            </tr>\n",
       "            <tr>\n",
       "                        <th id=\"T_32f26114_1e0a_11eb_8d1b_9d76a32b2785level0_row14\" class=\"row_heading level0 row14\" >14</th>\n",
       "                        <td id=\"T_32f26114_1e0a_11eb_8d1b_9d76a32b2785row14_col0\" class=\"data row14 col0\" >0</td>\n",
       "                        <td id=\"T_32f26114_1e0a_11eb_8d1b_9d76a32b2785row14_col1\" class=\"data row14 col1\" >0</td>\n",
       "                        <td id=\"T_32f26114_1e0a_11eb_8d1b_9d76a32b2785row14_col2\" class=\"data row14 col2\" >0</td>\n",
       "                        <td id=\"T_32f26114_1e0a_11eb_8d1b_9d76a32b2785row14_col3\" class=\"data row14 col3\" >0</td>\n",
       "                        <td id=\"T_32f26114_1e0a_11eb_8d1b_9d76a32b2785row14_col4\" class=\"data row14 col4\" >0</td>\n",
       "                        <td id=\"T_32f26114_1e0a_11eb_8d1b_9d76a32b2785row14_col5\" class=\"data row14 col5\" >0</td>\n",
       "                        <td id=\"T_32f26114_1e0a_11eb_8d1b_9d76a32b2785row14_col6\" class=\"data row14 col6\" >0</td>\n",
       "                        <td id=\"T_32f26114_1e0a_11eb_8d1b_9d76a32b2785row14_col7\" class=\"data row14 col7\" >0</td>\n",
       "                        <td id=\"T_32f26114_1e0a_11eb_8d1b_9d76a32b2785row14_col8\" class=\"data row14 col8\" >0</td>\n",
       "                        <td id=\"T_32f26114_1e0a_11eb_8d1b_9d76a32b2785row14_col9\" class=\"data row14 col9\" >0</td>\n",
       "                        <td id=\"T_32f26114_1e0a_11eb_8d1b_9d76a32b2785row14_col10\" class=\"data row14 col10\" >0</td>\n",
       "                        <td id=\"T_32f26114_1e0a_11eb_8d1b_9d76a32b2785row14_col11\" class=\"data row14 col11\" >0</td>\n",
       "                        <td id=\"T_32f26114_1e0a_11eb_8d1b_9d76a32b2785row14_col12\" class=\"data row14 col12\" >85</td>\n",
       "                        <td id=\"T_32f26114_1e0a_11eb_8d1b_9d76a32b2785row14_col13\" class=\"data row14 col13\" >249</td>\n",
       "                        <td id=\"T_32f26114_1e0a_11eb_8d1b_9d76a32b2785row14_col14\" class=\"data row14 col14\" >253</td>\n",
       "                        <td id=\"T_32f26114_1e0a_11eb_8d1b_9d76a32b2785row14_col15\" class=\"data row14 col15\" >253</td>\n",
       "                        <td id=\"T_32f26114_1e0a_11eb_8d1b_9d76a32b2785row14_col16\" class=\"data row14 col16\" >36</td>\n",
       "            </tr>\n",
       "            <tr>\n",
       "                        <th id=\"T_32f26114_1e0a_11eb_8d1b_9d76a32b2785level0_row15\" class=\"row_heading level0 row15\" >15</th>\n",
       "                        <td id=\"T_32f26114_1e0a_11eb_8d1b_9d76a32b2785row15_col0\" class=\"data row15 col0\" >0</td>\n",
       "                        <td id=\"T_32f26114_1e0a_11eb_8d1b_9d76a32b2785row15_col1\" class=\"data row15 col1\" >0</td>\n",
       "                        <td id=\"T_32f26114_1e0a_11eb_8d1b_9d76a32b2785row15_col2\" class=\"data row15 col2\" >0</td>\n",
       "                        <td id=\"T_32f26114_1e0a_11eb_8d1b_9d76a32b2785row15_col3\" class=\"data row15 col3\" >0</td>\n",
       "                        <td id=\"T_32f26114_1e0a_11eb_8d1b_9d76a32b2785row15_col4\" class=\"data row15 col4\" >0</td>\n",
       "                        <td id=\"T_32f26114_1e0a_11eb_8d1b_9d76a32b2785row15_col5\" class=\"data row15 col5\" >0</td>\n",
       "                        <td id=\"T_32f26114_1e0a_11eb_8d1b_9d76a32b2785row15_col6\" class=\"data row15 col6\" >0</td>\n",
       "                        <td id=\"T_32f26114_1e0a_11eb_8d1b_9d76a32b2785row15_col7\" class=\"data row15 col7\" >0</td>\n",
       "                        <td id=\"T_32f26114_1e0a_11eb_8d1b_9d76a32b2785row15_col8\" class=\"data row15 col8\" >0</td>\n",
       "                        <td id=\"T_32f26114_1e0a_11eb_8d1b_9d76a32b2785row15_col9\" class=\"data row15 col9\" >0</td>\n",
       "                        <td id=\"T_32f26114_1e0a_11eb_8d1b_9d76a32b2785row15_col10\" class=\"data row15 col10\" >0</td>\n",
       "                        <td id=\"T_32f26114_1e0a_11eb_8d1b_9d76a32b2785row15_col11\" class=\"data row15 col11\" >60</td>\n",
       "                        <td id=\"T_32f26114_1e0a_11eb_8d1b_9d76a32b2785row15_col12\" class=\"data row15 col12\" >214</td>\n",
       "                        <td id=\"T_32f26114_1e0a_11eb_8d1b_9d76a32b2785row15_col13\" class=\"data row15 col13\" >253</td>\n",
       "                        <td id=\"T_32f26114_1e0a_11eb_8d1b_9d76a32b2785row15_col14\" class=\"data row15 col14\" >253</td>\n",
       "                        <td id=\"T_32f26114_1e0a_11eb_8d1b_9d76a32b2785row15_col15\" class=\"data row15 col15\" >173</td>\n",
       "                        <td id=\"T_32f26114_1e0a_11eb_8d1b_9d76a32b2785row15_col16\" class=\"data row15 col16\" >11</td>\n",
       "            </tr>\n",
       "            <tr>\n",
       "                        <th id=\"T_32f26114_1e0a_11eb_8d1b_9d76a32b2785level0_row16\" class=\"row_heading level0 row16\" >16</th>\n",
       "                        <td id=\"T_32f26114_1e0a_11eb_8d1b_9d76a32b2785row16_col0\" class=\"data row16 col0\" >0</td>\n",
       "                        <td id=\"T_32f26114_1e0a_11eb_8d1b_9d76a32b2785row16_col1\" class=\"data row16 col1\" >0</td>\n",
       "                        <td id=\"T_32f26114_1e0a_11eb_8d1b_9d76a32b2785row16_col2\" class=\"data row16 col2\" >0</td>\n",
       "                        <td id=\"T_32f26114_1e0a_11eb_8d1b_9d76a32b2785row16_col3\" class=\"data row16 col3\" >0</td>\n",
       "                        <td id=\"T_32f26114_1e0a_11eb_8d1b_9d76a32b2785row16_col4\" class=\"data row16 col4\" >0</td>\n",
       "                        <td id=\"T_32f26114_1e0a_11eb_8d1b_9d76a32b2785row16_col5\" class=\"data row16 col5\" >0</td>\n",
       "                        <td id=\"T_32f26114_1e0a_11eb_8d1b_9d76a32b2785row16_col6\" class=\"data row16 col6\" >0</td>\n",
       "                        <td id=\"T_32f26114_1e0a_11eb_8d1b_9d76a32b2785row16_col7\" class=\"data row16 col7\" >0</td>\n",
       "                        <td id=\"T_32f26114_1e0a_11eb_8d1b_9d76a32b2785row16_col8\" class=\"data row16 col8\" >0</td>\n",
       "                        <td id=\"T_32f26114_1e0a_11eb_8d1b_9d76a32b2785row16_col9\" class=\"data row16 col9\" >0</td>\n",
       "                        <td id=\"T_32f26114_1e0a_11eb_8d1b_9d76a32b2785row16_col10\" class=\"data row16 col10\" >98</td>\n",
       "                        <td id=\"T_32f26114_1e0a_11eb_8d1b_9d76a32b2785row16_col11\" class=\"data row16 col11\" >247</td>\n",
       "                        <td id=\"T_32f26114_1e0a_11eb_8d1b_9d76a32b2785row16_col12\" class=\"data row16 col12\" >253</td>\n",
       "                        <td id=\"T_32f26114_1e0a_11eb_8d1b_9d76a32b2785row16_col13\" class=\"data row16 col13\" >253</td>\n",
       "                        <td id=\"T_32f26114_1e0a_11eb_8d1b_9d76a32b2785row16_col14\" class=\"data row16 col14\" >226</td>\n",
       "                        <td id=\"T_32f26114_1e0a_11eb_8d1b_9d76a32b2785row16_col15\" class=\"data row16 col15\" >9</td>\n",
       "                        <td id=\"T_32f26114_1e0a_11eb_8d1b_9d76a32b2785row16_col16\" class=\"data row16 col16\" >0</td>\n",
       "            </tr>\n",
       "            <tr>\n",
       "                        <th id=\"T_32f26114_1e0a_11eb_8d1b_9d76a32b2785level0_row17\" class=\"row_heading level0 row17\" >17</th>\n",
       "                        <td id=\"T_32f26114_1e0a_11eb_8d1b_9d76a32b2785row17_col0\" class=\"data row17 col0\" >0</td>\n",
       "                        <td id=\"T_32f26114_1e0a_11eb_8d1b_9d76a32b2785row17_col1\" class=\"data row17 col1\" >0</td>\n",
       "                        <td id=\"T_32f26114_1e0a_11eb_8d1b_9d76a32b2785row17_col2\" class=\"data row17 col2\" >0</td>\n",
       "                        <td id=\"T_32f26114_1e0a_11eb_8d1b_9d76a32b2785row17_col3\" class=\"data row17 col3\" >0</td>\n",
       "                        <td id=\"T_32f26114_1e0a_11eb_8d1b_9d76a32b2785row17_col4\" class=\"data row17 col4\" >0</td>\n",
       "                        <td id=\"T_32f26114_1e0a_11eb_8d1b_9d76a32b2785row17_col5\" class=\"data row17 col5\" >0</td>\n",
       "                        <td id=\"T_32f26114_1e0a_11eb_8d1b_9d76a32b2785row17_col6\" class=\"data row17 col6\" >0</td>\n",
       "                        <td id=\"T_32f26114_1e0a_11eb_8d1b_9d76a32b2785row17_col7\" class=\"data row17 col7\" >0</td>\n",
       "                        <td id=\"T_32f26114_1e0a_11eb_8d1b_9d76a32b2785row17_col8\" class=\"data row17 col8\" >42</td>\n",
       "                        <td id=\"T_32f26114_1e0a_11eb_8d1b_9d76a32b2785row17_col9\" class=\"data row17 col9\" >150</td>\n",
       "                        <td id=\"T_32f26114_1e0a_11eb_8d1b_9d76a32b2785row17_col10\" class=\"data row17 col10\" >252</td>\n",
       "                        <td id=\"T_32f26114_1e0a_11eb_8d1b_9d76a32b2785row17_col11\" class=\"data row17 col11\" >253</td>\n",
       "                        <td id=\"T_32f26114_1e0a_11eb_8d1b_9d76a32b2785row17_col12\" class=\"data row17 col12\" >253</td>\n",
       "                        <td id=\"T_32f26114_1e0a_11eb_8d1b_9d76a32b2785row17_col13\" class=\"data row17 col13\" >233</td>\n",
       "                        <td id=\"T_32f26114_1e0a_11eb_8d1b_9d76a32b2785row17_col14\" class=\"data row17 col14\" >53</td>\n",
       "                        <td id=\"T_32f26114_1e0a_11eb_8d1b_9d76a32b2785row17_col15\" class=\"data row17 col15\" >0</td>\n",
       "                        <td id=\"T_32f26114_1e0a_11eb_8d1b_9d76a32b2785row17_col16\" class=\"data row17 col16\" >0</td>\n",
       "            </tr>\n",
       "            <tr>\n",
       "                        <th id=\"T_32f26114_1e0a_11eb_8d1b_9d76a32b2785level0_row18\" class=\"row_heading level0 row18\" >18</th>\n",
       "                        <td id=\"T_32f26114_1e0a_11eb_8d1b_9d76a32b2785row18_col0\" class=\"data row18 col0\" >0</td>\n",
       "                        <td id=\"T_32f26114_1e0a_11eb_8d1b_9d76a32b2785row18_col1\" class=\"data row18 col1\" >0</td>\n",
       "                        <td id=\"T_32f26114_1e0a_11eb_8d1b_9d76a32b2785row18_col2\" class=\"data row18 col2\" >42</td>\n",
       "                        <td id=\"T_32f26114_1e0a_11eb_8d1b_9d76a32b2785row18_col3\" class=\"data row18 col3\" >115</td>\n",
       "                        <td id=\"T_32f26114_1e0a_11eb_8d1b_9d76a32b2785row18_col4\" class=\"data row18 col4\" >42</td>\n",
       "                        <td id=\"T_32f26114_1e0a_11eb_8d1b_9d76a32b2785row18_col5\" class=\"data row18 col5\" >60</td>\n",
       "                        <td id=\"T_32f26114_1e0a_11eb_8d1b_9d76a32b2785row18_col6\" class=\"data row18 col6\" >115</td>\n",
       "                        <td id=\"T_32f26114_1e0a_11eb_8d1b_9d76a32b2785row18_col7\" class=\"data row18 col7\" >159</td>\n",
       "                        <td id=\"T_32f26114_1e0a_11eb_8d1b_9d76a32b2785row18_col8\" class=\"data row18 col8\" >240</td>\n",
       "                        <td id=\"T_32f26114_1e0a_11eb_8d1b_9d76a32b2785row18_col9\" class=\"data row18 col9\" >253</td>\n",
       "                        <td id=\"T_32f26114_1e0a_11eb_8d1b_9d76a32b2785row18_col10\" class=\"data row18 col10\" >253</td>\n",
       "                        <td id=\"T_32f26114_1e0a_11eb_8d1b_9d76a32b2785row18_col11\" class=\"data row18 col11\" >250</td>\n",
       "                        <td id=\"T_32f26114_1e0a_11eb_8d1b_9d76a32b2785row18_col12\" class=\"data row18 col12\" >175</td>\n",
       "                        <td id=\"T_32f26114_1e0a_11eb_8d1b_9d76a32b2785row18_col13\" class=\"data row18 col13\" >25</td>\n",
       "                        <td id=\"T_32f26114_1e0a_11eb_8d1b_9d76a32b2785row18_col14\" class=\"data row18 col14\" >0</td>\n",
       "                        <td id=\"T_32f26114_1e0a_11eb_8d1b_9d76a32b2785row18_col15\" class=\"data row18 col15\" >0</td>\n",
       "                        <td id=\"T_32f26114_1e0a_11eb_8d1b_9d76a32b2785row18_col16\" class=\"data row18 col16\" >0</td>\n",
       "            </tr>\n",
       "            <tr>\n",
       "                        <th id=\"T_32f26114_1e0a_11eb_8d1b_9d76a32b2785level0_row19\" class=\"row_heading level0 row19\" >19</th>\n",
       "                        <td id=\"T_32f26114_1e0a_11eb_8d1b_9d76a32b2785row19_col0\" class=\"data row19 col0\" >0</td>\n",
       "                        <td id=\"T_32f26114_1e0a_11eb_8d1b_9d76a32b2785row19_col1\" class=\"data row19 col1\" >0</td>\n",
       "                        <td id=\"T_32f26114_1e0a_11eb_8d1b_9d76a32b2785row19_col2\" class=\"data row19 col2\" >187</td>\n",
       "                        <td id=\"T_32f26114_1e0a_11eb_8d1b_9d76a32b2785row19_col3\" class=\"data row19 col3\" >253</td>\n",
       "                        <td id=\"T_32f26114_1e0a_11eb_8d1b_9d76a32b2785row19_col4\" class=\"data row19 col4\" >253</td>\n",
       "                        <td id=\"T_32f26114_1e0a_11eb_8d1b_9d76a32b2785row19_col5\" class=\"data row19 col5\" >253</td>\n",
       "                        <td id=\"T_32f26114_1e0a_11eb_8d1b_9d76a32b2785row19_col6\" class=\"data row19 col6\" >253</td>\n",
       "                        <td id=\"T_32f26114_1e0a_11eb_8d1b_9d76a32b2785row19_col7\" class=\"data row19 col7\" >253</td>\n",
       "                        <td id=\"T_32f26114_1e0a_11eb_8d1b_9d76a32b2785row19_col8\" class=\"data row19 col8\" >253</td>\n",
       "                        <td id=\"T_32f26114_1e0a_11eb_8d1b_9d76a32b2785row19_col9\" class=\"data row19 col9\" >253</td>\n",
       "                        <td id=\"T_32f26114_1e0a_11eb_8d1b_9d76a32b2785row19_col10\" class=\"data row19 col10\" >197</td>\n",
       "                        <td id=\"T_32f26114_1e0a_11eb_8d1b_9d76a32b2785row19_col11\" class=\"data row19 col11\" >86</td>\n",
       "                        <td id=\"T_32f26114_1e0a_11eb_8d1b_9d76a32b2785row19_col12\" class=\"data row19 col12\" >0</td>\n",
       "                        <td id=\"T_32f26114_1e0a_11eb_8d1b_9d76a32b2785row19_col13\" class=\"data row19 col13\" >0</td>\n",
       "                        <td id=\"T_32f26114_1e0a_11eb_8d1b_9d76a32b2785row19_col14\" class=\"data row19 col14\" >0</td>\n",
       "                        <td id=\"T_32f26114_1e0a_11eb_8d1b_9d76a32b2785row19_col15\" class=\"data row19 col15\" >0</td>\n",
       "                        <td id=\"T_32f26114_1e0a_11eb_8d1b_9d76a32b2785row19_col16\" class=\"data row19 col16\" >0</td>\n",
       "            </tr>\n",
       "            <tr>\n",
       "                        <th id=\"T_32f26114_1e0a_11eb_8d1b_9d76a32b2785level0_row20\" class=\"row_heading level0 row20\" >20</th>\n",
       "                        <td id=\"T_32f26114_1e0a_11eb_8d1b_9d76a32b2785row20_col0\" class=\"data row20 col0\" >0</td>\n",
       "                        <td id=\"T_32f26114_1e0a_11eb_8d1b_9d76a32b2785row20_col1\" class=\"data row20 col1\" >0</td>\n",
       "                        <td id=\"T_32f26114_1e0a_11eb_8d1b_9d76a32b2785row20_col2\" class=\"data row20 col2\" >103</td>\n",
       "                        <td id=\"T_32f26114_1e0a_11eb_8d1b_9d76a32b2785row20_col3\" class=\"data row20 col3\" >253</td>\n",
       "                        <td id=\"T_32f26114_1e0a_11eb_8d1b_9d76a32b2785row20_col4\" class=\"data row20 col4\" >253</td>\n",
       "                        <td id=\"T_32f26114_1e0a_11eb_8d1b_9d76a32b2785row20_col5\" class=\"data row20 col5\" >253</td>\n",
       "                        <td id=\"T_32f26114_1e0a_11eb_8d1b_9d76a32b2785row20_col6\" class=\"data row20 col6\" >253</td>\n",
       "                        <td id=\"T_32f26114_1e0a_11eb_8d1b_9d76a32b2785row20_col7\" class=\"data row20 col7\" >253</td>\n",
       "                        <td id=\"T_32f26114_1e0a_11eb_8d1b_9d76a32b2785row20_col8\" class=\"data row20 col8\" >232</td>\n",
       "                        <td id=\"T_32f26114_1e0a_11eb_8d1b_9d76a32b2785row20_col9\" class=\"data row20 col9\" >67</td>\n",
       "                        <td id=\"T_32f26114_1e0a_11eb_8d1b_9d76a32b2785row20_col10\" class=\"data row20 col10\" >1</td>\n",
       "                        <td id=\"T_32f26114_1e0a_11eb_8d1b_9d76a32b2785row20_col11\" class=\"data row20 col11\" >0</td>\n",
       "                        <td id=\"T_32f26114_1e0a_11eb_8d1b_9d76a32b2785row20_col12\" class=\"data row20 col12\" >0</td>\n",
       "                        <td id=\"T_32f26114_1e0a_11eb_8d1b_9d76a32b2785row20_col13\" class=\"data row20 col13\" >0</td>\n",
       "                        <td id=\"T_32f26114_1e0a_11eb_8d1b_9d76a32b2785row20_col14\" class=\"data row20 col14\" >0</td>\n",
       "                        <td id=\"T_32f26114_1e0a_11eb_8d1b_9d76a32b2785row20_col15\" class=\"data row20 col15\" >0</td>\n",
       "                        <td id=\"T_32f26114_1e0a_11eb_8d1b_9d76a32b2785row20_col16\" class=\"data row20 col16\" >0</td>\n",
       "            </tr>\n",
       "            <tr>\n",
       "                        <th id=\"T_32f26114_1e0a_11eb_8d1b_9d76a32b2785level0_row21\" class=\"row_heading level0 row21\" >21</th>\n",
       "                        <td id=\"T_32f26114_1e0a_11eb_8d1b_9d76a32b2785row21_col0\" class=\"data row21 col0\" >0</td>\n",
       "                        <td id=\"T_32f26114_1e0a_11eb_8d1b_9d76a32b2785row21_col1\" class=\"data row21 col1\" >0</td>\n",
       "                        <td id=\"T_32f26114_1e0a_11eb_8d1b_9d76a32b2785row21_col2\" class=\"data row21 col2\" >0</td>\n",
       "                        <td id=\"T_32f26114_1e0a_11eb_8d1b_9d76a32b2785row21_col3\" class=\"data row21 col3\" >0</td>\n",
       "                        <td id=\"T_32f26114_1e0a_11eb_8d1b_9d76a32b2785row21_col4\" class=\"data row21 col4\" >0</td>\n",
       "                        <td id=\"T_32f26114_1e0a_11eb_8d1b_9d76a32b2785row21_col5\" class=\"data row21 col5\" >0</td>\n",
       "                        <td id=\"T_32f26114_1e0a_11eb_8d1b_9d76a32b2785row21_col6\" class=\"data row21 col6\" >0</td>\n",
       "                        <td id=\"T_32f26114_1e0a_11eb_8d1b_9d76a32b2785row21_col7\" class=\"data row21 col7\" >0</td>\n",
       "                        <td id=\"T_32f26114_1e0a_11eb_8d1b_9d76a32b2785row21_col8\" class=\"data row21 col8\" >0</td>\n",
       "                        <td id=\"T_32f26114_1e0a_11eb_8d1b_9d76a32b2785row21_col9\" class=\"data row21 col9\" >0</td>\n",
       "                        <td id=\"T_32f26114_1e0a_11eb_8d1b_9d76a32b2785row21_col10\" class=\"data row21 col10\" >0</td>\n",
       "                        <td id=\"T_32f26114_1e0a_11eb_8d1b_9d76a32b2785row21_col11\" class=\"data row21 col11\" >0</td>\n",
       "                        <td id=\"T_32f26114_1e0a_11eb_8d1b_9d76a32b2785row21_col12\" class=\"data row21 col12\" >0</td>\n",
       "                        <td id=\"T_32f26114_1e0a_11eb_8d1b_9d76a32b2785row21_col13\" class=\"data row21 col13\" >0</td>\n",
       "                        <td id=\"T_32f26114_1e0a_11eb_8d1b_9d76a32b2785row21_col14\" class=\"data row21 col14\" >0</td>\n",
       "                        <td id=\"T_32f26114_1e0a_11eb_8d1b_9d76a32b2785row21_col15\" class=\"data row21 col15\" >0</td>\n",
       "                        <td id=\"T_32f26114_1e0a_11eb_8d1b_9d76a32b2785row21_col16\" class=\"data row21 col16\" >0</td>\n",
       "            </tr>\n",
       "            <tr>\n",
       "                        <th id=\"T_32f26114_1e0a_11eb_8d1b_9d76a32b2785level0_row22\" class=\"row_heading level0 row22\" >22</th>\n",
       "                        <td id=\"T_32f26114_1e0a_11eb_8d1b_9d76a32b2785row22_col0\" class=\"data row22 col0\" >0</td>\n",
       "                        <td id=\"T_32f26114_1e0a_11eb_8d1b_9d76a32b2785row22_col1\" class=\"data row22 col1\" >0</td>\n",
       "                        <td id=\"T_32f26114_1e0a_11eb_8d1b_9d76a32b2785row22_col2\" class=\"data row22 col2\" >0</td>\n",
       "                        <td id=\"T_32f26114_1e0a_11eb_8d1b_9d76a32b2785row22_col3\" class=\"data row22 col3\" >0</td>\n",
       "                        <td id=\"T_32f26114_1e0a_11eb_8d1b_9d76a32b2785row22_col4\" class=\"data row22 col4\" >0</td>\n",
       "                        <td id=\"T_32f26114_1e0a_11eb_8d1b_9d76a32b2785row22_col5\" class=\"data row22 col5\" >0</td>\n",
       "                        <td id=\"T_32f26114_1e0a_11eb_8d1b_9d76a32b2785row22_col6\" class=\"data row22 col6\" >0</td>\n",
       "                        <td id=\"T_32f26114_1e0a_11eb_8d1b_9d76a32b2785row22_col7\" class=\"data row22 col7\" >0</td>\n",
       "                        <td id=\"T_32f26114_1e0a_11eb_8d1b_9d76a32b2785row22_col8\" class=\"data row22 col8\" >0</td>\n",
       "                        <td id=\"T_32f26114_1e0a_11eb_8d1b_9d76a32b2785row22_col9\" class=\"data row22 col9\" >0</td>\n",
       "                        <td id=\"T_32f26114_1e0a_11eb_8d1b_9d76a32b2785row22_col10\" class=\"data row22 col10\" >0</td>\n",
       "                        <td id=\"T_32f26114_1e0a_11eb_8d1b_9d76a32b2785row22_col11\" class=\"data row22 col11\" >0</td>\n",
       "                        <td id=\"T_32f26114_1e0a_11eb_8d1b_9d76a32b2785row22_col12\" class=\"data row22 col12\" >0</td>\n",
       "                        <td id=\"T_32f26114_1e0a_11eb_8d1b_9d76a32b2785row22_col13\" class=\"data row22 col13\" >0</td>\n",
       "                        <td id=\"T_32f26114_1e0a_11eb_8d1b_9d76a32b2785row22_col14\" class=\"data row22 col14\" >0</td>\n",
       "                        <td id=\"T_32f26114_1e0a_11eb_8d1b_9d76a32b2785row22_col15\" class=\"data row22 col15\" >0</td>\n",
       "                        <td id=\"T_32f26114_1e0a_11eb_8d1b_9d76a32b2785row22_col16\" class=\"data row22 col16\" >0</td>\n",
       "            </tr>\n",
       "            <tr>\n",
       "                        <th id=\"T_32f26114_1e0a_11eb_8d1b_9d76a32b2785level0_row23\" class=\"row_heading level0 row23\" >23</th>\n",
       "                        <td id=\"T_32f26114_1e0a_11eb_8d1b_9d76a32b2785row23_col0\" class=\"data row23 col0\" >0</td>\n",
       "                        <td id=\"T_32f26114_1e0a_11eb_8d1b_9d76a32b2785row23_col1\" class=\"data row23 col1\" >0</td>\n",
       "                        <td id=\"T_32f26114_1e0a_11eb_8d1b_9d76a32b2785row23_col2\" class=\"data row23 col2\" >0</td>\n",
       "                        <td id=\"T_32f26114_1e0a_11eb_8d1b_9d76a32b2785row23_col3\" class=\"data row23 col3\" >0</td>\n",
       "                        <td id=\"T_32f26114_1e0a_11eb_8d1b_9d76a32b2785row23_col4\" class=\"data row23 col4\" >0</td>\n",
       "                        <td id=\"T_32f26114_1e0a_11eb_8d1b_9d76a32b2785row23_col5\" class=\"data row23 col5\" >0</td>\n",
       "                        <td id=\"T_32f26114_1e0a_11eb_8d1b_9d76a32b2785row23_col6\" class=\"data row23 col6\" >0</td>\n",
       "                        <td id=\"T_32f26114_1e0a_11eb_8d1b_9d76a32b2785row23_col7\" class=\"data row23 col7\" >0</td>\n",
       "                        <td id=\"T_32f26114_1e0a_11eb_8d1b_9d76a32b2785row23_col8\" class=\"data row23 col8\" >0</td>\n",
       "                        <td id=\"T_32f26114_1e0a_11eb_8d1b_9d76a32b2785row23_col9\" class=\"data row23 col9\" >0</td>\n",
       "                        <td id=\"T_32f26114_1e0a_11eb_8d1b_9d76a32b2785row23_col10\" class=\"data row23 col10\" >0</td>\n",
       "                        <td id=\"T_32f26114_1e0a_11eb_8d1b_9d76a32b2785row23_col11\" class=\"data row23 col11\" >0</td>\n",
       "                        <td id=\"T_32f26114_1e0a_11eb_8d1b_9d76a32b2785row23_col12\" class=\"data row23 col12\" >0</td>\n",
       "                        <td id=\"T_32f26114_1e0a_11eb_8d1b_9d76a32b2785row23_col13\" class=\"data row23 col13\" >0</td>\n",
       "                        <td id=\"T_32f26114_1e0a_11eb_8d1b_9d76a32b2785row23_col14\" class=\"data row23 col14\" >0</td>\n",
       "                        <td id=\"T_32f26114_1e0a_11eb_8d1b_9d76a32b2785row23_col15\" class=\"data row23 col15\" >0</td>\n",
       "                        <td id=\"T_32f26114_1e0a_11eb_8d1b_9d76a32b2785row23_col16\" class=\"data row23 col16\" >0</td>\n",
       "            </tr>\n",
       "    </tbody></table>"
      ],
      "text/plain": [
       "<pandas.io.formats.style.Styler at 0x7f805fab5100>"
      ]
     },
     "execution_count": 41,
     "metadata": {},
     "output_type": "execute_result"
    }
   ],
   "source": [
    "## We can see an image as numbers using Pandas functionality\n",
    "df = pd.DataFrame(array(Image.open(threes[1]))[4:28,4:21])\n",
    "df.style.set_properties(**{'font-size':'6pt'}).background_gradient('Greys')"
   ]
  },
  {
   "cell_type": "code",
   "execution_count": 216,
   "metadata": {
    "ExecuteTime": {
     "end_time": "2020-11-03T20:23:37.498594Z",
     "start_time": "2020-11-03T20:23:36.009091Z"
    },
    "hidden": true
   },
   "outputs": [],
   "source": [
    "## Loading all data\n",
    "threeList = [tensor(Image.open(o)) for o in threes]\n",
    "sevenList = [tensor(Image.open(o)) for o in sevens]"
   ]
  },
  {
   "cell_type": "code",
   "execution_count": 217,
   "metadata": {
    "ExecuteTime": {
     "end_time": "2020-11-03T20:23:37.676937Z",
     "start_time": "2020-11-03T20:23:37.671624Z"
    },
    "hidden": true
   },
   "outputs": [
    {
     "data": {
      "text/plain": [
       "(6131, 6265)"
      ]
     },
     "execution_count": 217,
     "metadata": {},
     "output_type": "execute_result"
    }
   ],
   "source": [
    "## Printing shape\n",
    "len(threeList), len(sevenList)"
   ]
  },
  {
   "cell_type": "code",
   "execution_count": 218,
   "metadata": {
    "ExecuteTime": {
     "end_time": "2020-11-03T20:23:39.822005Z",
     "start_time": "2020-11-03T20:23:39.787996Z"
    },
    "hidden": true
   },
   "outputs": [
    {
     "data": {
      "text/plain": [
       "torch.Size([6131, 28, 28])"
      ]
     },
     "execution_count": 218,
     "metadata": {},
     "output_type": "execute_result"
    }
   ],
   "source": [
    "## Converting list of tensors into a tensor matrix\n",
    "stacked_threes = torch.stack(threeList).float()/255\n",
    "stacked_sevens = torch.stack(sevenList).float()/255\n",
    "stacked_threes.shape"
   ]
  },
  {
   "cell_type": "markdown",
   "metadata": {
    "heading_collapsed": true
   },
   "source": [
    "## Load Train and Testing data"
   ]
  },
  {
   "cell_type": "code",
   "execution_count": 219,
   "metadata": {
    "ExecuteTime": {
     "end_time": "2020-11-03T20:23:49.054605Z",
     "start_time": "2020-11-03T20:23:49.032582Z"
    },
    "hidden": true
   },
   "outputs": [
    {
     "data": {
      "text/plain": [
       "(torch.Size([12396, 784]), torch.Size([12396, 1]))"
      ]
     },
     "execution_count": 219,
     "metadata": {},
     "output_type": "execute_result"
    }
   ],
   "source": [
    "train_x = torch.cat([stacked_threes, stacked_sevens]).view(-1,28*28)\n",
    "train_y = torch.stack([tensor(1).float()]*len(threes) + [tensor(0).float()]*len(sevens)).unsqueeze(1)\n",
    "train_x.shape, train_y.shape"
   ]
  },
  {
   "cell_type": "code",
   "execution_count": 220,
   "metadata": {
    "ExecuteTime": {
     "end_time": "2020-11-03T20:23:55.106386Z",
     "start_time": "2020-11-03T20:23:54.758048Z"
    },
    "hidden": true
   },
   "outputs": [],
   "source": [
    "train_ds = list(zip(train_x, train_y))"
   ]
  },
  {
   "cell_type": "code",
   "execution_count": 221,
   "metadata": {
    "ExecuteTime": {
     "end_time": "2020-11-03T20:23:56.393673Z",
     "start_time": "2020-11-03T20:23:56.119722Z"
    },
    "hidden": true
   },
   "outputs": [],
   "source": [
    "stacked_threes = torch.stack([tensor(Image.open(o)) for o in (path/'valid/3').ls().sorted()]).float()/255\n",
    "stacked_sevens = torch.stack([tensor(Image.open(o)) for o in (path/'valid/7').ls().sorted()]).float()/255"
   ]
  },
  {
   "cell_type": "code",
   "execution_count": 222,
   "metadata": {
    "ExecuteTime": {
     "end_time": "2020-11-03T20:23:59.588737Z",
     "start_time": "2020-11-03T20:23:59.581393Z"
    },
    "hidden": true
   },
   "outputs": [
    {
     "data": {
      "text/plain": [
       "(torch.Size([2038, 784]), torch.Size([2038, 1]))"
      ]
     },
     "execution_count": 222,
     "metadata": {},
     "output_type": "execute_result"
    }
   ],
   "source": [
    "valid_x = torch.cat([stacked_threes, stacked_sevens]).view(-1,28*28)\n",
    "valid_y = torch.stack([tensor(1).float()]*stacked_threes.shape[0] + [tensor(0).float()]*stacked_sevens.shape[0]).unsqueeze(1)\n",
    "valid_x.shape, valid_y.shape"
   ]
  },
  {
   "cell_type": "code",
   "execution_count": 223,
   "metadata": {
    "ExecuteTime": {
     "end_time": "2020-11-03T20:24:02.232580Z",
     "start_time": "2020-11-03T20:24:02.222317Z"
    },
    "hidden": true
   },
   "outputs": [],
   "source": [
    "valid_ds = list(zip(valid_x, valid_y))"
   ]
  },
  {
   "cell_type": "markdown",
   "metadata": {
    "ExecuteTime": {
     "end_time": "2020-11-03T19:35:17.462807Z",
     "start_time": "2020-11-03T19:35:17.457621Z"
    },
    "heading_collapsed": true
   },
   "source": [
    "## Building simple linear model from scratch"
   ]
  },
  {
   "cell_type": "code",
   "execution_count": 224,
   "metadata": {
    "ExecuteTime": {
     "end_time": "2020-11-03T20:24:11.266773Z",
     "start_time": "2020-11-03T20:24:11.263157Z"
    },
    "hidden": true
   },
   "outputs": [],
   "source": [
    "def init_params(size, var=1.0): return (torch.randn(size) * var).requires_grad_()"
   ]
  },
  {
   "cell_type": "code",
   "execution_count": 387,
   "metadata": {
    "ExecuteTime": {
     "end_time": "2020-11-03T21:51:58.741494Z",
     "start_time": "2020-11-03T21:51:58.738205Z"
    },
    "hidden": true
   },
   "outputs": [],
   "source": [
    "def linear_model(x): return x@weights.T + bias"
   ]
  },
  {
   "cell_type": "code",
   "execution_count": 226,
   "metadata": {
    "ExecuteTime": {
     "end_time": "2020-11-03T20:25:07.726662Z",
     "start_time": "2020-11-03T20:25:07.622244Z"
    },
    "hidden": true
   },
   "outputs": [
    {
     "data": {
      "image/png": "[encoded data removed]",
      "text/plain": [
       "<Figure size 432x288 with 1 Axes>"
      ]
     },
     "metadata": {
      "needs_background": "light"
     },
     "output_type": "display_data"
    }
   ],
   "source": [
    "## Calulating loss \n",
    "def sigmoid_function(x): return 1/ (1+torch.exp(-x))\n",
    "plot_function(sigmoid_function, min=-10, max=10)"
   ]
  },
  {
   "cell_type": "code",
   "execution_count": 227,
   "metadata": {
    "ExecuteTime": {
     "end_time": "2020-11-03T20:25:58.039603Z",
     "start_time": "2020-11-03T20:25:58.036562Z"
    },
    "hidden": true
   },
   "outputs": [],
   "source": [
    "def categorical_entropy(y, preds):\n",
    "    predictions = sigmoid_function(preds)\n",
    "    return torch.where(y == 1, 1-predictions, predictions).mean()"
   ]
  },
  {
   "cell_type": "code",
   "execution_count": 389,
   "metadata": {
    "ExecuteTime": {
     "end_time": "2020-11-03T21:52:08.597518Z",
     "start_time": "2020-11-03T21:52:08.592889Z"
    },
    "hidden": true
   },
   "outputs": [],
   "source": [
    "## Initializing weights, bias and learning rate\n",
    "weights = init_params([1,784])\n",
    "bias = init_params([1])\n",
    "lr = 1."
   ]
  },
  {
   "cell_type": "code",
   "execution_count": 392,
   "metadata": {
    "ExecuteTime": {
     "end_time": "2020-11-03T21:52:30.135776Z",
     "start_time": "2020-11-03T21:52:23.160935Z"
    },
    "hidden": true
   },
   "outputs": [
    {
     "name": "stdout",
     "output_type": "stream",
     "text": [
      "Epoch:0, Loss:0.5009974241256714, Valid Accuracy:0.5147203207015991\n",
      "Epoch:200, Loss:0.03785894438624382, Valid Accuracy:0.9666339755058289\n",
      "Epoch:400, Loss:0.03023432567715645, Valid Accuracy:0.9730127453804016\n",
      "Epoch:600, Loss:0.026194751262664795, Valid Accuracy:0.9749754667282104\n",
      "Epoch:800, Loss:0.023828089237213135, Valid Accuracy:0.9749754667282104\n",
      "Epoch:1000, Loss:0.022284384816884995, Valid Accuracy:0.9759567975997925\n",
      "Epoch:1200, Loss:0.021170921623706818, Valid Accuracy:0.9779195189476013\n",
      "Epoch:1400, Loss:0.020290326327085495, Valid Accuracy:0.9784101843833923\n",
      "Epoch:1600, Loss:0.019550185650587082, Valid Accuracy:0.9793915748596191\n",
      "Epoch:1800, Loss:0.01891574263572693, Valid Accuracy:0.9798822402954102\n",
      "Epoch:2000, Loss:0.018370214849710464, Valid Accuracy:0.9803729057312012\n",
      "Epoch:2200, Loss:0.017899947240948677, Valid Accuracy:0.9808635711669922\n",
      "Epoch:2400, Loss:0.017491847276687622, Valid Accuracy:0.981354296207428\n",
      "Epoch:2600, Loss:0.017133107408881187, Valid Accuracy:0.98233562707901\n",
      "Epoch:2800, Loss:0.01681273803114891, Valid Accuracy:0.983316957950592\n",
      "Epoch:3000, Loss:0.016522474586963654, Valid Accuracy:0.9838076829910278\n"
     ]
    }
   ],
   "source": [
    "## Running gradient decent (3000 epochs)\n",
    "for i in range(3001):\n",
    "    params = [weights, bias]\n",
    "    ## Getting Predictions\n",
    "    preds = linear_model(train_x)\n",
    "    \n",
    "    ## Calculating loss\n",
    "    loss = categorical_entropy(train_y, preds)\n",
    "    loss.backward()\n",
    "    \n",
    "    ## Calculating validation accuracy\n",
    "    preds = sigmoid(linear_model(valid_x)) > 0.5\n",
    "    accuracy = (valid_y == preds).float().mean()\n",
    "    if i%200==0:\n",
    "        print(\"Epoch:{0}, Loss:{1}, Valid Accuracy:{2}\".format(i,loss, accuracy))\n",
    "    \n",
    "    ## Updating weights\n",
    "    for p in params:\n",
    "        p.data -= p.grad * lr\n",
    "        p.grad.zero_()"
   ]
  },
  {
   "cell_type": "markdown",
   "metadata": {
    "ExecuteTime": {
     "end_time": "2020-11-03T22:08:23.934305Z",
     "start_time": "2020-11-03T22:08:23.928722Z"
    },
    "hidden": true
   },
   "source": [
    "Looks good we are at 98.3% accuracy"
   ]
  },
  {
   "cell_type": "markdown",
   "metadata": {
    "ExecuteTime": {
     "end_time": "2020-11-03T21:47:31.909536Z",
     "start_time": "2020-11-03T21:47:31.906816Z"
    }
   },
   "source": [
    "## Stochastic Gradient Decent"
   ]
  },
  {
   "cell_type": "markdown",
   "metadata": {},
   "source": [
    "Stochastic gradient descent is just gradient decent running on minibatches"
   ]
  },
  {
   "cell_type": "code",
   "execution_count": 394,
   "metadata": {
    "ExecuteTime": {
     "end_time": "2020-11-03T21:52:44.848461Z",
     "start_time": "2020-11-03T21:52:44.844038Z"
    }
   },
   "outputs": [],
   "source": [
    "## Creating mini-batches using Dataloader function\n",
    "dl = DataLoader(train_ds, batch_size=256, shuffle=True)\n",
    "valid_dl = DataLoader(valid_ds, batch_size=256)"
   ]
  },
  {
   "cell_type": "code",
   "execution_count": 425,
   "metadata": {
    "ExecuteTime": {
     "end_time": "2020-11-03T22:01:21.892891Z",
     "start_time": "2020-11-03T22:01:21.887153Z"
    }
   },
   "outputs": [],
   "source": [
    "def calc_grad(xb, yb, model):\n",
    "    '''\n",
    "    Function to run a forward pass on a mini-batch and calculate gradients\n",
    "    '''\n",
    "    preds = model(xb)\n",
    "    loss = categorical_entropy(yb, preds)\n",
    "    loss.backward()\n",
    "    \n",
    "def train_epoch(model, lr, params):\n",
    "    '''\n",
    "    Function to run a epoch running multiple mini-batches and updating weights\n",
    "    '''\n",
    "    for xb,yb in dl:\n",
    "        calc_grad(xb, yb, model)\n",
    "        for p in params:\n",
    "            p.data -= p.grad*lr\n",
    "            p.grad.zero_()\n",
    "\n",
    "def batch_accuracy(xb, yb):\n",
    "    '''\n",
    "    Function to calculate accuracy given predictions and actuals\n",
    "    '''\n",
    "    preds = sigmoid_function(xb)\n",
    "    correct = ((preds > 0.5).float() == yb)\n",
    "    return correct.float().mean()\n",
    "\n",
    "def validate_epoch(model):\n",
    "    '''\n",
    "    Function to calculate accuracy of the model on validation data given a model\n",
    "    '''\n",
    "    accs = [batch_accuracy(model(xb), yb) for xb,yb in valid_dl]\n",
    "    return round(torch.stack(accs).mean().item(), 4)"
   ]
  },
  {
   "cell_type": "code",
   "execution_count": 426,
   "metadata": {
    "ExecuteTime": {
     "end_time": "2020-11-03T22:01:24.008986Z",
     "start_time": "2020-11-03T22:01:24.004459Z"
    }
   },
   "outputs": [],
   "source": [
    "## Initializing weights, bias and learning rate for SGD\n",
    "weights = init_params([1,784])\n",
    "bias = init_params([1])\n",
    "lr = 1.\n",
    "params = weights, bias\n"
   ]
  },
  {
   "cell_type": "code",
   "execution_count": 427,
   "metadata": {
    "ExecuteTime": {
     "end_time": "2020-11-03T22:01:27.522503Z",
     "start_time": "2020-11-03T22:01:25.685048Z"
    }
   },
   "outputs": [
    {
     "name": "stdout",
     "output_type": "stream",
     "text": [
      "Epoch:0 , Validation Acc:92.81%\n",
      "Epoch:1 , Validation Acc:94.82%\n",
      "Epoch:2 , Validation Acc:95.06%\n",
      "Epoch:3 , Validation Acc:95.35%\n",
      "Epoch:4 , Validation Acc:95.60%\n",
      "Epoch:5 , Validation Acc:95.79%\n",
      "Epoch:6 , Validation Acc:96.04%\n",
      "Epoch:7 , Validation Acc:96.14%\n",
      "Epoch:8 , Validation Acc:96.33%\n",
      "Epoch:9 , Validation Acc:96.48%\n",
      "Epoch:10 , Validation Acc:96.53%\n",
      "Epoch:11 , Validation Acc:96.67%\n",
      "Epoch:12 , Validation Acc:96.87%\n",
      "Epoch:13 , Validation Acc:96.97%\n",
      "Epoch:14 , Validation Acc:97.02%\n",
      "Epoch:15 , Validation Acc:97.16%\n",
      "Epoch:16 , Validation Acc:97.16%\n",
      "Epoch:17 , Validation Acc:97.26%\n",
      "Epoch:18 , Validation Acc:97.31%\n",
      "Epoch:19 , Validation Acc:97.36%\n"
     ]
    }
   ],
   "source": [
    "# Running SGD for 20 epochs\n",
    "for epoch in range(20):\n",
    "    train_epoch(linear_model, lr, params)\n",
    "    valid_acc = validate_epoch(linear_model)\n",
    "    print(\"Epoch:{0} , Validation Acc:{1:.2f}%\".format(epoch, valid_acc*100))"
   ]
  },
  {
   "cell_type": "markdown",
   "metadata": {},
   "source": [
    "Looks good, we are at 97.36% accuracy"
   ]
  },
  {
   "cell_type": "markdown",
   "metadata": {},
   "source": [
    "## Creating an optimizer"
   ]
  },
  {
   "cell_type": "code",
   "execution_count": 452,
   "metadata": {
    "ExecuteTime": {
     "end_time": "2020-11-03T22:17:41.197679Z",
     "start_time": "2020-11-03T22:17:41.192196Z"
    }
   },
   "outputs": [],
   "source": [
    "class BasicOptim:\n",
    "    def __init__(self, params, lr): self.params, self.lr = list(params), lr\n",
    "    \n",
    "    def step(self, *args, **kwargs):\n",
    "        for p in self.params: p.data -= p.grad.data * self.lr\n",
    "    \n",
    "    def zero_grad(self, *agrs, **kwargs):\n",
    "        for p in self.params: p.grad.zero_()"
   ]
  },
  {
   "cell_type": "code",
   "execution_count": null,
   "metadata": {},
   "outputs": [],
   "source": [
    "def train_epoch(model):\n",
    "    for xb, yb in dl:\n",
    "        calc_grad(xb, yb, model)\n",
    "        opt.step()\n",
    "        opt.zero_grad()"
   ]
  },
  {
   "cell_type": "code",
   "execution_count": null,
   "metadata": {},
   "outputs": [],
   "source": [
    "def train_model(model, epoch):\n",
    "    for e in range(epoch):\n",
    "        train_epoch(linear_model)\n",
    "        valid_acc = validate_epoch(linear_model)\n",
    "        print(\"Epoch:{0} , Validation Acc:{1:.2f}%\".format(e, valid_acc*100))"
   ]
  },
  {
   "cell_type": "code",
   "execution_count": 461,
   "metadata": {
    "ExecuteTime": {
     "end_time": "2020-11-03T22:19:38.363698Z",
     "start_time": "2020-11-03T22:19:38.359264Z"
    }
   },
   "outputs": [],
   "source": [
    "linear_model = nn.Linear(28*28, 1)\n",
    "## Initializing optimizer\n",
    "opt = BasicOptim(linear_model.parameters(), lr =1.)"
   ]
  },
  {
   "cell_type": "code",
   "execution_count": 462,
   "metadata": {
    "ExecuteTime": {
     "end_time": "2020-11-03T22:19:46.127834Z",
     "start_time": "2020-11-03T22:19:44.430284Z"
    }
   },
   "outputs": [
    {
     "name": "stdout",
     "output_type": "stream",
     "text": [
      "Epoch:0 , Validation Acc:97.06%\n",
      "Epoch:1 , Validation Acc:97.50%\n",
      "Epoch:2 , Validation Acc:97.65%\n",
      "Epoch:3 , Validation Acc:97.70%\n",
      "Epoch:4 , Validation Acc:97.80%\n",
      "Epoch:5 , Validation Acc:97.95%\n",
      "Epoch:6 , Validation Acc:97.85%\n",
      "Epoch:7 , Validation Acc:97.99%\n",
      "Epoch:8 , Validation Acc:97.95%\n",
      "Epoch:9 , Validation Acc:98.04%\n",
      "Epoch:10 , Validation Acc:98.04%\n",
      "Epoch:11 , Validation Acc:98.19%\n",
      "Epoch:12 , Validation Acc:98.09%\n",
      "Epoch:13 , Validation Acc:98.19%\n",
      "Epoch:14 , Validation Acc:98.24%\n",
      "Epoch:15 , Validation Acc:98.24%\n",
      "Epoch:16 , Validation Acc:98.19%\n",
      "Epoch:17 , Validation Acc:98.24%\n",
      "Epoch:18 , Validation Acc:98.34%\n",
      "Epoch:19 , Validation Acc:98.19%\n"
     ]
    }
   ],
   "source": [
    "## Train for 20 epochs\n",
    "train_model(linear_model, 20)"
   ]
  },
  {
   "cell_type": "markdown",
   "metadata": {
    "ExecuteTime": {
     "end_time": "2020-11-03T22:24:43.138056Z",
     "start_time": "2020-11-03T22:24:43.134602Z"
    }
   },
   "source": [
    "## Using Pytorch SGD Function"
   ]
  },
  {
   "cell_type": "code",
   "execution_count": 466,
   "metadata": {
    "ExecuteTime": {
     "end_time": "2020-11-03T22:26:20.583450Z",
     "start_time": "2020-11-03T22:26:20.578955Z"
    }
   },
   "outputs": [],
   "source": [
    "linear_model = nn.Linear(28*28, 1)\n",
    "opt = SGD(linear_model.parameters(), lr)"
   ]
  },
  {
   "cell_type": "code",
   "execution_count": 467,
   "metadata": {
    "ExecuteTime": {
     "end_time": "2020-11-03T22:26:24.838842Z",
     "start_time": "2020-11-03T22:26:23.058583Z"
    }
   },
   "outputs": [
    {
     "name": "stdout",
     "output_type": "stream",
     "text": [
      "Epoch:0 , Validation Acc:97.01%\n",
      "Epoch:1 , Validation Acc:97.60%\n",
      "Epoch:2 , Validation Acc:97.55%\n",
      "Epoch:3 , Validation Acc:97.60%\n",
      "Epoch:4 , Validation Acc:97.75%\n",
      "Epoch:5 , Validation Acc:97.90%\n",
      "Epoch:6 , Validation Acc:97.90%\n",
      "Epoch:7 , Validation Acc:97.95%\n",
      "Epoch:8 , Validation Acc:97.95%\n",
      "Epoch:9 , Validation Acc:97.99%\n",
      "Epoch:10 , Validation Acc:97.99%\n",
      "Epoch:11 , Validation Acc:97.99%\n",
      "Epoch:12 , Validation Acc:98.14%\n",
      "Epoch:13 , Validation Acc:98.14%\n",
      "Epoch:14 , Validation Acc:98.24%\n",
      "Epoch:15 , Validation Acc:98.09%\n",
      "Epoch:16 , Validation Acc:98.19%\n",
      "Epoch:17 , Validation Acc:98.19%\n",
      "Epoch:18 , Validation Acc:98.34%\n",
      "Epoch:19 , Validation Acc:98.19%\n"
     ]
    }
   ],
   "source": [
    "train_model(linear_model, 20)"
   ]
  },
  {
   "cell_type": "markdown",
   "metadata": {},
   "source": [
    "Same results!"
   ]
  },
  {
   "cell_type": "markdown",
   "metadata": {},
   "source": [
    "## Using FastAI function"
   ]
  },
  {
   "cell_type": "code",
   "execution_count": 474,
   "metadata": {
    "ExecuteTime": {
     "end_time": "2020-11-03T22:31:49.166410Z",
     "start_time": "2020-11-03T22:31:49.162874Z"
    }
   },
   "outputs": [],
   "source": [
    "dls = DataLoaders(dl, valid_dl)"
   ]
  },
  {
   "cell_type": "code",
   "execution_count": 491,
   "metadata": {
    "ExecuteTime": {
     "end_time": "2020-11-03T22:35:13.379246Z",
     "start_time": "2020-11-03T22:35:13.374734Z"
    }
   },
   "outputs": [],
   "source": [
    "## Need to rewrite functions as the learner takes functions with prediction, target as ip\n",
    "def mnist_loss(predictions, targets):\n",
    "    predictions = predictions.sigmoid()\n",
    "    return torch.where(targets==1, 1-predictions, predictions).mean()\n",
    "\n",
    "def batch_accuracy(xb, yb):\n",
    "    '''\n",
    "    Function to calculate accuracy given predictions and actuals\n",
    "    '''\n",
    "    preds = sigmoid_function(xb)\n",
    "    correct = ((preds > 0.5).float() == yb)\n",
    "    return correct.float().mean()"
   ]
  },
  {
   "cell_type": "code",
   "execution_count": 489,
   "metadata": {
    "ExecuteTime": {
     "end_time": "2020-11-03T22:34:32.719619Z",
     "start_time": "2020-11-03T22:34:32.715820Z"
    }
   },
   "outputs": [],
   "source": [
    "learn = Learner(dls = dls, model = nn.Linear(28*28,1), opt_func=SGD, loss_func=mnist_loss, metrics=batch_accuracy)"
   ]
  },
  {
   "cell_type": "code",
   "execution_count": 490,
   "metadata": {
    "ExecuteTime": {
     "end_time": "2020-11-03T22:34:38.034017Z",
     "start_time": "2020-11-03T22:34:33.954658Z"
    }
   },
   "outputs": [
    {
     "data": {
      "text/html": [
       "<table border=\"1\" class=\"dataframe\">\n",
       "  <thead>\n",
       "    <tr style=\"text-align: left;\">\n",
       "      <th>epoch</th>\n",
       "      <th>train_loss</th>\n",
       "      <th>valid_loss</th>\n",
       "      <th>batch_accuracy</th>\n",
       "      <th>time</th>\n",
       "    </tr>\n",
       "  </thead>\n",
       "  <tbody>\n",
       "    <tr>\n",
       "      <td>0</td>\n",
       "      <td>0.059424</td>\n",
       "      <td>0.041718</td>\n",
       "      <td>0.971050</td>\n",
       "      <td>00:00</td>\n",
       "    </tr>\n",
       "    <tr>\n",
       "      <td>1</td>\n",
       "      <td>0.040676</td>\n",
       "      <td>0.034971</td>\n",
       "      <td>0.974485</td>\n",
       "      <td>00:00</td>\n",
       "    </tr>\n",
       "    <tr>\n",
       "      <td>2</td>\n",
       "      <td>0.032632</td>\n",
       "      <td>0.031852</td>\n",
       "      <td>0.975957</td>\n",
       "      <td>00:00</td>\n",
       "    </tr>\n",
       "    <tr>\n",
       "      <td>3</td>\n",
       "      <td>0.028465</td>\n",
       "      <td>0.029870</td>\n",
       "      <td>0.976938</td>\n",
       "      <td>00:00</td>\n",
       "    </tr>\n",
       "    <tr>\n",
       "      <td>4</td>\n",
       "      <td>0.025528</td>\n",
       "      <td>0.028511</td>\n",
       "      <td>0.978410</td>\n",
       "      <td>00:00</td>\n",
       "    </tr>\n",
       "    <tr>\n",
       "      <td>5</td>\n",
       "      <td>0.023832</td>\n",
       "      <td>0.027159</td>\n",
       "      <td>0.979392</td>\n",
       "      <td>00:00</td>\n",
       "    </tr>\n",
       "    <tr>\n",
       "      <td>6</td>\n",
       "      <td>0.022329</td>\n",
       "      <td>0.026490</td>\n",
       "      <td>0.979882</td>\n",
       "      <td>00:00</td>\n",
       "    </tr>\n",
       "    <tr>\n",
       "      <td>7</td>\n",
       "      <td>0.021117</td>\n",
       "      <td>0.025315</td>\n",
       "      <td>0.979882</td>\n",
       "      <td>00:00</td>\n",
       "    </tr>\n",
       "    <tr>\n",
       "      <td>8</td>\n",
       "      <td>0.020728</td>\n",
       "      <td>0.024980</td>\n",
       "      <td>0.980864</td>\n",
       "      <td>00:00</td>\n",
       "    </tr>\n",
       "    <tr>\n",
       "      <td>9</td>\n",
       "      <td>0.019760</td>\n",
       "      <td>0.024311</td>\n",
       "      <td>0.980864</td>\n",
       "      <td>00:00</td>\n",
       "    </tr>\n",
       "    <tr>\n",
       "      <td>10</td>\n",
       "      <td>0.019142</td>\n",
       "      <td>0.024112</td>\n",
       "      <td>0.980373</td>\n",
       "      <td>00:00</td>\n",
       "    </tr>\n",
       "    <tr>\n",
       "      <td>11</td>\n",
       "      <td>0.018997</td>\n",
       "      <td>0.023989</td>\n",
       "      <td>0.981354</td>\n",
       "      <td>00:00</td>\n",
       "    </tr>\n",
       "    <tr>\n",
       "      <td>12</td>\n",
       "      <td>0.019028</td>\n",
       "      <td>0.023027</td>\n",
       "      <td>0.980373</td>\n",
       "      <td>00:00</td>\n",
       "    </tr>\n",
       "    <tr>\n",
       "      <td>13</td>\n",
       "      <td>0.018575</td>\n",
       "      <td>0.022878</td>\n",
       "      <td>0.981354</td>\n",
       "      <td>00:00</td>\n",
       "    </tr>\n",
       "    <tr>\n",
       "      <td>14</td>\n",
       "      <td>0.018256</td>\n",
       "      <td>0.023061</td>\n",
       "      <td>0.981845</td>\n",
       "      <td>00:00</td>\n",
       "    </tr>\n",
       "    <tr>\n",
       "      <td>15</td>\n",
       "      <td>0.017362</td>\n",
       "      <td>0.022178</td>\n",
       "      <td>0.982336</td>\n",
       "      <td>00:00</td>\n",
       "    </tr>\n",
       "    <tr>\n",
       "      <td>16</td>\n",
       "      <td>0.017075</td>\n",
       "      <td>0.021918</td>\n",
       "      <td>0.982336</td>\n",
       "      <td>00:00</td>\n",
       "    </tr>\n",
       "    <tr>\n",
       "      <td>17</td>\n",
       "      <td>0.016890</td>\n",
       "      <td>0.021775</td>\n",
       "      <td>0.982336</td>\n",
       "      <td>00:00</td>\n",
       "    </tr>\n",
       "    <tr>\n",
       "      <td>18</td>\n",
       "      <td>0.016748</td>\n",
       "      <td>0.021461</td>\n",
       "      <td>0.981845</td>\n",
       "      <td>00:00</td>\n",
       "    </tr>\n",
       "    <tr>\n",
       "      <td>19</td>\n",
       "      <td>0.016677</td>\n",
       "      <td>0.021329</td>\n",
       "      <td>0.982336</td>\n",
       "      <td>00:00</td>\n",
       "    </tr>\n",
       "  </tbody>\n",
       "</table>"
      ],
      "text/plain": [
       "<IPython.core.display.HTML object>"
      ]
     },
     "metadata": {},
     "output_type": "display_data"
    }
   ],
   "source": [
    "learn.fit(20, lr=lr)"
   ]
  },
  {
   "cell_type": "markdown",
   "metadata": {},
   "source": [
    "## Adding Non-Linearity"
   ]
  },
  {
   "cell_type": "code",
   "execution_count": 493,
   "metadata": {
    "ExecuteTime": {
     "end_time": "2020-11-03T22:36:36.410726Z",
     "start_time": "2020-11-03T22:36:36.406442Z"
    }
   },
   "outputs": [],
   "source": [
    "simple_net = nn.Sequential(\n",
    "    nn.Linear(28*28,30),\n",
    "    nn.ReLU(),\n",
    "    nn.Linear(30,1)\n",
    ")"
   ]
  },
  {
   "cell_type": "code",
   "execution_count": 494,
   "metadata": {
    "ExecuteTime": {
     "end_time": "2020-11-03T22:36:50.571219Z",
     "start_time": "2020-11-03T22:36:50.566472Z"
    }
   },
   "outputs": [],
   "source": [
    "learn = Learner(dls = dls, model = simple_net, opt_func=SGD, loss_func=mnist_loss, metrics=batch_accuracy)"
   ]
  },
  {
   "cell_type": "code",
   "execution_count": 495,
   "metadata": {
    "ExecuteTime": {
     "end_time": "2020-11-03T22:37:10.206733Z",
     "start_time": "2020-11-03T22:37:01.302313Z"
    },
    "scrolled": true
   },
   "outputs": [
    {
     "data": {
      "text/html": [
       "<table border=\"1\" class=\"dataframe\">\n",
       "  <thead>\n",
       "    <tr style=\"text-align: left;\">\n",
       "      <th>epoch</th>\n",
       "      <th>train_loss</th>\n",
       "      <th>valid_loss</th>\n",
       "      <th>batch_accuracy</th>\n",
       "      <th>time</th>\n",
       "    </tr>\n",
       "  </thead>\n",
       "  <tbody>\n",
       "    <tr>\n",
       "      <td>0</td>\n",
       "      <td>0.228883</td>\n",
       "      <td>0.091596</td>\n",
       "      <td>0.966143</td>\n",
       "      <td>00:00</td>\n",
       "    </tr>\n",
       "    <tr>\n",
       "      <td>1</td>\n",
       "      <td>0.108922</td>\n",
       "      <td>0.054122</td>\n",
       "      <td>0.969087</td>\n",
       "      <td>00:00</td>\n",
       "    </tr>\n",
       "    <tr>\n",
       "      <td>2</td>\n",
       "      <td>0.067151</td>\n",
       "      <td>0.044367</td>\n",
       "      <td>0.970559</td>\n",
       "      <td>00:00</td>\n",
       "    </tr>\n",
       "    <tr>\n",
       "      <td>3</td>\n",
       "      <td>0.048629</td>\n",
       "      <td>0.039715</td>\n",
       "      <td>0.970069</td>\n",
       "      <td>00:00</td>\n",
       "    </tr>\n",
       "    <tr>\n",
       "      <td>4</td>\n",
       "      <td>0.039262</td>\n",
       "      <td>0.036837</td>\n",
       "      <td>0.971541</td>\n",
       "      <td>00:00</td>\n",
       "    </tr>\n",
       "    <tr>\n",
       "      <td>5</td>\n",
       "      <td>0.033895</td>\n",
       "      <td>0.034612</td>\n",
       "      <td>0.973013</td>\n",
       "      <td>00:00</td>\n",
       "    </tr>\n",
       "    <tr>\n",
       "      <td>6</td>\n",
       "      <td>0.030768</td>\n",
       "      <td>0.033057</td>\n",
       "      <td>0.973994</td>\n",
       "      <td>00:00</td>\n",
       "    </tr>\n",
       "    <tr>\n",
       "      <td>7</td>\n",
       "      <td>0.028214</td>\n",
       "      <td>0.031839</td>\n",
       "      <td>0.975957</td>\n",
       "      <td>00:00</td>\n",
       "    </tr>\n",
       "    <tr>\n",
       "      <td>8</td>\n",
       "      <td>0.026328</td>\n",
       "      <td>0.030619</td>\n",
       "      <td>0.976448</td>\n",
       "      <td>00:00</td>\n",
       "    </tr>\n",
       "    <tr>\n",
       "      <td>9</td>\n",
       "      <td>0.024962</td>\n",
       "      <td>0.030005</td>\n",
       "      <td>0.974975</td>\n",
       "      <td>00:00</td>\n",
       "    </tr>\n",
       "    <tr>\n",
       "      <td>10</td>\n",
       "      <td>0.024062</td>\n",
       "      <td>0.028995</td>\n",
       "      <td>0.976938</td>\n",
       "      <td>00:00</td>\n",
       "    </tr>\n",
       "    <tr>\n",
       "      <td>11</td>\n",
       "      <td>0.023247</td>\n",
       "      <td>0.028380</td>\n",
       "      <td>0.976938</td>\n",
       "      <td>00:00</td>\n",
       "    </tr>\n",
       "    <tr>\n",
       "      <td>12</td>\n",
       "      <td>0.022341</td>\n",
       "      <td>0.027813</td>\n",
       "      <td>0.976448</td>\n",
       "      <td>00:00</td>\n",
       "    </tr>\n",
       "    <tr>\n",
       "      <td>13</td>\n",
       "      <td>0.022114</td>\n",
       "      <td>0.027031</td>\n",
       "      <td>0.978410</td>\n",
       "      <td>00:00</td>\n",
       "    </tr>\n",
       "    <tr>\n",
       "      <td>14</td>\n",
       "      <td>0.021686</td>\n",
       "      <td>0.026699</td>\n",
       "      <td>0.977920</td>\n",
       "      <td>00:00</td>\n",
       "    </tr>\n",
       "    <tr>\n",
       "      <td>15</td>\n",
       "      <td>0.020770</td>\n",
       "      <td>0.026236</td>\n",
       "      <td>0.977920</td>\n",
       "      <td>00:00</td>\n",
       "    </tr>\n",
       "    <tr>\n",
       "      <td>16</td>\n",
       "      <td>0.020642</td>\n",
       "      <td>0.025858</td>\n",
       "      <td>0.977429</td>\n",
       "      <td>00:00</td>\n",
       "    </tr>\n",
       "    <tr>\n",
       "      <td>17</td>\n",
       "      <td>0.020233</td>\n",
       "      <td>0.025589</td>\n",
       "      <td>0.978410</td>\n",
       "      <td>00:00</td>\n",
       "    </tr>\n",
       "    <tr>\n",
       "      <td>18</td>\n",
       "      <td>0.019981</td>\n",
       "      <td>0.024919</td>\n",
       "      <td>0.978901</td>\n",
       "      <td>00:00</td>\n",
       "    </tr>\n",
       "    <tr>\n",
       "      <td>19</td>\n",
       "      <td>0.019600</td>\n",
       "      <td>0.024616</td>\n",
       "      <td>0.977920</td>\n",
       "      <td>00:00</td>\n",
       "    </tr>\n",
       "    <tr>\n",
       "      <td>20</td>\n",
       "      <td>0.019115</td>\n",
       "      <td>0.024241</td>\n",
       "      <td>0.977920</td>\n",
       "      <td>00:00</td>\n",
       "    </tr>\n",
       "    <tr>\n",
       "      <td>21</td>\n",
       "      <td>0.018917</td>\n",
       "      <td>0.023972</td>\n",
       "      <td>0.977920</td>\n",
       "      <td>00:00</td>\n",
       "    </tr>\n",
       "    <tr>\n",
       "      <td>22</td>\n",
       "      <td>0.018533</td>\n",
       "      <td>0.023456</td>\n",
       "      <td>0.979882</td>\n",
       "      <td>00:00</td>\n",
       "    </tr>\n",
       "    <tr>\n",
       "      <td>23</td>\n",
       "      <td>0.018039</td>\n",
       "      <td>0.023317</td>\n",
       "      <td>0.978410</td>\n",
       "      <td>00:00</td>\n",
       "    </tr>\n",
       "    <tr>\n",
       "      <td>24</td>\n",
       "      <td>0.018356</td>\n",
       "      <td>0.023142</td>\n",
       "      <td>0.979392</td>\n",
       "      <td>00:00</td>\n",
       "    </tr>\n",
       "    <tr>\n",
       "      <td>25</td>\n",
       "      <td>0.017609</td>\n",
       "      <td>0.022990</td>\n",
       "      <td>0.979882</td>\n",
       "      <td>00:00</td>\n",
       "    </tr>\n",
       "    <tr>\n",
       "      <td>26</td>\n",
       "      <td>0.017132</td>\n",
       "      <td>0.022570</td>\n",
       "      <td>0.978901</td>\n",
       "      <td>00:00</td>\n",
       "    </tr>\n",
       "    <tr>\n",
       "      <td>27</td>\n",
       "      <td>0.017276</td>\n",
       "      <td>0.022669</td>\n",
       "      <td>0.981354</td>\n",
       "      <td>00:00</td>\n",
       "    </tr>\n",
       "    <tr>\n",
       "      <td>28</td>\n",
       "      <td>0.016969</td>\n",
       "      <td>0.022275</td>\n",
       "      <td>0.981354</td>\n",
       "      <td>00:00</td>\n",
       "    </tr>\n",
       "    <tr>\n",
       "      <td>29</td>\n",
       "      <td>0.016885</td>\n",
       "      <td>0.021949</td>\n",
       "      <td>0.980864</td>\n",
       "      <td>00:00</td>\n",
       "    </tr>\n",
       "    <tr>\n",
       "      <td>30</td>\n",
       "      <td>0.016965</td>\n",
       "      <td>0.021909</td>\n",
       "      <td>0.981354</td>\n",
       "      <td>00:00</td>\n",
       "    </tr>\n",
       "    <tr>\n",
       "      <td>31</td>\n",
       "      <td>0.016905</td>\n",
       "      <td>0.021969</td>\n",
       "      <td>0.981354</td>\n",
       "      <td>00:00</td>\n",
       "    </tr>\n",
       "    <tr>\n",
       "      <td>32</td>\n",
       "      <td>0.016539</td>\n",
       "      <td>0.021412</td>\n",
       "      <td>0.981354</td>\n",
       "      <td>00:00</td>\n",
       "    </tr>\n",
       "    <tr>\n",
       "      <td>33</td>\n",
       "      <td>0.016244</td>\n",
       "      <td>0.021194</td>\n",
       "      <td>0.980864</td>\n",
       "      <td>00:00</td>\n",
       "    </tr>\n",
       "    <tr>\n",
       "      <td>34</td>\n",
       "      <td>0.016052</td>\n",
       "      <td>0.021123</td>\n",
       "      <td>0.980864</td>\n",
       "      <td>00:00</td>\n",
       "    </tr>\n",
       "    <tr>\n",
       "      <td>35</td>\n",
       "      <td>0.015680</td>\n",
       "      <td>0.020880</td>\n",
       "      <td>0.980864</td>\n",
       "      <td>00:00</td>\n",
       "    </tr>\n",
       "    <tr>\n",
       "      <td>36</td>\n",
       "      <td>0.015747</td>\n",
       "      <td>0.020688</td>\n",
       "      <td>0.981354</td>\n",
       "      <td>00:00</td>\n",
       "    </tr>\n",
       "    <tr>\n",
       "      <td>37</td>\n",
       "      <td>0.015721</td>\n",
       "      <td>0.020675</td>\n",
       "      <td>0.980864</td>\n",
       "      <td>00:00</td>\n",
       "    </tr>\n",
       "    <tr>\n",
       "      <td>38</td>\n",
       "      <td>0.015258</td>\n",
       "      <td>0.020624</td>\n",
       "      <td>0.981354</td>\n",
       "      <td>00:00</td>\n",
       "    </tr>\n",
       "    <tr>\n",
       "      <td>39</td>\n",
       "      <td>0.015493</td>\n",
       "      <td>0.020543</td>\n",
       "      <td>0.981845</td>\n",
       "      <td>00:00</td>\n",
       "    </tr>\n",
       "  </tbody>\n",
       "</table>"
      ],
      "text/plain": [
       "<IPython.core.display.HTML object>"
      ]
     },
     "metadata": {},
     "output_type": "display_data"
    }
   ],
   "source": [
    "learn.fit(40, lr=0.1)"
   ]
  },
  {
   "cell_type": "code",
   "execution_count": 499,
   "metadata": {
    "ExecuteTime": {
     "end_time": "2020-11-03T22:37:53.958087Z",
     "start_time": "2020-11-03T22:37:53.816851Z"
    }
   },
   "outputs": [
    {
     "data": {
      "text/plain": [
       "[<matplotlib.lines.Line2D at 0x7f80341defa0>]"
      ]
     },
     "execution_count": 499,
     "metadata": {},
     "output_type": "execute_result"
    },
    {
     "data": {
      "image/png": "[encoded data removed]",
      "text/plain": [
       "<Figure size 432x288 with 1 Axes>"
      ]
     },
     "metadata": {
      "needs_background": "light"
     },
     "output_type": "display_data"
    }
   ],
   "source": [
    "plt.plot(L(learn.recorder.values).itemgot(2))"
   ]
  },
  {
   "cell_type": "code",
   "execution_count": 500,
   "metadata": {
    "ExecuteTime": {
     "end_time": "2020-11-03T22:38:39.184429Z",
     "start_time": "2020-11-03T22:38:39.051689Z"
    }
   },
   "outputs": [
    {
     "data": {
      "image/png": "[encoded data removed]",
      "text/plain": [
       "<Figure size 432x288 with 1 Axes>"
      ]
     },
     "metadata": {
      "needs_background": "light"
     },
     "output_type": "display_data"
    }
   ],
   "source": [
    "learn.recorder.plot_loss()"
   ]
  }
 ],
 "metadata": {
  "kernelspec": {
   "display_name": "Python 3",
   "language": "python",
   "name": "python3"
  },
  "language_info": {
   "codemirror_mode": {
    "name": "ipython",
    "version": 3
   },
   "file_extension": ".py",
   "mimetype": "text/x-python",
   "name": "python",
   "nbconvert_exporter": "python",
   "pygments_lexer": "ipython3",
   "version": "3.8.5"
  },
  "toc": {
   "base_numbering": 1,
   "nav_menu": {},
   "number_sections": true,
   "sideBar": true,
   "skip_h1_title": false,
   "title_cell": "Table of Contents",
   "title_sidebar": "Contents",
   "toc_cell": false,
   "toc_position": {},
   "toc_section_display": true,
   "toc_window_display": true
  }
 },
 "nbformat": 4,
 "nbformat_minor": 4
}
