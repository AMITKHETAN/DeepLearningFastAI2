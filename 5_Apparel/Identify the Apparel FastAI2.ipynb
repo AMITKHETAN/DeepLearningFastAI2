{
 "cells": [
  {
   "cell_type": "markdown",
   "metadata": {},
   "source": [
    "My solution for Analytics Vidhya practice hackathon [Identify The Apparel](https://datahack.analyticsvidhya.com/contest/practice-problem-identify-the-apparels/). "
   ]
  },
  {
   "cell_type": "markdown",
   "metadata": {},
   "source": [
    "## Import Libraries"
   ]
  },
  {
   "cell_type": "code",
   "execution_count": 1,
   "metadata": {
    "ExecuteTime": {
     "end_time": "2020-11-06T00:38:09.422219Z",
     "start_time": "2020-11-06T00:38:07.675023Z"
    }
   },
   "outputs": [],
   "source": [
    "from fastai.vision.all import *\n",
    "from fastai.vision.widgets import *\n",
    "from minivggnet import *"
   ]
  },
  {
   "cell_type": "markdown",
   "metadata": {
    "ExecuteTime": {
     "end_time": "2020-11-04T23:48:01.205379Z",
     "start_time": "2020-11-04T23:48:01.201877Z"
    },
    "cell_style": "split"
   },
   "source": [
    "## Import Dataset"
   ]
  },
  {
   "cell_type": "code",
   "execution_count": 2,
   "metadata": {
    "ExecuteTime": {
     "end_time": "2020-11-06T00:38:11.459635Z",
     "start_time": "2020-11-06T00:38:11.313607Z"
    }
   },
   "outputs": [
    {
     "name": "stdout",
     "output_type": "stream",
     "text": [
      "\u001b[0m\u001b[34;42mmodels\u001b[0m/  \u001b[34;42mtest\u001b[0m/  \u001b[01;32mtest.csv\u001b[0m*  \u001b[34;42mtrain\u001b[0m/  \u001b[01;32mtrain.csv\u001b[0m*\r\n"
     ]
    }
   ],
   "source": [
    "ls ../data/apparel"
   ]
  },
  {
   "cell_type": "code",
   "execution_count": 3,
   "metadata": {
    "ExecuteTime": {
     "end_time": "2020-11-06T00:38:11.885789Z",
     "start_time": "2020-11-06T00:38:11.881756Z"
    }
   },
   "outputs": [],
   "source": [
    "path = Path(\"../data/apparel\")\n",
    "Path.BASE_PATH  = None"
   ]
  },
  {
   "cell_type": "code",
   "execution_count": 4,
   "metadata": {
    "ExecuteTime": {
     "end_time": "2020-11-06T00:38:12.613118Z",
     "start_time": "2020-11-06T00:38:12.600998Z"
    }
   },
   "outputs": [
    {
     "data": {
      "text/plain": [
       "(#6) [Path('../data/apparel/.ipynb_checkpoints'),Path('../data/apparel/models'),Path('../data/apparel/test'),Path('../data/apparel/test.csv'),Path('../data/apparel/train'),Path('../data/apparel/train.csv')]"
      ]
     },
     "execution_count": 4,
     "metadata": {},
     "output_type": "execute_result"
    }
   ],
   "source": [
    "path.ls()"
   ]
  },
  {
   "cell_type": "code",
   "execution_count": 5,
   "metadata": {
    "ExecuteTime": {
     "end_time": "2020-11-06T00:38:13.661554Z",
     "start_time": "2020-11-06T00:38:13.192953Z"
    }
   },
   "outputs": [
    {
     "data": {
      "text/plain": [
       "(#60000) [Path('../data/apparel/train/1.png'),Path('../data/apparel/train/10.png'),Path('../data/apparel/train/100.png'),Path('../data/apparel/train/1000.png'),Path('../data/apparel/train/10000.png'),Path('../data/apparel/train/10001.png'),Path('../data/apparel/train/10002.png'),Path('../data/apparel/train/10003.png'),Path('../data/apparel/train/10004.png'),Path('../data/apparel/train/10005.png')...]"
      ]
     },
     "execution_count": 5,
     "metadata": {},
     "output_type": "execute_result"
    }
   ],
   "source": [
    "(path/\"train\").ls()"
   ]
  },
  {
   "cell_type": "code",
   "execution_count": 6,
   "metadata": {
    "ExecuteTime": {
     "end_time": "2020-11-06T00:38:13.846674Z",
     "start_time": "2020-11-06T00:38:13.800910Z"
    }
   },
   "outputs": [
    {
     "data": {
      "text/html": [
       "<div>\n",
       "<style scoped>\n",
       "    .dataframe tbody tr th:only-of-type {\n",
       "        vertical-align: middle;\n",
       "    }\n",
       "\n",
       "    .dataframe tbody tr th {\n",
       "        vertical-align: top;\n",
       "    }\n",
       "\n",
       "    .dataframe thead th {\n",
       "        text-align: right;\n",
       "    }\n",
       "</style>\n",
       "<table border=\"1\" class=\"dataframe\">\n",
       "  <thead>\n",
       "    <tr style=\"text-align: right;\">\n",
       "      <th></th>\n",
       "      <th>id</th>\n",
       "      <th>label</th>\n",
       "    </tr>\n",
       "  </thead>\n",
       "  <tbody>\n",
       "    <tr>\n",
       "      <th>0</th>\n",
       "      <td>train/1</td>\n",
       "      <td>9</td>\n",
       "    </tr>\n",
       "    <tr>\n",
       "      <th>1</th>\n",
       "      <td>train/2</td>\n",
       "      <td>0</td>\n",
       "    </tr>\n",
       "    <tr>\n",
       "      <th>2</th>\n",
       "      <td>train/3</td>\n",
       "      <td>0</td>\n",
       "    </tr>\n",
       "    <tr>\n",
       "      <th>3</th>\n",
       "      <td>train/4</td>\n",
       "      <td>3</td>\n",
       "    </tr>\n",
       "    <tr>\n",
       "      <th>4</th>\n",
       "      <td>train/5</td>\n",
       "      <td>0</td>\n",
       "    </tr>\n",
       "  </tbody>\n",
       "</table>\n",
       "</div>"
      ],
      "text/plain": [
       "        id  label\n",
       "0  train/1      9\n",
       "1  train/2      0\n",
       "2  train/3      0\n",
       "3  train/4      3\n",
       "4  train/5      0"
      ]
     },
     "execution_count": 6,
     "metadata": {},
     "output_type": "execute_result"
    }
   ],
   "source": [
    "train_df = pd.read_csv(path/\"train.csv\")\n",
    "train_df['id'] = train_df['id'].apply(lambda x: 'train/'+str(x))\n",
    "train_df.head()"
   ]
  },
  {
   "cell_type": "code",
   "execution_count": 7,
   "metadata": {
    "ExecuteTime": {
     "end_time": "2020-11-06T00:38:14.849316Z",
     "start_time": "2020-11-06T00:38:14.830883Z"
    }
   },
   "outputs": [
    {
     "data": {
      "text/html": [
       "<div>\n",
       "<style scoped>\n",
       "    .dataframe tbody tr th:only-of-type {\n",
       "        vertical-align: middle;\n",
       "    }\n",
       "\n",
       "    .dataframe tbody tr th {\n",
       "        vertical-align: top;\n",
       "    }\n",
       "\n",
       "    .dataframe thead th {\n",
       "        text-align: right;\n",
       "    }\n",
       "</style>\n",
       "<table border=\"1\" class=\"dataframe\">\n",
       "  <thead>\n",
       "    <tr style=\"text-align: right;\">\n",
       "      <th></th>\n",
       "      <th>id</th>\n",
       "    </tr>\n",
       "  </thead>\n",
       "  <tbody>\n",
       "    <tr>\n",
       "      <th>0</th>\n",
       "      <td>test/60001</td>\n",
       "    </tr>\n",
       "    <tr>\n",
       "      <th>1</th>\n",
       "      <td>test/60002</td>\n",
       "    </tr>\n",
       "    <tr>\n",
       "      <th>2</th>\n",
       "      <td>test/60003</td>\n",
       "    </tr>\n",
       "    <tr>\n",
       "      <th>3</th>\n",
       "      <td>test/60004</td>\n",
       "    </tr>\n",
       "    <tr>\n",
       "      <th>4</th>\n",
       "      <td>test/60005</td>\n",
       "    </tr>\n",
       "  </tbody>\n",
       "</table>\n",
       "</div>"
      ],
      "text/plain": [
       "           id\n",
       "0  test/60001\n",
       "1  test/60002\n",
       "2  test/60003\n",
       "3  test/60004\n",
       "4  test/60005"
      ]
     },
     "execution_count": 7,
     "metadata": {},
     "output_type": "execute_result"
    }
   ],
   "source": [
    "test_df = pd.read_csv(path/\"test.csv\")\n",
    "test_df['id'] = test_df['id'].apply(lambda x: 'test/'+str(x))\n",
    "test_df.head()"
   ]
  },
  {
   "cell_type": "markdown",
   "metadata": {},
   "source": [
    "## Full Training - MiniVGGnet"
   ]
  },
  {
   "cell_type": "code",
   "execution_count": 8,
   "metadata": {
    "ExecuteTime": {
     "end_time": "2020-11-06T00:38:21.780435Z",
     "start_time": "2020-11-06T00:38:21.773751Z"
    }
   },
   "outputs": [],
   "source": [
    "def get_x(r): return Path(str(path/r['id'])+'.png')\n",
    "def get_y(r): return r['label']\n",
    "apparel = DataBlock(\n",
    "    blocks=(ImageBlock(cls=PILImageBW), CategoryBlock),\n",
    "    splitter=RandomSplitter(valid_pct=0.00000001),\n",
    "    get_x= get_x,\n",
    "    get_y=get_y,\n",
    "    item_tfms = Resize(size=[28,28]),\n",
    "    batch_tfms = None\n",
    ")"
   ]
  },
  {
   "cell_type": "code",
   "execution_count": 9,
   "metadata": {
    "ExecuteTime": {
     "end_time": "2020-11-06T00:38:34.035522Z",
     "start_time": "2020-11-06T00:38:22.787071Z"
    }
   },
   "outputs": [],
   "source": [
    "dls = apparel.dataloaders(train_df, bs=128)\n",
    "test_dls= dls.test_dl(test_df)"
   ]
  },
  {
   "cell_type": "code",
   "execution_count": 10,
   "metadata": {
    "ExecuteTime": {
     "end_time": "2020-11-06T00:38:34.075985Z",
     "start_time": "2020-11-06T00:38:34.038400Z"
    }
   },
   "outputs": [],
   "source": [
    "vgg_learner = Learner(\n",
    "    dls = dls, \n",
    "    model=MiniVGGNet(batch_norm=True, size=28, n_class=dls.c), \n",
    "    pretrained=False, \n",
    "    loss_func=F.cross_entropy, \n",
    "    model_dir=path/\"models\",\n",
    "    metrics=accuracy)"
   ]
  },
  {
   "cell_type": "code",
   "execution_count": 11,
   "metadata": {
    "ExecuteTime": {
     "end_time": "2020-11-06T00:46:28.653094Z",
     "start_time": "2020-11-06T00:38:34.078559Z"
    }
   },
   "outputs": [
    {
     "data": {
      "text/html": [
       "<table border=\"1\" class=\"dataframe\">\n",
       "  <thead>\n",
       "    <tr style=\"text-align: left;\">\n",
       "      <th>epoch</th>\n",
       "      <th>train_loss</th>\n",
       "      <th>valid_loss</th>\n",
       "      <th>accuracy</th>\n",
       "      <th>time</th>\n",
       "    </tr>\n",
       "  </thead>\n",
       "  <tbody>\n",
       "    <tr>\n",
       "      <td>0</td>\n",
       "      <td>0.382078</td>\n",
       "      <td>None</td>\n",
       "      <td>None</td>\n",
       "      <td>00:46</td>\n",
       "    </tr>\n",
       "    <tr>\n",
       "      <td>1</td>\n",
       "      <td>0.333816</td>\n",
       "      <td>None</td>\n",
       "      <td>None</td>\n",
       "      <td>00:48</td>\n",
       "    </tr>\n",
       "    <tr>\n",
       "      <td>2</td>\n",
       "      <td>0.308210</td>\n",
       "      <td>None</td>\n",
       "      <td>None</td>\n",
       "      <td>00:47</td>\n",
       "    </tr>\n",
       "    <tr>\n",
       "      <td>3</td>\n",
       "      <td>0.263027</td>\n",
       "      <td>None</td>\n",
       "      <td>None</td>\n",
       "      <td>00:48</td>\n",
       "    </tr>\n",
       "    <tr>\n",
       "      <td>4</td>\n",
       "      <td>0.242905</td>\n",
       "      <td>None</td>\n",
       "      <td>None</td>\n",
       "      <td>00:46</td>\n",
       "    </tr>\n",
       "    <tr>\n",
       "      <td>5</td>\n",
       "      <td>0.207888</td>\n",
       "      <td>None</td>\n",
       "      <td>None</td>\n",
       "      <td>00:48</td>\n",
       "    </tr>\n",
       "    <tr>\n",
       "      <td>6</td>\n",
       "      <td>0.177964</td>\n",
       "      <td>None</td>\n",
       "      <td>None</td>\n",
       "      <td>00:47</td>\n",
       "    </tr>\n",
       "    <tr>\n",
       "      <td>7</td>\n",
       "      <td>0.144030</td>\n",
       "      <td>None</td>\n",
       "      <td>None</td>\n",
       "      <td>00:48</td>\n",
       "    </tr>\n",
       "    <tr>\n",
       "      <td>8</td>\n",
       "      <td>0.111531</td>\n",
       "      <td>None</td>\n",
       "      <td>None</td>\n",
       "      <td>00:47</td>\n",
       "    </tr>\n",
       "    <tr>\n",
       "      <td>9</td>\n",
       "      <td>0.099558</td>\n",
       "      <td>None</td>\n",
       "      <td>None</td>\n",
       "      <td>00:47</td>\n",
       "    </tr>\n",
       "  </tbody>\n",
       "</table>"
      ],
      "text/plain": [
       "<IPython.core.display.HTML object>"
      ]
     },
     "metadata": {},
     "output_type": "display_data"
    },
    {
     "name": "stderr",
     "output_type": "stream",
     "text": [
      "/home/aaagraw/anaconda3/envs/fastai/lib/python3.8/site-packages/fastprogress/fastprogress.py:74: UserWarning: Your generator is empty.\n",
      "  warn(\"Your generator is empty.\")\n"
     ]
    }
   ],
   "source": [
    "vgg_learner.fit_one_cycle(10, 1e-2)"
   ]
  },
  {
   "cell_type": "code",
   "execution_count": 58,
   "metadata": {
    "ExecuteTime": {
     "end_time": "2020-11-05T22:49:19.637180Z",
     "start_time": "2020-11-05T22:49:18.914605Z"
    }
   },
   "outputs": [],
   "source": [
    "vgg_learner.export(path/'models/stg1-minivgg.pkl')"
   ]
  },
  {
   "cell_type": "code",
   "execution_count": 12,
   "metadata": {
    "ExecuteTime": {
     "end_time": "2020-11-06T00:51:15.037051Z",
     "start_time": "2020-11-06T00:51:05.010498Z"
    }
   },
   "outputs": [
    {
     "data": {
      "text/html": [],
      "text/plain": [
       "<IPython.core.display.HTML object>"
      ]
     },
     "metadata": {},
     "output_type": "display_data"
    }
   ],
   "source": [
    "predictions = vgg_learner.get_preds(dl=test_dls)\n",
    "sub_data = test_dls.items.reset_index(drop=True).copy()\n",
    "sub_data['id'] = sub_data['id'].apply(lambda x: x.replace('test/',''))\n",
    "sub_data['label'] = np.argmax(np.array(predictions[0]), axis=1) \n",
    "sub_data.to_csv('./submission/sub_stg1minivgg_scratch_full.csv', index=False)"
   ]
  },
  {
   "cell_type": "code",
   "execution_count": 13,
   "metadata": {
    "ExecuteTime": {
     "end_time": "2020-11-06T00:55:28.343881Z",
     "start_time": "2020-11-06T00:52:14.225977Z"
    }
   },
   "outputs": [
    {
     "data": {
      "text/html": [
       "<table border=\"1\" class=\"dataframe\">\n",
       "  <thead>\n",
       "    <tr style=\"text-align: left;\">\n",
       "      <th>epoch</th>\n",
       "      <th>train_loss</th>\n",
       "      <th>valid_loss</th>\n",
       "      <th>accuracy</th>\n",
       "      <th>time</th>\n",
       "    </tr>\n",
       "  </thead>\n",
       "  <tbody>\n",
       "    <tr>\n",
       "      <td>0</td>\n",
       "      <td>0.103360</td>\n",
       "      <td>None</td>\n",
       "      <td>None</td>\n",
       "      <td>00:46</td>\n",
       "    </tr>\n",
       "    <tr>\n",
       "      <td>1</td>\n",
       "      <td>0.106171</td>\n",
       "      <td>None</td>\n",
       "      <td>None</td>\n",
       "      <td>00:51</td>\n",
       "    </tr>\n",
       "    <tr>\n",
       "      <td>2</td>\n",
       "      <td>0.101974</td>\n",
       "      <td>None</td>\n",
       "      <td>None</td>\n",
       "      <td>00:48</td>\n",
       "    </tr>\n",
       "    <tr>\n",
       "      <td>3</td>\n",
       "      <td>0.096003</td>\n",
       "      <td>None</td>\n",
       "      <td>None</td>\n",
       "      <td>00:46</td>\n",
       "    </tr>\n",
       "  </tbody>\n",
       "</table>"
      ],
      "text/plain": [
       "<IPython.core.display.HTML object>"
      ]
     },
     "metadata": {},
     "output_type": "display_data"
    }
   ],
   "source": [
    "vgg_learner.fit_one_cycle(4, lr_max=slice(1e-6,1e-4))"
   ]
  },
  {
   "cell_type": "code",
   "execution_count": 15,
   "metadata": {
    "ExecuteTime": {
     "end_time": "2020-11-06T03:56:29.087596Z",
     "start_time": "2020-11-06T03:52:29.413977Z"
    }
   },
   "outputs": [
    {
     "data": {
      "text/html": [
       "<table border=\"1\" class=\"dataframe\">\n",
       "  <thead>\n",
       "    <tr style=\"text-align: left;\">\n",
       "      <th>epoch</th>\n",
       "      <th>train_loss</th>\n",
       "      <th>valid_loss</th>\n",
       "      <th>accuracy</th>\n",
       "      <th>time</th>\n",
       "    </tr>\n",
       "  </thead>\n",
       "  <tbody>\n",
       "    <tr>\n",
       "      <td>0</td>\n",
       "      <td>0.099537</td>\n",
       "      <td>None</td>\n",
       "      <td>None</td>\n",
       "      <td>00:46</td>\n",
       "    </tr>\n",
       "    <tr>\n",
       "      <td>1</td>\n",
       "      <td>0.100619</td>\n",
       "      <td>None</td>\n",
       "      <td>None</td>\n",
       "      <td>00:48</td>\n",
       "    </tr>\n",
       "    <tr>\n",
       "      <td>2</td>\n",
       "      <td>0.101939</td>\n",
       "      <td>None</td>\n",
       "      <td>None</td>\n",
       "      <td>00:48</td>\n",
       "    </tr>\n",
       "    <tr>\n",
       "      <td>3</td>\n",
       "      <td>0.102386</td>\n",
       "      <td>None</td>\n",
       "      <td>None</td>\n",
       "      <td>00:47</td>\n",
       "    </tr>\n",
       "    <tr>\n",
       "      <td>4</td>\n",
       "      <td>0.095497</td>\n",
       "      <td>None</td>\n",
       "      <td>None</td>\n",
       "      <td>00:48</td>\n",
       "    </tr>\n",
       "  </tbody>\n",
       "</table>"
      ],
      "text/plain": [
       "<IPython.core.display.HTML object>"
      ]
     },
     "metadata": {},
     "output_type": "display_data"
    }
   ],
   "source": [
    "vgg_learner.fit_one_cycle(5, lr_max=1e-5)"
   ]
  },
  {
   "cell_type": "code",
   "execution_count": 17,
   "metadata": {
    "ExecuteTime": {
     "end_time": "2020-11-06T04:01:18.928153Z",
     "start_time": "2020-11-06T03:57:17.562986Z"
    }
   },
   "outputs": [
    {
     "data": {
      "text/html": [
       "<table border=\"1\" class=\"dataframe\">\n",
       "  <thead>\n",
       "    <tr style=\"text-align: left;\">\n",
       "      <th>epoch</th>\n",
       "      <th>train_loss</th>\n",
       "      <th>valid_loss</th>\n",
       "      <th>accuracy</th>\n",
       "      <th>time</th>\n",
       "    </tr>\n",
       "  </thead>\n",
       "  <tbody>\n",
       "    <tr>\n",
       "      <td>0</td>\n",
       "      <td>0.104006</td>\n",
       "      <td>None</td>\n",
       "      <td>None</td>\n",
       "      <td>00:48</td>\n",
       "    </tr>\n",
       "    <tr>\n",
       "      <td>1</td>\n",
       "      <td>0.096935</td>\n",
       "      <td>None</td>\n",
       "      <td>None</td>\n",
       "      <td>00:48</td>\n",
       "    </tr>\n",
       "    <tr>\n",
       "      <td>2</td>\n",
       "      <td>0.095320</td>\n",
       "      <td>None</td>\n",
       "      <td>None</td>\n",
       "      <td>00:48</td>\n",
       "    </tr>\n",
       "    <tr>\n",
       "      <td>3</td>\n",
       "      <td>0.099648</td>\n",
       "      <td>None</td>\n",
       "      <td>None</td>\n",
       "      <td>00:47</td>\n",
       "    </tr>\n",
       "    <tr>\n",
       "      <td>4</td>\n",
       "      <td>0.095594</td>\n",
       "      <td>None</td>\n",
       "      <td>None</td>\n",
       "      <td>00:47</td>\n",
       "    </tr>\n",
       "  </tbody>\n",
       "</table>"
      ],
      "text/plain": [
       "<IPython.core.display.HTML object>"
      ]
     },
     "metadata": {},
     "output_type": "display_data"
    }
   ],
   "source": [
    "vgg_learner.fit_one_cycle(5, lr_max=1e-5)"
   ]
  },
  {
   "cell_type": "code",
   "execution_count": 18,
   "metadata": {
    "ExecuteTime": {
     "end_time": "2020-11-06T04:01:33.816648Z",
     "start_time": "2020-11-06T04:01:25.088541Z"
    }
   },
   "outputs": [
    {
     "data": {
      "text/html": [],
      "text/plain": [
       "<IPython.core.display.HTML object>"
      ]
     },
     "metadata": {},
     "output_type": "display_data"
    }
   ],
   "source": [
    "predictions = vgg_learner.get_preds(dl=test_dls)\n",
    "sub_data = test_dls.items.reset_index(drop=True).copy()\n",
    "sub_data['id'] = sub_data['id'].apply(lambda x: x.replace('test/',''))\n",
    "sub_data['label'] = np.argmax(np.array(predictions[0]), axis=1) \n",
    "sub_data.to_csv('./submission/sub_stg2minivgg_scratch_full_further.csv', index=False)"
   ]
  }
 ],
 "metadata": {
  "kernelspec": {
   "display_name": "Python 3",
   "language": "python",
   "name": "python3"
  },
  "language_info": {
   "codemirror_mode": {
    "name": "ipython",
    "version": 3
   },
   "file_extension": ".py",
   "mimetype": "text/x-python",
   "name": "python",
   "nbconvert_exporter": "python",
   "pygments_lexer": "ipython3",
   "version": "3.8.5"
  },
  "toc": {
   "base_numbering": 1,
   "nav_menu": {},
   "number_sections": true,
   "sideBar": true,
   "skip_h1_title": false,
   "title_cell": "Table of Contents",
   "title_sidebar": "Contents",
   "toc_cell": false,
   "toc_position": {},
   "toc_section_display": true,
   "toc_window_display": false
  }
 },
 "nbformat": 4,
 "nbformat_minor": 4
}
